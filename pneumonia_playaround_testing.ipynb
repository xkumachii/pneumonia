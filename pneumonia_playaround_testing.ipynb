{
  "nbformat": 4,
  "nbformat_minor": 0,
  "metadata": {
    "accelerator": "GPU",
    "colab": {
      "name": "pneumonia_playaround_testing.ipynb",
      "provenance": [],
      "toc_visible": true,
      "machine_shape": "hm",
      "include_colab_link": true
    },
    "kernelspec": {
      "display_name": "Python 3",
      "name": "python3"
    }
  },
  "cells": [
    {
      "cell_type": "markdown",
      "metadata": {
        "id": "view-in-github",
        "colab_type": "text"
      },
      "source": [
        "<a href=\"https://colab.research.google.com/github/xkumachii/pneumonia/blob/MERGER/pneumonia_playaround_testing.ipynb\" target=\"_parent\"><img src=\"https://colab.research.google.com/assets/colab-badge.svg\" alt=\"Open In Colab\"/></a>"
      ]
    },
    {
      "cell_type": "code",
      "metadata": {
        "id": "irHjP3XzPJia"
      },
      "source": [
        "import numpy as np\n",
        "\n",
        "import os\n",
        "\n",
        "import tensorflow as tf\n",
        "from tensorflow.keras import Model, Input, models, layers\n",
        "from tensorflow.keras.utils import get_file\n",
        "from tensorflow.keras.applications.vgg16 import VGG16, preprocess_input, decode_predictions\n",
        "from tensorflow.keras.applications.xception import Xception\n",
        "from tensorflow.keras.utils import to_categorical\n",
        "from tensorflow.keras.preprocessing import image\n",
        "from tensorflow.keras import backend as K\n",
        "from tensorflow.keras.layers.experimental import preprocessing\n",
        "from keras.preprocessing.image import ImageDataGenerator, array_to_img,img_to_array, load_img\n",
        "\n",
        "from IPython.display import Image\n",
        "import matplotlib.pyplot as plt\n",
        "import matplotlib.cm as cm\n",
        "\n",
        "import cv2"
      ],
      "execution_count": null,
      "outputs": []
    },
    {
      "cell_type": "code",
      "metadata": {
        "id": "gP3eVoGlZfXn"
      },
      "source": [
        "! pip install -q kaggle\n",
        "from google.colab import files"
      ],
      "execution_count": null,
      "outputs": []
    },
    {
      "cell_type": "code",
      "metadata": {
        "colab": {
          "resources": {
            "http://localhost:8080/nbextensions/google.colab/files.js": {
              "data": "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",
              "ok": true,
              "headers": [
                [
                  "content-type",
                  "application/javascript"
                ]
              ],
              "status": 200,
              "status_text": ""
            }
          },
          "base_uri": "https://localhost:8080/",
          "height": 91
        },
        "id": "fFJGH9QTZfZ2",
        "outputId": "d1d4c90e-d169-4c71-c089-6a102aa4d5bd"
      },
      "source": [
        "# 1.) check your kaggle account \n",
        "# 2.) go to edit profile\n",
        "# 3.) create a new api token\n",
        "# 4.) upload your kaggle.json file here\n",
        "# 5.) for any retesting, keep your json file, and do not regenerate your api token unless absolutely needed\n",
        "files.upload()"
      ],
      "execution_count": null,
      "outputs": [
        {
          "output_type": "display_data",
          "data": {
            "text/html": [
              "\n",
              "     <input type=\"file\" id=\"files-15fa0e7c-ef89-4e61-8f71-81b29a79e488\" name=\"files[]\" multiple disabled\n",
              "        style=\"border:none\" />\n",
              "     <output id=\"result-15fa0e7c-ef89-4e61-8f71-81b29a79e488\">\n",
              "      Upload widget is only available when the cell has been executed in the\n",
              "      current browser session. Please rerun this cell to enable.\n",
              "      </output>\n",
              "      <script src=\"/nbextensions/google.colab/files.js\"></script> "
            ],
            "text/plain": [
              "<IPython.core.display.HTML object>"
            ]
          },
          "metadata": {
            "tags": []
          }
        },
        {
          "output_type": "stream",
          "text": [
            "Saving kaggle.json to kaggle (1).json\n"
          ],
          "name": "stdout"
        },
        {
          "output_type": "execute_result",
          "data": {
            "text/plain": [
              "{'kaggle.json': b'{\"username\":\"kumachii\",\"key\":\"f8cd305bf4afae205ea340858ca16b92\"}'}"
            ]
          },
          "metadata": {
            "tags": []
          },
          "execution_count": 21
        }
      ]
    },
    {
      "cell_type": "code",
      "metadata": {
        "id": "qJcKiqmcZfcL"
      },
      "source": [
        "!mkdir -p ~/.kaggle\n",
        "!cp kaggle.json ~/.kaggle/\n",
        "!chmod 600 ~/.kaggle/kaggle.json"
      ],
      "execution_count": null,
      "outputs": []
    },
    {
      "cell_type": "code",
      "metadata": {
        "colab": {
          "base_uri": "https://localhost:8080/"
        },
        "id": "qATALTfzZfe5",
        "outputId": "fbcdfb65-fb14-49cf-e0f1-75438d622f79"
      },
      "source": [
        "!kaggle datasets download -d paultimothymooney/chest-xray-pneumonia"
      ],
      "execution_count": null,
      "outputs": [
        {
          "output_type": "stream",
          "text": [
            "chest-xray-pneumonia.zip: Skipping, found more recently modified local copy (use --force to force download)\n"
          ],
          "name": "stdout"
        }
      ]
    },
    {
      "cell_type": "code",
      "metadata": {
        "colab": {
          "base_uri": "https://localhost:8080/"
        },
        "id": "P_9XYUWPZfg-",
        "outputId": "74955769-e240-4323-9daf-129f7da40a4e"
      },
      "source": [
        "!ls"
      ],
      "execution_count": null,
      "outputs": [
        {
          "output_type": "stream",
          "text": [
            " chest-xray-pneumonia.zip  'kaggle (1).json'   sample_data\n",
            " files\t\t\t    kaggle.json\n"
          ],
          "name": "stdout"
        }
      ]
    },
    {
      "cell_type": "code",
      "metadata": {
        "id": "z2geZtk3ZfjX"
      },
      "source": [
        "import zipfile\n",
        "zip_ref = zipfile.ZipFile(\"chest-xray-pneumonia.zip\", \"r\")\n",
        "zip_ref.extractall(\"files\")\n",
        "zip_ref.close()"
      ],
      "execution_count": null,
      "outputs": []
    },
    {
      "cell_type": "code",
      "metadata": {
        "colab": {
          "base_uri": "https://localhost:8080/"
        },
        "id": "kJjA8rNHZfmY",
        "outputId": "fdf2d4ab-d03c-4d5d-e249-6c9099e1af97"
      },
      "source": [
        "!ls"
      ],
      "execution_count": null,
      "outputs": [
        {
          "output_type": "stream",
          "text": [
            " chest-xray-pneumonia.zip  'kaggle (1).json'   sample_data\n",
            " files\t\t\t    kaggle.json\n"
          ],
          "name": "stdout"
        }
      ]
    },
    {
      "cell_type": "code",
      "metadata": {
        "id": "rdvtJZgBUUnn",
        "colab": {
          "base_uri": "https://localhost:8080/"
        },
        "outputId": "365dbc75-5a9d-48f4-8fab-bf7fbff4c2e6"
      },
      "source": [
        ""
      ],
      "execution_count": null,
      "outputs": [
        {
          "output_type": "stream",
          "text": [
            "/content/files/chest_xray/train\n",
            "/content/files/chest_xray/train/PNEUMONIA\n",
            "/content/files/chest_xray/train\n",
            "BACTERIA  NORMAL  VIRUS\n",
            "/content/files/chest_xray/test\n",
            "/content/files/chest_xray/test/PNEUMONIA\n",
            "/content/files/chest_xray/test\n",
            "/content\n"
          ],
          "name": "stdout"
        }
      ]
    },
    {
      "cell_type": "code",
      "metadata": {
        "id": "KZ7dSexMcnEt"
      },
      "source": [
        ""
      ],
      "execution_count": null,
      "outputs": []
    },
    {
      "cell_type": "markdown",
      "metadata": {
        "id": "Ysa0AWnZI4R3"
      },
      "source": [
        "# X-ray Image Classification "
      ]
    },
    {
      "cell_type": "markdown",
      "metadata": {
        "id": "9Af6MkovKLUB"
      },
      "source": [
        "This notebook will demonstrate the diagnosis of pneumonia, and different types of pneumonia using Convolutional Neural Networks. \n",
        "\n",
        "The dataset we are working with is of various X-ray images of Chinese pediatric patients' lungs, sourced from Kaggle.\n"
      ]
    },
    {
      "cell_type": "code",
      "metadata": {
        "id": "vING_1ZI1npp",
        "colab": {
          "base_uri": "https://localhost:8080/",
          "height": 731
        },
        "outputId": "2957a49b-3572-4971-d757-9e691ee31ef9"
      },
      "source": [
        "# The local path to the target image\n",
        "img_path = \"/content/files/chest_xray/train/PNEUMONIA/person1945_bacteria_4872.jpeg\"\n",
        "\n",
        "display(Image(img_path))"
      ],
      "execution_count": null,
      "outputs": [
        {
          "output_type": "display_data",
          "data": {
            "image/jpeg": "[encoded data removed]",
            "text/plain": [
              "<IPython.core.display.Image object>"
            ]
          },
          "metadata": {
            "tags": []
          }
        }
      ]
    },
    {
      "cell_type": "markdown",
      "metadata": {
        "id": "_FBJKhIuKgWg"
      },
      "source": [
        "Stuff about preprocessing"
      ]
    },
    {
      "cell_type": "code",
      "metadata": {
        "id": "0-Ti8q8vLF85"
      },
      "source": [
        "# # unused, taken from https://keras.io/examples/vision/xray_classification_with_tpus/. go delete this\n",
        "\n",
        "def get_label(file_path):\n",
        "    # convert the path to a list of path components\n",
        "    parts = tf.strings.split(file_path, \"/\")\n",
        "    # The second to last is the class-directory\n",
        "    return parts[-2] == \"PNEUMONIA\"\n",
        "\n",
        "\n",
        "def decode_img(img):\n",
        "    # convert the compressed string to a 3D uint8 tensor\n",
        "     img = tf.image.decode_jpeg(img, channels=3)\n",
        "     # resize the image to the desired size.\n",
        "     return tf.image.resize(img, (4,4))\n",
        "\n",
        "\n",
        "def process_path(image, path):\n",
        "     label = get_label(path)\n",
        "     # # load the raw data from the file as a string\n",
        "     img = decode_img(image)\n",
        "     return img, label"
      ],
      "execution_count": null,
      "outputs": []
    },
    {
      "cell_type": "markdown",
      "metadata": {
        "id": "OqQaCH8uDjHC"
      },
      "source": [
        "# Binary Classification\n",
        "\n",
        "For our first model, we will first take the images from our drive, and preprocess them into data that can be fed into a CNN.\n",
        "\n",
        "For this section, we will focus on predicting whether a patient has pneumonia or not."
      ]
    },
    {
      "cell_type": "code",
      "metadata": {
        "id": "nx_-IEhrLGGK"
      },
      "source": [
        "def load_data(path):\n",
        "\n",
        "  imgs = []\n",
        "  labels = np.array([])\n",
        "\n",
        "  for dir in [\"NORMAL\", \"PNEUMONIA\"]:\n",
        "    temp_path = path + \"/\" + dir\n",
        "    counter = 0\n",
        "    for f in os.listdir(temp_path):\n",
        "      # To reduce training costs, the images are resized to 200x200.\n",
        "      img = image.load_img(temp_path + \"/\" + f, target_size=(150,150))\n",
        "      x = image.img_to_array(img)\n",
        "      imgs.append(x)\n",
        "      labels = np.append(labels, [int(dir == 'PNEUMONIA')])\n",
        "\n",
        "      # to check progress:\n",
        "      \n",
        "      if (counter % 500 == 0):\n",
        "        print(\"Files loaded for \" + path + \": \" + str(counter))\n",
        "      counter += 1\n",
        "   \n",
        "\n",
        "  imgs = np.asarray(imgs)\n",
        "  # normalize our data from values 0-1\n",
        "  #imgs /= 255\n",
        "  print(imgs.shape) # left there for debug\n",
        "  return imgs, labels\n"
      ],
      "execution_count": null,
      "outputs": []
    },
    {
      "cell_type": "code",
      "metadata": {
        "id": "t2C6yvNoLGLU",
        "colab": {
          "base_uri": "https://localhost:8080/"
        },
        "outputId": "665609d4-376f-44d5-dae9-9c1a37a112b6"
      },
      "source": [
        "# validation data was used as training data to debug things\n",
        "X_train, y_train = load_data(\"/content/files/chest_xray/train\")\n",
        "X_test, y_test = load_data(\"/content/files/chest_xray/test\")\n",
        "# X_val, y_val = load_data(\"/content/files/chest_xray/val\")"
      ],
      "execution_count": null,
      "outputs": [
        {
          "output_type": "stream",
          "text": [
            "Files loaded for /content/files/chest_xray/train: 0\n",
            "Files loaded for /content/files/chest_xray/train: 500\n",
            "Files loaded for /content/files/chest_xray/train: 1000\n",
            "Files loaded for /content/files/chest_xray/train: 0\n",
            "Files loaded for /content/files/chest_xray/train: 500\n",
            "Files loaded for /content/files/chest_xray/train: 1000\n",
            "Files loaded for /content/files/chest_xray/train: 1500\n",
            "Files loaded for /content/files/chest_xray/train: 2000\n",
            "Files loaded for /content/files/chest_xray/train: 2500\n",
            "Files loaded for /content/files/chest_xray/train: 3000\n",
            "Files loaded for /content/files/chest_xray/train: 3500\n",
            "(5216, 150, 150, 3)\n",
            "Files loaded for /content/files/chest_xray/test: 0\n",
            "Files loaded for /content/files/chest_xray/test: 0\n",
            "(624, 150, 150, 3)\n"
          ],
          "name": "stdout"
        }
      ]
    },
    {
      "cell_type": "code",
      "metadata": {
        "id": "PYro6r-N2PAU"
      },
      "source": [
        "def get_img_array(img_path, size):\r\n",
        "    # `img` is a PIL image of size 299x299\r\n",
        "    img = load_img(img_path, target_size=size)\r\n",
        "    # `array` is a float32 Numpy array of shape (299, 299, 3)\r\n",
        "    array = img_to_array(img)\r\n",
        "    # We add a dimension to transform our array into a \"batch\"\r\n",
        "    # of size (1, 299, 299, 3)\r\n",
        "    array = np.expand_dims(array, axis=0)\r\n",
        "    return array"
      ],
      "execution_count": null,
      "outputs": []
    },
    {
      "cell_type": "markdown",
      "metadata": {
        "id": "eeioOJhBK0ja"
      },
      "source": [
        "## Rudimentary CNN\n",
        "\n",
        "We will be testing our data on a simple 5-layer CNN."
      ]
    },
    {
      "cell_type": "code",
      "metadata": {
        "id": "cDgRNGJALeGM"
      },
      "source": [
        "K.clear_session()\n",
        "\n",
        "model = models.Sequential()\n",
        "\n",
        "model.add(layers.Conv2D(32, (3, 3), activation='relu', input_shape=(150, 150, 3)))\n",
        "model.add(layers.Activation('relu'))\n",
        "model.add(layers.MaxPooling2D((2, 2)))\n",
        "\n",
        "model.add(layers.Conv2D(32, (3, 3), activation='relu'))\n",
        "model.add(layers.Activation('relu'))\n",
        "model.add(layers.MaxPooling2D((2, 2)))\n",
        "\n",
        "\n",
        "model.add(layers.Conv2D(64, (3, 3), activation='relu'))\n",
        "model.add(layers.Activation('relu'))\n",
        "model.add(layers.MaxPooling2D((2, 2)))\n",
        "\n",
        "model.add(layers.Conv2D(64, (3, 3), activation='relu'))\n",
        "model.add(layers.Activation('relu'))\n",
        "model.add(layers.MaxPooling2D((2, 2)))\n",
        "\n",
        "\n",
        "model.add(layers.Flatten())\n",
        "model.add(layers.Dense(64))\n",
        "model.add(layers.Activation('relu'))\n",
        "model.add(layers.Dropout(0.5))\n",
        "model.add(layers.Dense(1,activation='sigmoid'))"
      ],
      "execution_count": null,
      "outputs": []
    },
    {
      "cell_type": "code",
      "metadata": {
        "id": "Y1Dim82MxZay",
        "colab": {
          "base_uri": "https://localhost:8080/"
        },
        "outputId": "9f62d729-1e8d-48eb-d11d-3df182f51031"
      },
      "source": [
        "model.summary()"
      ],
      "execution_count": null,
      "outputs": [
        {
          "output_type": "stream",
          "text": [
            "Model: \"sequential\"\n",
            "_________________________________________________________________\n",
            "Layer (type)                 Output Shape              Param #   \n",
            "=================================================================\n",
            "conv2d (Conv2D)              (None, 148, 148, 32)      896       \n",
            "_________________________________________________________________\n",
            "activation (Activation)      (None, 148, 148, 32)      0         \n",
            "_________________________________________________________________\n",
            "max_pooling2d (MaxPooling2D) (None, 74, 74, 32)        0         \n",
            "_________________________________________________________________\n",
            "conv2d_1 (Conv2D)            (None, 72, 72, 32)        9248      \n",
            "_________________________________________________________________\n",
            "activation_1 (Activation)    (None, 72, 72, 32)        0         \n",
            "_________________________________________________________________\n",
            "max_pooling2d_1 (MaxPooling2 (None, 36, 36, 32)        0         \n",
            "_________________________________________________________________\n",
            "conv2d_2 (Conv2D)            (None, 34, 34, 64)        18496     \n",
            "_________________________________________________________________\n",
            "activation_2 (Activation)    (None, 34, 34, 64)        0         \n",
            "_________________________________________________________________\n",
            "max_pooling2d_2 (MaxPooling2 (None, 17, 17, 64)        0         \n",
            "_________________________________________________________________\n",
            "conv2d_3 (Conv2D)            (None, 15, 15, 64)        36928     \n",
            "_________________________________________________________________\n",
            "activation_3 (Activation)    (None, 15, 15, 64)        0         \n",
            "_________________________________________________________________\n",
            "max_pooling2d_3 (MaxPooling2 (None, 7, 7, 64)          0         \n",
            "_________________________________________________________________\n",
            "flatten (Flatten)            (None, 3136)              0         \n",
            "_________________________________________________________________\n",
            "dense (Dense)                (None, 64)                200768    \n",
            "_________________________________________________________________\n",
            "activation_4 (Activation)    (None, 64)                0         \n",
            "_________________________________________________________________\n",
            "dropout (Dropout)            (None, 64)                0         \n",
            "_________________________________________________________________\n",
            "dense_1 (Dense)              (None, 1)                 65        \n",
            "=================================================================\n",
            "Total params: 266,401\n",
            "Trainable params: 266,401\n",
            "Non-trainable params: 0\n",
            "_________________________________________________________________\n"
          ],
          "name": "stdout"
        }
      ]
    },
    {
      "cell_type": "code",
      "metadata": {
        "id": "jVnvCr5OCmH_"
      },
      "source": [
        "model.compile(optimizer='rmsprop',\r\n",
        "              loss='binary_crossentropy',\r\n",
        "              metrics=['accuracy'])"
      ],
      "execution_count": null,
      "outputs": []
    },
    {
      "cell_type": "code",
      "metadata": {
        "id": "fpGa8s7CobAl",
        "colab": {
          "base_uri": "https://localhost:8080/"
        },
        "outputId": "81968583-e590-473a-bfaf-824b732988f1"
      },
      "source": [
        "batch_size = 32\n",
        "\n",
        "traingen = ImageDataGenerator(\n",
        "    rescale= 1./255,\n",
        "    rotation_range =45,\n",
        "    shear_range=0.2,\n",
        "    zoom_range=0.2,\n",
        "    horizontal_flip = True\n",
        "\n",
        ")\n",
        "\n",
        "testgen = ImageDataGenerator(rescale=1./255)\n",
        "\n",
        "train_generator = traingen.flow_from_directory(\n",
        "        \"/content/files/chest_xray/train\",\n",
        "        target_size=(150, 150),\n",
        "        batch_size=32,\n",
        "        class_mode='binary')\n",
        "validation_generator = testgen.flow_from_directory(\n",
        "        \"/content/files/chest_xray/test\",\n",
        "        target_size=(150, 150),\n",
        "        batch_size=32,\n",
        "        class_mode='binary')\n",
        "\n",
        "history = model.fit(train_generator,steps_per_epoch=(X_train.shape[0]//batch_size),epochs=20,validation_data=validation_generator,validation_steps=X_test.shape[0]//batch_size)\n"
      ],
      "execution_count": null,
      "outputs": [
        {
          "output_type": "stream",
          "text": [
            "Found 5216 images belonging to 2 classes.\n",
            "Found 624 images belonging to 2 classes.\n",
            "Epoch 1/20\n",
            "163/163 [==============================] - 84s 515ms/step - loss: 0.5892 - accuracy: 0.7508 - val_loss: 0.5265 - val_accuracy: 0.6628\n",
            "Epoch 2/20\n",
            "163/163 [==============================] - 84s 515ms/step - loss: 0.3750 - accuracy: 0.8403 - val_loss: 0.3058 - val_accuracy: 0.8701\n",
            "Epoch 3/20\n",
            "163/163 [==============================] - 86s 525ms/step - loss: 0.3067 - accuracy: 0.8756 - val_loss: 0.3332 - val_accuracy: 0.8750\n",
            "Epoch 4/20\n",
            "163/163 [==============================] - 86s 527ms/step - loss: 0.2742 - accuracy: 0.8959 - val_loss: 0.3864 - val_accuracy: 0.8569\n",
            "Epoch 5/20\n",
            "163/163 [==============================] - 86s 526ms/step - loss: 0.2416 - accuracy: 0.9074 - val_loss: 0.2953 - val_accuracy: 0.8947\n",
            "Epoch 6/20\n",
            "163/163 [==============================] - 85s 523ms/step - loss: 0.2220 - accuracy: 0.9147 - val_loss: 0.2681 - val_accuracy: 0.9079\n",
            "Epoch 7/20\n",
            "163/163 [==============================] - 85s 520ms/step - loss: 0.1986 - accuracy: 0.9248 - val_loss: 0.2903 - val_accuracy: 0.9046\n",
            "Epoch 8/20\n",
            "163/163 [==============================] - 85s 520ms/step - loss: 0.1929 - accuracy: 0.9291 - val_loss: 0.3223 - val_accuracy: 0.8882\n",
            "Epoch 9/20\n",
            "163/163 [==============================] - 85s 520ms/step - loss: 0.1889 - accuracy: 0.9317 - val_loss: 0.3670 - val_accuracy: 0.8816\n",
            "Epoch 10/20\n",
            "163/163 [==============================] - 86s 525ms/step - loss: 0.1791 - accuracy: 0.9344 - val_loss: 0.3017 - val_accuracy: 0.8799\n",
            "Epoch 11/20\n",
            "163/163 [==============================] - 84s 516ms/step - loss: 0.1776 - accuracy: 0.9381 - val_loss: 0.2917 - val_accuracy: 0.8931\n",
            "Epoch 12/20\n",
            "163/163 [==============================] - 84s 515ms/step - loss: 0.1809 - accuracy: 0.9337 - val_loss: 0.3689 - val_accuracy: 0.8766\n",
            "Epoch 13/20\n",
            "163/163 [==============================] - 85s 520ms/step - loss: 0.1712 - accuracy: 0.9365 - val_loss: 0.3642 - val_accuracy: 0.8816\n",
            "Epoch 14/20\n",
            "163/163 [==============================] - 85s 523ms/step - loss: 0.1628 - accuracy: 0.9406 - val_loss: 0.2191 - val_accuracy: 0.9227\n",
            "Epoch 15/20\n",
            "163/163 [==============================] - 84s 516ms/step - loss: 0.1574 - accuracy: 0.9471 - val_loss: 0.2332 - val_accuracy: 0.9227\n",
            "Epoch 16/20\n",
            "163/163 [==============================] - 83s 512ms/step - loss: 0.1535 - accuracy: 0.9423 - val_loss: 0.3742 - val_accuracy: 0.8750\n",
            "Epoch 17/20\n",
            "163/163 [==============================] - 83s 511ms/step - loss: 0.1605 - accuracy: 0.9448 - val_loss: 0.3077 - val_accuracy: 0.9178\n",
            "Epoch 18/20\n",
            "163/163 [==============================] - 84s 512ms/step - loss: 0.1541 - accuracy: 0.9459 - val_loss: 0.5212 - val_accuracy: 0.8487\n",
            "Epoch 19/20\n",
            "163/163 [==============================] - 83s 512ms/step - loss: 0.1588 - accuracy: 0.9469 - val_loss: 0.3059 - val_accuracy: 0.9062\n",
            "Epoch 20/20\n",
            "163/163 [==============================] - 84s 513ms/step - loss: 0.1533 - accuracy: 0.9467 - val_loss: 0.3312 - val_accuracy: 0.9161\n"
          ],
          "name": "stdout"
        }
      ]
    },
    {
      "cell_type": "code",
      "metadata": {
        "id": "R9_3MSNT5sxb",
        "colab": {
          "base_uri": "https://localhost:8080/"
        },
        "outputId": "68122b82-4db2-4479-beb3-24e3719119de"
      },
      "source": [
        "model.evaluate_generator(validation_generator, 50, workers=1)"
      ],
      "execution_count": null,
      "outputs": [
        {
          "output_type": "stream",
          "text": [
            "WARNING:tensorflow:From <ipython-input-37-897fad84aa70>:1: Model.evaluate_generator (from tensorflow.python.keras.engine.training) is deprecated and will be removed in a future version.\n",
            "Instructions for updating:\n",
            "Please use Model.evaluate, which supports generators.\n",
            "WARNING:tensorflow:Your input ran out of data; interrupting training. Make sure that your dataset or generator can generate at least `steps_per_epoch * epochs` batches (in this case, 50 batches). You may need to use the repeat() function when building your dataset.\n"
          ],
          "name": "stdout"
        },
        {
          "output_type": "execute_result",
          "data": {
            "text/plain": [
              "[0.32544320821762085, 0.9166666865348816]"
            ]
          },
          "metadata": {
            "tags": []
          },
          "execution_count": 37
        }
      ]
    },
    {
      "cell_type": "code",
      "metadata": {
        "id": "FT5B_V9J9uET"
      },
      "source": [
        "# our code has a 91% validation accuracy on test data"
      ],
      "execution_count": null,
      "outputs": []
    },
    {
      "cell_type": "code",
      "metadata": {
        "colab": {
          "base_uri": "https://localhost:8080/"
        },
        "id": "MTmFmm1s3ElA",
        "outputId": "f7820b4c-1a00-497d-bef3-79d8066c4fb6"
      },
      "source": [
        "img_array = preprocess_input(get_img_array(\"/content/files/chest_xray/train/PNEUMONIA/person1945_bacteria_4872.jpeg\", size=(150,150)))\r\n",
        "preds = model.predict(np.expand_dims(X_test[600], axis=0))\r\n",
        "print(\"Predicted:\", (preds))"
      ],
      "execution_count": null,
      "outputs": [
        {
          "output_type": "stream",
          "text": [
            "Predicted: [[1.]]\n"
          ],
          "name": "stdout"
        }
      ]
    },
    {
      "cell_type": "code",
      "metadata": {
        "id": "vOYRZ3UoL6YY",
        "colab": {
          "base_uri": "https://localhost:8080/",
          "height": 545
        },
        "outputId": "59779edf-da7b-4407-bcac-70d652ab3aff"
      },
      "source": [
        "import matplotlib.pyplot as plt\n",
        "\n",
        "acc = history.history['accuracy']\n",
        "val_acc = history.history['val_accuracy']\n",
        "loss = history.history['loss']\n",
        "val_loss = history.history['val_loss']\n",
        "\n",
        "epochs = range(1, len(acc) + 1)\n",
        "\n",
        "plt.plot(epochs, acc, 'bo', label='Training accuracy')\n",
        "plt.plot(epochs, val_acc, 'b', label='Validation accuracy')\n",
        "plt.title('Training and validation accuracy')\n",
        "plt.legend()\n",
        "\n",
        "plt.figure()\n",
        "\n",
        "plt.plot(epochs, loss, 'bo', label='Training loss')\n",
        "plt.plot(epochs, val_loss, 'b', label='Validation loss')\n",
        "plt.title('Training and validation loss')\n",
        "plt.legend()\n",
        "\n",
        "plt.show()"
      ],
      "execution_count": null,
      "outputs": [
        {
          "output_type": "display_data",
          "data": {
            "image/png": "[encoded data removed]",
            "text/plain": [
              "<Figure size 432x288 with 1 Axes>"
            ]
          },
          "metadata": {
            "tags": [],
            "needs_background": "light"
          }
        },
        {
          "output_type": "display_data",
          "data": {
            "image/png": "[encoded data removed]",
            "text/plain": [
              "<Figure size 432x288 with 1 Axes>"
            ]
          },
          "metadata": {
            "tags": [],
            "needs_background": "light"
          }
        }
      ]
    },
    {
      "cell_type": "code",
      "metadata": {
        "id": "Wf7U8_44xeiZ"
      },
      "source": [
        "# model.compile(optimizer='rmsprop',\n",
        "#               loss='binary_crossentropy',\n",
        "#               metrics=['accuracy'])\n",
        "# history = model.fit(X_train, y_train, epochs=10, batch_size=32, validation_data=(X_test, y_test))\n",
        "# model.fit(X_val, y_val, epochs=15, batch_size=32) #this line is for debug purposes\n",
        "\n",
        "# things to consider\n",
        "# cost function for false negatives and false positives\n",
        "# slightly unbalanced data set -- oversample? undersample? both?\n",
        "# three-way classification section\n"
      ],
      "execution_count": null,
      "outputs": []
    },
    {
      "cell_type": "markdown",
      "metadata": {
        "id": "8_t2z_GVQJgi"
      },
      "source": [
        "We graph our stuff here"
      ]
    },
    {
      "cell_type": "markdown",
      "metadata": {
        "id": "ku3lehdpCInu"
      },
      "source": [
        "##Imbalanced Data"
      ]
    },
    {
      "cell_type": "code",
      "metadata": {
        "id": "WbxW2J76CNTd"
      },
      "source": [
        "from sklearn.utils import class_weight\n",
        "class_weight = class_weight.compute_class_weight('balanced',np.unique(y_train),y_train)\n",
        "print(class_weight)"
      ],
      "execution_count": null,
      "outputs": []
    },
    {
      "cell_type": "code",
      "metadata": {
        "id": "nIyabjtyClga"
      },
      "source": [
        "class_weight = {0:1.94, 1:0.67}\n",
        "print(class_weight)"
      ],
      "execution_count": null,
      "outputs": []
    },
    {
      "cell_type": "code",
      "metadata": {
        "id": "Z3UFreOxHXPL"
      },
      "source": [
        "model = models.Sequential()\n",
        "model.add(layers.Conv2D(32, (3, 3), activation='relu', input_shape=(299, 299, 3)))\n",
        "model.add(layers.MaxPooling2D((2, 2)))\n",
        "model.add(layers.Conv2D(64, (3, 3), activation='relu'))\n",
        "model.add(layers.MaxPooling2D((2, 2)))\n",
        "model.add(layers.Conv2D(64, (3, 3), activation='relu'))\n",
        "model.add(layers.Flatten())\n",
        "model.add(layers.Dense(1,activation='sigmoid'))"
      ],
      "execution_count": null,
      "outputs": []
    },
    {
      "cell_type": "code",
      "metadata": {
        "id": "IGsL_e05HjQb"
      },
      "source": [
        "model.compile(optimizer='rmsprop',\n",
        "              loss='binary_crossentropy',\n",
        "              metrics=['accuracy'])\n",
        "history = model.fit(X_train, y_train, epochs=15, batch_size=32, validation_data=(X_test, y_test),class_weight=class_weight)"
      ],
      "execution_count": null,
      "outputs": []
    },
    {
      "cell_type": "code",
      "metadata": {
        "id": "gYZGFIVaIJff"
      },
      "source": [
        "model= tf.keras.applications.Xception(\n",
        "    include_top=True,\n",
        "    weights=None,\n",
        "    input_tensor=None,\n",
        "    input_shape=None,\n",
        "    pooling=max,\n",
        "    classes = 2,\n",
        "    classifier_activation=\"softmax\",\n",
        ")"
      ],
      "execution_count": null,
      "outputs": []
    },
    {
      "cell_type": "code",
      "metadata": {
        "id": "B5SaAo9CTQgN"
      },
      "source": [
        "opt=tf.keras.optimizers.Adam(\n",
        "    learning_rate=0.015,\n",
        "    name=\"Adam\",\n",
        "\n",
        ")"
      ],
      "execution_count": null,
      "outputs": []
    },
    {
      "cell_type": "code",
      "metadata": {
        "id": "z5qG3PUoIPZz"
      },
      "source": [
        "model.compile(optimizer=opt,\n",
        "              loss='binary_crossentropy',\n",
        "              metrics=['accuracy'])\n",
        "history = model.fit(X_train, y_train, epochs=15, batch_size=32, validation_data=(X_test, y_test),class_weight=class_weight)"
      ],
      "execution_count": null,
      "outputs": []
    },
    {
      "cell_type": "code",
      "metadata": {
        "id": "TvBEr9HiVAMP"
      },
      "source": [
        "!pip install imblearn "
      ],
      "execution_count": null,
      "outputs": []
    },
    {
      "cell_type": "code",
      "metadata": {
        "id": "PjbxgpeoVJOM"
      },
      "source": [
        "from imblearn.over_sampling import SMOTE\n",
        "smote = SMOTE(random_state=0)\n",
        "\n",
        "#X_train_S, y_train_S = smote.fit_sample(X_train,y_train)\n",
        "\n",
        "\n",
        "print(X_train[1])"
      ],
      "execution_count": null,
      "outputs": []
    },
    {
      "cell_type": "code",
      "metadata": {
        "id": "ywtwIZFlVfuy"
      },
      "source": [
        "from collections import Counter\n",
        "print(Counter(y_train_S))"
      ],
      "execution_count": null,
      "outputs": []
    },
    {
      "cell_type": "code",
      "metadata": {
        "id": "NcyvdODRG-k3"
      },
      "source": [
        "def get_img_array(img_path, size):\n",
        "    # `img` is a PIL image of size 299x299\n",
        "    img = tf.keras.preprocessing.image.load_img(img_path, target_size=size)\n",
        "    # `array` is a float32 Numpy array of shape (299, 299, 3)\n",
        "    array = tf.keras.preprocessing.image.img_to_array(img)\n",
        "    # We add a dimension to transform our array into a \"batch\"\n",
        "    # of size (1, 299, 299, 3)\n",
        "    array = np.expand_dims(array, axis=0)\n",
        "    return array"
      ],
      "execution_count": null,
      "outputs": []
    },
    {
      "cell_type": "code",
      "metadata": {
        "id": "t8p0Q9KlHABb"
      },
      "source": [
        "last_conv_layer_name = \"block14_sepconv2_act\"\n",
        "classifier_layer_names = [\n",
        "    \"avg_pool\",\n",
        "    \"predictions\",\n",
        "]\n",
        "img_array = preprocess_input(get_img_array(img_path, size = (299, 299)))\n",
        "\n",
        "\n",
        "last_conv_layer = model.get_layer(last_conv_layer_name)\n",
        "last_conv_layer_model = tf.keras.Model(model.inputs, last_conv_layer.output)\n",
        "\n",
        "# Second, we create a model that maps the activations of the last conv\n",
        "# layer to the final class predictions\n",
        "classifier_input = tf.keras.Input(shape=last_conv_layer.output.shape[1:])\n",
        "x = classifier_input\n",
        "for layer_name in classifier_layer_names:\n",
        "    x = model.get_layer(layer_name)(x)\n",
        "classifier_model = tf.keras.Model(classifier_input, x)\n",
        "\n",
        "# Then, we compute the gradient of the top predicted class for our input image\n",
        "# with respect to the activations of the last conv layer\n",
        "with tf.GradientTape() as tape:\n",
        "    # Compute activations of the last conv layer and make the tape watch it\n",
        "    last_conv_layer_output = last_conv_layer_model(img_array)\n",
        "    tape.watch(last_conv_layer_output)\n",
        "    # Compute class predictions\n",
        "    preds = classifier_model(last_conv_layer_output)\n",
        "    top_pred_index = tf.argmax(preds[0])\n",
        "    top_class_channel = preds[:, top_pred_index]\n",
        "\n",
        "# This is the gradient of the top predicted class with regard to\n",
        "# the output feature map of the last conv layer\n",
        "grads = tape.gradient(top_class_channel, last_conv_layer_output)\n",
        "\n",
        "# This is a vector where each entry is the mean intensity of the gradient\n",
        "# over a specific feature map channel\n",
        "pooled_grads = tf.reduce_mean(grads, axis=(0, 1, 2))\n",
        "\n",
        "# We multiply each channel in the feature map array\n",
        "# by \"how important this channel is\" with regard to the top predicted class\n",
        "last_conv_layer_output = last_conv_layer_output.numpy()[0]\n",
        "pooled_grads = pooled_grads.numpy()\n",
        "for i in range(pooled_grads.shape[-1]):\n",
        "    last_conv_layer_output[:, :, i] *= pooled_grads[i]\n",
        "\n",
        "# The channel-wise mean of the resulting feature map\n",
        "# is our heatmap of class activation\n",
        "heatmap = np.mean(last_conv_layer_output, axis=-1)\n",
        "\n",
        "# For visualization purpose, we will also normalize the heatmap between 0 & 1\n",
        "heatmap = np.maximum(heatmap, 0) / np.max(heatmap)\n",
        "\n",
        "plt.matshow(heatmap)"
      ],
      "execution_count": null,
      "outputs": []
    },
    {
      "cell_type": "code",
      "metadata": {
        "id": "dZ0qcUbAHJgy"
      },
      "source": [
        "# We load the original image\n",
        "img = tf.keras.preprocessing.image.load_img(img_path)\n",
        "img = tf.keras.preprocessing.image.img_to_array(img)\n",
        "\n",
        "# We rescale heatmap to a range 0-255\n",
        "heatmap = np.uint8(255 * heatmap)\n",
        "\n",
        "# We use jet colormap to colorize heatmap\n",
        "jet = cm.get_cmap(\"jet\")\n",
        "\n",
        "# We use RGB values of the colormap\n",
        "jet_colors = jet(np.arange(256))[:, :3]\n",
        "jet_heatmap = jet_colors[heatmap]\n",
        "\n",
        "# We create an image with RGB colorized heatmap\n",
        "jet_heatmap = tf.keras.preprocessing.image.array_to_img(jet_heatmap)\n",
        "jet_heatmap = jet_heatmap.resize((img.shape[1], img.shape[0]))\n",
        "jet_heatmap = tf.keras.preprocessing.image.img_to_array(jet_heatmap)\n",
        "\n",
        "# Superimpose the heatmap on original image\n",
        "superimposed_img = jet_heatmap * 0.4 + img\n",
        "superimposed_img = tf.keras.preprocessing.image.array_to_img(superimposed_img)\n",
        "\n",
        "# Save the superimposed image\n",
        "save_path = \"pneumonia_cam.jpg\"\n",
        "superimposed_img.save(save_path)\n",
        "\n",
        "# Display Grad CAM\n",
        "display(Image(save_path))"
      ],
      "execution_count": null,
      "outputs": []
    },
    {
      "cell_type": "markdown",
      "metadata": {
        "id": "dP3ctC8ERXHD"
      },
      "source": [
        "# Three-Way Classification\n",
        "\n",
        "We will now be processing our data such that we will also be taking into consideration, the type of pneumonia one can be diagnosed with -- bacterial and viral."
      ]
    },
    {
      "cell_type": "code",
      "metadata": {
        "id": "y9odK_pyRjDi"
      },
      "source": [
        "def load_data_2(path):\n",
        "  imgs = []\n",
        "  labels = []\n",
        "\n",
        "  for dir in [\"NORMAL\", \"PNEUMONIA\"]:\n",
        "    temp_path = path + \"/\" + dir\n",
        "    counter = 0\n",
        "    for f in os.listdir(temp_path):\n",
        "      # To reduce training costs, the images are resized to 200x200.\n",
        "      img = image.load_img(temp_path + \"/\" + f, target_size=(299,299))\n",
        "      x = image.img_to_array(img)\n",
        "      imgs.append(x)\n",
        "\n",
        "      # one-hot encoded labels\n",
        "      labels.append([(not ('bacteria' in f or 'virus' in f)), int('bacteria' in f), int('virus' in f)])\n",
        "\n",
        "\n",
        "      # to check progress:\n",
        "      \n",
        "      if (counter % 500 == 0):\n",
        "        print(\"Files loaded for \" + path + \": \" + str(counter))\n",
        "      counter += 1\n",
        "\n",
        "      \n",
        "\n",
        "  imgs = np.asarray(imgs)\n",
        "  labels = np.asarray(labels)\n",
        "  # normalize our data from values 0-1\n",
        "  imgs /= 255\n",
        "  print(imgs.shape) # left there for debug\n",
        "  return imgs, labels"
      ],
      "execution_count": null,
      "outputs": []
    },
    {
      "cell_type": "code",
      "metadata": {
        "id": "9cg-t5Dh79gE",
        "colab": {
          "base_uri": "https://localhost:8080/",
          "height": 407
        },
        "outputId": "61131aae-4659-43d6-df10-69c4dc4b75b5"
      },
      "source": [
        "X_train, y_train = load_data_2(\"/content/files/chest_xray/train\")\n",
        "X_test, y_test = load_data_2(\"/content/files/chest_xray/test\")\n",
        "X_val, y_val = load_data_2(\"/content/files/chest_xray/val\")\n",
        "print(y_test)"
      ],
      "execution_count": null,
      "outputs": [
        {
          "output_type": "stream",
          "text": [
            "Files loaded for /content/files/chest_xray/train: 0\n",
            "Files loaded for /content/files/chest_xray/train: 500\n",
            "Files loaded for /content/files/chest_xray/train: 1000\n"
          ],
          "name": "stdout"
        },
        {
          "output_type": "error",
          "ename": "FileNotFoundError",
          "evalue": "ignored",
          "traceback": [
            "\u001b[0;31m---------------------------------------------------------------------------\u001b[0m",
            "\u001b[0;31mFileNotFoundError\u001b[0m                         Traceback (most recent call last)",
            "\u001b[0;32m<ipython-input-66-b5f8a6e7b906>\u001b[0m in \u001b[0;36m<module>\u001b[0;34m()\u001b[0m\n\u001b[0;32m----> 1\u001b[0;31m \u001b[0mX_train\u001b[0m\u001b[0;34m,\u001b[0m \u001b[0my_train\u001b[0m \u001b[0;34m=\u001b[0m \u001b[0mload_data_2\u001b[0m\u001b[0;34m(\u001b[0m\u001b[0;34m\"/content/files/chest_xray/train\"\u001b[0m\u001b[0;34m)\u001b[0m\u001b[0;34m\u001b[0m\u001b[0;34m\u001b[0m\u001b[0m\n\u001b[0m\u001b[1;32m      2\u001b[0m \u001b[0mX_test\u001b[0m\u001b[0;34m,\u001b[0m \u001b[0my_test\u001b[0m \u001b[0;34m=\u001b[0m \u001b[0mload_data_2\u001b[0m\u001b[0;34m(\u001b[0m\u001b[0;34m\"/content/files/chest_xray/test\"\u001b[0m\u001b[0;34m)\u001b[0m\u001b[0;34m\u001b[0m\u001b[0;34m\u001b[0m\u001b[0m\n\u001b[1;32m      3\u001b[0m \u001b[0mX_val\u001b[0m\u001b[0;34m,\u001b[0m \u001b[0my_val\u001b[0m \u001b[0;34m=\u001b[0m \u001b[0mload_data_2\u001b[0m\u001b[0;34m(\u001b[0m\u001b[0;34m\"/content/files/chest_xray/val\"\u001b[0m\u001b[0;34m)\u001b[0m\u001b[0;34m\u001b[0m\u001b[0;34m\u001b[0m\u001b[0m\n\u001b[1;32m      4\u001b[0m \u001b[0mprint\u001b[0m\u001b[0;34m(\u001b[0m\u001b[0my_test\u001b[0m\u001b[0;34m)\u001b[0m\u001b[0;34m\u001b[0m\u001b[0;34m\u001b[0m\u001b[0m\n",
            "\u001b[0;32m<ipython-input-65-7e93c053b812>\u001b[0m in \u001b[0;36mload_data_2\u001b[0;34m(path)\u001b[0m\n\u001b[1;32m      6\u001b[0m     \u001b[0mtemp_path\u001b[0m \u001b[0;34m=\u001b[0m \u001b[0mpath\u001b[0m \u001b[0;34m+\u001b[0m \u001b[0;34m\"/\"\u001b[0m \u001b[0;34m+\u001b[0m \u001b[0mdir\u001b[0m\u001b[0;34m\u001b[0m\u001b[0;34m\u001b[0m\u001b[0m\n\u001b[1;32m      7\u001b[0m     \u001b[0mcounter\u001b[0m \u001b[0;34m=\u001b[0m \u001b[0;36m0\u001b[0m\u001b[0;34m\u001b[0m\u001b[0;34m\u001b[0m\u001b[0m\n\u001b[0;32m----> 8\u001b[0;31m     \u001b[0;32mfor\u001b[0m \u001b[0mf\u001b[0m \u001b[0;32min\u001b[0m \u001b[0mos\u001b[0m\u001b[0;34m.\u001b[0m\u001b[0mlistdir\u001b[0m\u001b[0;34m(\u001b[0m\u001b[0mtemp_path\u001b[0m\u001b[0;34m)\u001b[0m\u001b[0;34m:\u001b[0m\u001b[0;34m\u001b[0m\u001b[0;34m\u001b[0m\u001b[0m\n\u001b[0m\u001b[1;32m      9\u001b[0m       \u001b[0;31m# To reduce training costs, the images are resized to 200x200.\u001b[0m\u001b[0;34m\u001b[0m\u001b[0;34m\u001b[0m\u001b[0;34m\u001b[0m\u001b[0m\n\u001b[1;32m     10\u001b[0m       \u001b[0mimg\u001b[0m \u001b[0;34m=\u001b[0m \u001b[0mimage\u001b[0m\u001b[0;34m.\u001b[0m\u001b[0mload_img\u001b[0m\u001b[0;34m(\u001b[0m\u001b[0mtemp_path\u001b[0m \u001b[0;34m+\u001b[0m \u001b[0;34m\"/\"\u001b[0m \u001b[0;34m+\u001b[0m \u001b[0mf\u001b[0m\u001b[0;34m,\u001b[0m \u001b[0mtarget_size\u001b[0m\u001b[0;34m=\u001b[0m\u001b[0;34m(\u001b[0m\u001b[0;36m299\u001b[0m\u001b[0;34m,\u001b[0m\u001b[0;36m299\u001b[0m\u001b[0;34m)\u001b[0m\u001b[0;34m)\u001b[0m\u001b[0;34m\u001b[0m\u001b[0;34m\u001b[0m\u001b[0m\n",
            "\u001b[0;31mFileNotFoundError\u001b[0m: [Errno 2] No such file or directory: '/content/files/chest_xray/train/PNEUMONIA'"
          ]
        }
      ]
    },
    {
      "cell_type": "markdown",
      "metadata": {
        "id": "VTmSiN48XfZa"
      },
      "source": [
        "We will now prepare our dataset for keras's datagen_from_directory."
      ]
    },
    {
      "cell_type": "code",
      "metadata": {
        "id": "nC_1P8jwXeuk",
        "colab": {
          "base_uri": "https://localhost:8080/"
        },
        "outputId": "9769145c-600f-4499-ee84-2908cc6c1126"
      },
      "source": [
        "# prepare three-way categorical data for training\r\n",
        "%cd files/chest_xray/train\r\n",
        "!mkdir VIRUS\r\n",
        "!mkdir BACTERIA\r\n",
        "%cd PNEUMONIA\r\n",
        "!bash -c 'mv *bacteria*.jpeg ../BACTERIA'\r\n",
        "!bash -c 'mv *virus*.jpeg ../VIRUS'\r\n",
        "%cd ..\r\n",
        "!rmdir PNEUMONIA\r\n",
        "!ls\r\n",
        "\r\n",
        "# prepare three-way categorical data for training\r\n",
        "%cd ../test\r\n",
        "!mkdir VIRUS\r\n",
        "!mkdir BACTERIA\r\n",
        "%cd PNEUMONIA\r\n",
        "!bash -c 'mv *bacteria*.jpeg ../BACTERIA'\r\n",
        "!bash -c 'mv *virus*.jpeg ../VIRUS'\r\n",
        "%cd ..\r\n",
        "!rmdir PNEUMONIA\r\n",
        "%cd ../../.."
      ],
      "execution_count": null,
      "outputs": [
        {
          "output_type": "stream",
          "text": [
            "/content/files/chest_xray/train\n",
            "/content/files/chest_xray/train/PNEUMONIA\n",
            "/content/files/chest_xray/train\n",
            "BACTERIA  NORMAL  VIRUS\n",
            "/content/files/chest_xray/test\n",
            "/content/files/chest_xray/test/PNEUMONIA\n",
            "/content/files/chest_xray/test\n",
            "/content\n"
          ],
          "name": "stdout"
        }
      ]
    },
    {
      "cell_type": "code",
      "metadata": {
        "id": "mG-6-YJoXfBv",
        "colab": {
          "base_uri": "https://localhost:8080/"
        },
        "outputId": "4b0c972e-e727-4699-c059-84f09a1bfeb5"
      },
      "source": [
        "from keras.preprocessing.image import ImageDataGenerator, array_to_img,img_to_array, load_img\r\n",
        "\r\n",
        "batch_size = 128\r\n",
        "\r\n",
        "traingen = ImageDataGenerator(\r\n",
        "    rescale= 1./255,\r\n",
        "    rotation_range =45,\r\n",
        "    shear_range=0.2,\r\n",
        "    zoom_range=0.2,\r\n",
        "    horizontal_flip = True\r\n",
        "\r\n",
        ")\r\n",
        "\r\n",
        "testgen = ImageDataGenerator(rescale=1./255)\r\n",
        "\r\n",
        "train_generator = traingen.flow_from_directory(\r\n",
        "        \"/content/files/chest_xray/train\",\r\n",
        "        target_size=(150, 150),\r\n",
        "        color_mode=\"grayscale\",\r\n",
        "        batch_size=32,\r\n",
        "        class_mode='categorical')\r\n",
        "validation_generator = testgen.flow_from_directory(\r\n",
        "        \"/content/files/chest_xray/test\",\r\n",
        "        target_size=(150, 150),\r\n",
        "        color_mode=\"grayscale\",\r\n",
        "        batch_size=32,\r\n",
        "        class_mode='categorical')"
      ],
      "execution_count": null,
      "outputs": [
        {
          "output_type": "stream",
          "text": [
            "Found 5216 images belonging to 3 classes.\n",
            "Found 624 images belonging to 3 classes.\n"
          ],
          "name": "stdout"
        }
      ]
    },
    {
      "cell_type": "code",
      "metadata": {
        "id": "J3JqnnNphg7O"
      },
      "source": [
        "K.clear_session()\r\n",
        "\r\n",
        "model = models.Sequential()\r\n",
        "\r\n",
        "model.add(layers.Conv2D(32, (3, 3), activation='relu', input_shape=(150, 150, 1)))\r\n",
        "model.add(layers.Activation('relu'))\r\n",
        "model.add(layers.MaxPooling2D((2, 2)))\r\n",
        "\r\n",
        "model.add(layers.Conv2D(32, (3, 3), activation='relu'))\r\n",
        "model.add(layers.Activation('relu'))\r\n",
        "model.add(layers.MaxPooling2D((2, 2)))\r\n",
        "\r\n",
        "\r\n",
        "model.add(layers.Conv2D(64, (3, 3), activation='relu'))\r\n",
        "model.add(layers.Activation('relu'))\r\n",
        "model.add(layers.MaxPooling2D((2, 2)))\r\n",
        "\r\n",
        "model.add(layers.Conv2D(64, (3, 3), activation='relu'))\r\n",
        "model.add(layers.Activation('relu'))\r\n",
        "model.add(layers.MaxPooling2D((2, 2)))\r\n",
        "\r\n",
        "\r\n",
        "model.add(layers.Flatten())\r\n",
        "model.add(layers.Dense(64))\r\n",
        "model.add(layers.Activation('relu'))\r\n",
        "model.add(layers.Dropout(0.5))\r\n",
        "model.add(layers.Dense(3,activation='softmax'))\r\n",
        "\r\n",
        "\r\n",
        "model.compile(optimizer='rmsprop',\r\n",
        "              loss='categorical_crossentropy',\r\n",
        "              metrics=['accuracy'])"
      ],
      "execution_count": null,
      "outputs": []
    },
    {
      "cell_type": "code",
      "metadata": {
        "colab": {
          "base_uri": "https://localhost:8080/"
        },
        "id": "felWtYtBh8An",
        "outputId": "76cacfaa-6c15-4acf-c160-436759db7504"
      },
      "source": [
        "model.summary()"
      ],
      "execution_count": null,
      "outputs": [
        {
          "output_type": "stream",
          "text": [
            "Model: \"sequential\"\n",
            "_________________________________________________________________\n",
            "Layer (type)                 Output Shape              Param #   \n",
            "=================================================================\n",
            "conv2d (Conv2D)              (None, 148, 148, 32)      320       \n",
            "_________________________________________________________________\n",
            "activation (Activation)      (None, 148, 148, 32)      0         \n",
            "_________________________________________________________________\n",
            "max_pooling2d (MaxPooling2D) (None, 74, 74, 32)        0         \n",
            "_________________________________________________________________\n",
            "conv2d_1 (Conv2D)            (None, 72, 72, 32)        9248      \n",
            "_________________________________________________________________\n",
            "activation_1 (Activation)    (None, 72, 72, 32)        0         \n",
            "_________________________________________________________________\n",
            "max_pooling2d_1 (MaxPooling2 (None, 36, 36, 32)        0         \n",
            "_________________________________________________________________\n",
            "conv2d_2 (Conv2D)            (None, 34, 34, 64)        18496     \n",
            "_________________________________________________________________\n",
            "activation_2 (Activation)    (None, 34, 34, 64)        0         \n",
            "_________________________________________________________________\n",
            "max_pooling2d_2 (MaxPooling2 (None, 17, 17, 64)        0         \n",
            "_________________________________________________________________\n",
            "conv2d_3 (Conv2D)            (None, 15, 15, 64)        36928     \n",
            "_________________________________________________________________\n",
            "activation_3 (Activation)    (None, 15, 15, 64)        0         \n",
            "_________________________________________________________________\n",
            "max_pooling2d_3 (MaxPooling2 (None, 7, 7, 64)          0         \n",
            "_________________________________________________________________\n",
            "flatten (Flatten)            (None, 3136)              0         \n",
            "_________________________________________________________________\n",
            "dense (Dense)                (None, 64)                200768    \n",
            "_________________________________________________________________\n",
            "activation_4 (Activation)    (None, 64)                0         \n",
            "_________________________________________________________________\n",
            "dropout (Dropout)            (None, 64)                0         \n",
            "_________________________________________________________________\n",
            "dense_1 (Dense)              (None, 3)                 195       \n",
            "=================================================================\n",
            "Total params: 265,955\n",
            "Trainable params: 265,955\n",
            "Non-trainable params: 0\n",
            "_________________________________________________________________\n"
          ],
          "name": "stdout"
        }
      ]
    },
    {
      "cell_type": "code",
      "metadata": {
        "colab": {
          "base_uri": "https://localhost:8080/",
          "height": 376
        },
        "id": "LQimtX9riRXD",
        "outputId": "719f32ea-10fc-479a-a56e-25acc785455e"
      },
      "source": [
        "history = model.fit(train_generator,steps_per_epoch=(X_train.shape[0]//batch_size),epochs=20,validation_data=validation_generator,validation_steps=X_test.shape[0]//batch_size)"
      ],
      "execution_count": null,
      "outputs": [
        {
          "output_type": "stream",
          "text": [
            "Epoch 1/20\n",
            "29/40 [====================>.........] - ETA: 3s - loss: 1.0764 - accuracy: 0.4709"
          ],
          "name": "stdout"
        },
        {
          "output_type": "error",
          "ename": "KeyboardInterrupt",
          "evalue": "ignored",
          "traceback": [
            "\u001b[0;31m---------------------------------------------------------------------------\u001b[0m",
            "\u001b[0;31mKeyboardInterrupt\u001b[0m                         Traceback (most recent call last)",
            "\u001b[0;32m<ipython-input-64-08609c34394a>\u001b[0m in \u001b[0;36m<module>\u001b[0;34m()\u001b[0m\n\u001b[0;32m----> 1\u001b[0;31m \u001b[0mhistory\u001b[0m \u001b[0;34m=\u001b[0m \u001b[0mmodel\u001b[0m\u001b[0;34m.\u001b[0m\u001b[0mfit\u001b[0m\u001b[0;34m(\u001b[0m\u001b[0mtrain_generator\u001b[0m\u001b[0;34m,\u001b[0m\u001b[0msteps_per_epoch\u001b[0m\u001b[0;34m=\u001b[0m\u001b[0;34m(\u001b[0m\u001b[0mX_train\u001b[0m\u001b[0;34m.\u001b[0m\u001b[0mshape\u001b[0m\u001b[0;34m[\u001b[0m\u001b[0;36m0\u001b[0m\u001b[0;34m]\u001b[0m\u001b[0;34m//\u001b[0m\u001b[0mbatch_size\u001b[0m\u001b[0;34m)\u001b[0m\u001b[0;34m,\u001b[0m\u001b[0mepochs\u001b[0m\u001b[0;34m=\u001b[0m\u001b[0;36m20\u001b[0m\u001b[0;34m,\u001b[0m\u001b[0mvalidation_data\u001b[0m\u001b[0;34m=\u001b[0m\u001b[0mvalidation_generator\u001b[0m\u001b[0;34m,\u001b[0m\u001b[0mvalidation_steps\u001b[0m\u001b[0;34m=\u001b[0m\u001b[0mX_test\u001b[0m\u001b[0;34m.\u001b[0m\u001b[0mshape\u001b[0m\u001b[0;34m[\u001b[0m\u001b[0;36m0\u001b[0m\u001b[0;34m]\u001b[0m\u001b[0;34m//\u001b[0m\u001b[0mbatch_size\u001b[0m\u001b[0;34m)\u001b[0m\u001b[0;34m\u001b[0m\u001b[0;34m\u001b[0m\u001b[0m\n\u001b[0m",
            "\u001b[0;32m/usr/local/lib/python3.6/dist-packages/tensorflow/python/keras/engine/training.py\u001b[0m in \u001b[0;36m_method_wrapper\u001b[0;34m(self, *args, **kwargs)\u001b[0m\n\u001b[1;32m    106\u001b[0m   \u001b[0;32mdef\u001b[0m \u001b[0m_method_wrapper\u001b[0m\u001b[0;34m(\u001b[0m\u001b[0mself\u001b[0m\u001b[0;34m,\u001b[0m \u001b[0;34m*\u001b[0m\u001b[0margs\u001b[0m\u001b[0;34m,\u001b[0m \u001b[0;34m**\u001b[0m\u001b[0mkwargs\u001b[0m\u001b[0;34m)\u001b[0m\u001b[0;34m:\u001b[0m\u001b[0;34m\u001b[0m\u001b[0;34m\u001b[0m\u001b[0m\n\u001b[1;32m    107\u001b[0m     \u001b[0;32mif\u001b[0m \u001b[0;32mnot\u001b[0m \u001b[0mself\u001b[0m\u001b[0;34m.\u001b[0m\u001b[0m_in_multi_worker_mode\u001b[0m\u001b[0;34m(\u001b[0m\u001b[0;34m)\u001b[0m\u001b[0;34m:\u001b[0m  \u001b[0;31m# pylint: disable=protected-access\u001b[0m\u001b[0;34m\u001b[0m\u001b[0;34m\u001b[0m\u001b[0m\n\u001b[0;32m--> 108\u001b[0;31m       \u001b[0;32mreturn\u001b[0m \u001b[0mmethod\u001b[0m\u001b[0;34m(\u001b[0m\u001b[0mself\u001b[0m\u001b[0;34m,\u001b[0m \u001b[0;34m*\u001b[0m\u001b[0margs\u001b[0m\u001b[0;34m,\u001b[0m \u001b[0;34m**\u001b[0m\u001b[0mkwargs\u001b[0m\u001b[0;34m)\u001b[0m\u001b[0;34m\u001b[0m\u001b[0;34m\u001b[0m\u001b[0m\n\u001b[0m\u001b[1;32m    109\u001b[0m \u001b[0;34m\u001b[0m\u001b[0m\n\u001b[1;32m    110\u001b[0m     \u001b[0;31m# Running inside `run_distribute_coordinator` already.\u001b[0m\u001b[0;34m\u001b[0m\u001b[0;34m\u001b[0m\u001b[0;34m\u001b[0m\u001b[0m\n",
            "\u001b[0;32m/usr/local/lib/python3.6/dist-packages/tensorflow/python/keras/engine/training.py\u001b[0m in \u001b[0;36mfit\u001b[0;34m(self, x, y, batch_size, epochs, verbose, callbacks, validation_split, validation_data, shuffle, class_weight, sample_weight, initial_epoch, steps_per_epoch, validation_steps, validation_batch_size, validation_freq, max_queue_size, workers, use_multiprocessing)\u001b[0m\n\u001b[1;32m   1096\u001b[0m                 batch_size=batch_size):\n\u001b[1;32m   1097\u001b[0m               \u001b[0mcallbacks\u001b[0m\u001b[0;34m.\u001b[0m\u001b[0mon_train_batch_begin\u001b[0m\u001b[0;34m(\u001b[0m\u001b[0mstep\u001b[0m\u001b[0;34m)\u001b[0m\u001b[0;34m\u001b[0m\u001b[0;34m\u001b[0m\u001b[0m\n\u001b[0;32m-> 1098\u001b[0;31m               \u001b[0mtmp_logs\u001b[0m \u001b[0;34m=\u001b[0m \u001b[0mtrain_function\u001b[0m\u001b[0;34m(\u001b[0m\u001b[0miterator\u001b[0m\u001b[0;34m)\u001b[0m\u001b[0;34m\u001b[0m\u001b[0;34m\u001b[0m\u001b[0m\n\u001b[0m\u001b[1;32m   1099\u001b[0m               \u001b[0;32mif\u001b[0m \u001b[0mdata_handler\u001b[0m\u001b[0;34m.\u001b[0m\u001b[0mshould_sync\u001b[0m\u001b[0;34m:\u001b[0m\u001b[0;34m\u001b[0m\u001b[0;34m\u001b[0m\u001b[0m\n\u001b[1;32m   1100\u001b[0m                 \u001b[0mcontext\u001b[0m\u001b[0;34m.\u001b[0m\u001b[0masync_wait\u001b[0m\u001b[0;34m(\u001b[0m\u001b[0;34m)\u001b[0m\u001b[0;34m\u001b[0m\u001b[0;34m\u001b[0m\u001b[0m\n",
            "\u001b[0;32m/usr/local/lib/python3.6/dist-packages/tensorflow/python/eager/def_function.py\u001b[0m in \u001b[0;36m__call__\u001b[0;34m(self, *args, **kwds)\u001b[0m\n\u001b[1;32m    778\u001b[0m       \u001b[0;32melse\u001b[0m\u001b[0;34m:\u001b[0m\u001b[0;34m\u001b[0m\u001b[0;34m\u001b[0m\u001b[0m\n\u001b[1;32m    779\u001b[0m         \u001b[0mcompiler\u001b[0m \u001b[0;34m=\u001b[0m \u001b[0;34m\"nonXla\"\u001b[0m\u001b[0;34m\u001b[0m\u001b[0;34m\u001b[0m\u001b[0m\n\u001b[0;32m--> 780\u001b[0;31m         \u001b[0mresult\u001b[0m \u001b[0;34m=\u001b[0m \u001b[0mself\u001b[0m\u001b[0;34m.\u001b[0m\u001b[0m_call\u001b[0m\u001b[0;34m(\u001b[0m\u001b[0;34m*\u001b[0m\u001b[0margs\u001b[0m\u001b[0;34m,\u001b[0m \u001b[0;34m**\u001b[0m\u001b[0mkwds\u001b[0m\u001b[0;34m)\u001b[0m\u001b[0;34m\u001b[0m\u001b[0;34m\u001b[0m\u001b[0m\n\u001b[0m\u001b[1;32m    781\u001b[0m \u001b[0;34m\u001b[0m\u001b[0m\n\u001b[1;32m    782\u001b[0m       \u001b[0mnew_tracing_count\u001b[0m \u001b[0;34m=\u001b[0m \u001b[0mself\u001b[0m\u001b[0;34m.\u001b[0m\u001b[0m_get_tracing_count\u001b[0m\u001b[0;34m(\u001b[0m\u001b[0;34m)\u001b[0m\u001b[0;34m\u001b[0m\u001b[0;34m\u001b[0m\u001b[0m\n",
            "\u001b[0;32m/usr/local/lib/python3.6/dist-packages/tensorflow/python/eager/def_function.py\u001b[0m in \u001b[0;36m_call\u001b[0;34m(self, *args, **kwds)\u001b[0m\n\u001b[1;32m    805\u001b[0m       \u001b[0;31m# In this case we have created variables on the first call, so we run the\u001b[0m\u001b[0;34m\u001b[0m\u001b[0;34m\u001b[0m\u001b[0;34m\u001b[0m\u001b[0m\n\u001b[1;32m    806\u001b[0m       \u001b[0;31m# defunned version which is guaranteed to never create variables.\u001b[0m\u001b[0;34m\u001b[0m\u001b[0;34m\u001b[0m\u001b[0;34m\u001b[0m\u001b[0m\n\u001b[0;32m--> 807\u001b[0;31m       \u001b[0;32mreturn\u001b[0m \u001b[0mself\u001b[0m\u001b[0;34m.\u001b[0m\u001b[0m_stateless_fn\u001b[0m\u001b[0;34m(\u001b[0m\u001b[0;34m*\u001b[0m\u001b[0margs\u001b[0m\u001b[0;34m,\u001b[0m \u001b[0;34m**\u001b[0m\u001b[0mkwds\u001b[0m\u001b[0;34m)\u001b[0m  \u001b[0;31m# pylint: disable=not-callable\u001b[0m\u001b[0;34m\u001b[0m\u001b[0;34m\u001b[0m\u001b[0m\n\u001b[0m\u001b[1;32m    808\u001b[0m     \u001b[0;32melif\u001b[0m \u001b[0mself\u001b[0m\u001b[0;34m.\u001b[0m\u001b[0m_stateful_fn\u001b[0m \u001b[0;32mis\u001b[0m \u001b[0;32mnot\u001b[0m \u001b[0;32mNone\u001b[0m\u001b[0;34m:\u001b[0m\u001b[0;34m\u001b[0m\u001b[0;34m\u001b[0m\u001b[0m\n\u001b[1;32m    809\u001b[0m       \u001b[0;31m# Release the lock early so that multiple threads can perform the call\u001b[0m\u001b[0;34m\u001b[0m\u001b[0;34m\u001b[0m\u001b[0;34m\u001b[0m\u001b[0m\n",
            "\u001b[0;32m/usr/local/lib/python3.6/dist-packages/tensorflow/python/eager/function.py\u001b[0m in \u001b[0;36m__call__\u001b[0;34m(self, *args, **kwargs)\u001b[0m\n\u001b[1;32m   2827\u001b[0m     \u001b[0;32mwith\u001b[0m \u001b[0mself\u001b[0m\u001b[0;34m.\u001b[0m\u001b[0m_lock\u001b[0m\u001b[0;34m:\u001b[0m\u001b[0;34m\u001b[0m\u001b[0;34m\u001b[0m\u001b[0m\n\u001b[1;32m   2828\u001b[0m       \u001b[0mgraph_function\u001b[0m\u001b[0;34m,\u001b[0m \u001b[0margs\u001b[0m\u001b[0;34m,\u001b[0m \u001b[0mkwargs\u001b[0m \u001b[0;34m=\u001b[0m \u001b[0mself\u001b[0m\u001b[0;34m.\u001b[0m\u001b[0m_maybe_define_function\u001b[0m\u001b[0;34m(\u001b[0m\u001b[0margs\u001b[0m\u001b[0;34m,\u001b[0m \u001b[0mkwargs\u001b[0m\u001b[0;34m)\u001b[0m\u001b[0;34m\u001b[0m\u001b[0;34m\u001b[0m\u001b[0m\n\u001b[0;32m-> 2829\u001b[0;31m     \u001b[0;32mreturn\u001b[0m \u001b[0mgraph_function\u001b[0m\u001b[0;34m.\u001b[0m\u001b[0m_filtered_call\u001b[0m\u001b[0;34m(\u001b[0m\u001b[0margs\u001b[0m\u001b[0;34m,\u001b[0m \u001b[0mkwargs\u001b[0m\u001b[0;34m)\u001b[0m  \u001b[0;31m# pylint: disable=protected-access\u001b[0m\u001b[0;34m\u001b[0m\u001b[0;34m\u001b[0m\u001b[0m\n\u001b[0m\u001b[1;32m   2830\u001b[0m \u001b[0;34m\u001b[0m\u001b[0m\n\u001b[1;32m   2831\u001b[0m   \u001b[0;34m@\u001b[0m\u001b[0mproperty\u001b[0m\u001b[0;34m\u001b[0m\u001b[0;34m\u001b[0m\u001b[0m\n",
            "\u001b[0;32m/usr/local/lib/python3.6/dist-packages/tensorflow/python/eager/function.py\u001b[0m in \u001b[0;36m_filtered_call\u001b[0;34m(self, args, kwargs, cancellation_manager)\u001b[0m\n\u001b[1;32m   1846\u001b[0m                            resource_variable_ops.BaseResourceVariable))],\n\u001b[1;32m   1847\u001b[0m         \u001b[0mcaptured_inputs\u001b[0m\u001b[0;34m=\u001b[0m\u001b[0mself\u001b[0m\u001b[0;34m.\u001b[0m\u001b[0mcaptured_inputs\u001b[0m\u001b[0;34m,\u001b[0m\u001b[0;34m\u001b[0m\u001b[0;34m\u001b[0m\u001b[0m\n\u001b[0;32m-> 1848\u001b[0;31m         cancellation_manager=cancellation_manager)\n\u001b[0m\u001b[1;32m   1849\u001b[0m \u001b[0;34m\u001b[0m\u001b[0m\n\u001b[1;32m   1850\u001b[0m   \u001b[0;32mdef\u001b[0m \u001b[0m_call_flat\u001b[0m\u001b[0;34m(\u001b[0m\u001b[0mself\u001b[0m\u001b[0;34m,\u001b[0m \u001b[0margs\u001b[0m\u001b[0;34m,\u001b[0m \u001b[0mcaptured_inputs\u001b[0m\u001b[0;34m,\u001b[0m \u001b[0mcancellation_manager\u001b[0m\u001b[0;34m=\u001b[0m\u001b[0;32mNone\u001b[0m\u001b[0;34m)\u001b[0m\u001b[0;34m:\u001b[0m\u001b[0;34m\u001b[0m\u001b[0;34m\u001b[0m\u001b[0m\n",
            "\u001b[0;32m/usr/local/lib/python3.6/dist-packages/tensorflow/python/eager/function.py\u001b[0m in \u001b[0;36m_call_flat\u001b[0;34m(self, args, captured_inputs, cancellation_manager)\u001b[0m\n\u001b[1;32m   1922\u001b[0m       \u001b[0;31m# No tape is watching; skip to running the function.\u001b[0m\u001b[0;34m\u001b[0m\u001b[0;34m\u001b[0m\u001b[0;34m\u001b[0m\u001b[0m\n\u001b[1;32m   1923\u001b[0m       return self._build_call_outputs(self._inference_function.call(\n\u001b[0;32m-> 1924\u001b[0;31m           ctx, args, cancellation_manager=cancellation_manager))\n\u001b[0m\u001b[1;32m   1925\u001b[0m     forward_backward = self._select_forward_and_backward_functions(\n\u001b[1;32m   1926\u001b[0m         \u001b[0margs\u001b[0m\u001b[0;34m,\u001b[0m\u001b[0;34m\u001b[0m\u001b[0;34m\u001b[0m\u001b[0m\n",
            "\u001b[0;32m/usr/local/lib/python3.6/dist-packages/tensorflow/python/eager/function.py\u001b[0m in \u001b[0;36mcall\u001b[0;34m(self, ctx, args, cancellation_manager)\u001b[0m\n\u001b[1;32m    548\u001b[0m               \u001b[0minputs\u001b[0m\u001b[0;34m=\u001b[0m\u001b[0margs\u001b[0m\u001b[0;34m,\u001b[0m\u001b[0;34m\u001b[0m\u001b[0;34m\u001b[0m\u001b[0m\n\u001b[1;32m    549\u001b[0m               \u001b[0mattrs\u001b[0m\u001b[0;34m=\u001b[0m\u001b[0mattrs\u001b[0m\u001b[0;34m,\u001b[0m\u001b[0;34m\u001b[0m\u001b[0;34m\u001b[0m\u001b[0m\n\u001b[0;32m--> 550\u001b[0;31m               ctx=ctx)\n\u001b[0m\u001b[1;32m    551\u001b[0m         \u001b[0;32melse\u001b[0m\u001b[0;34m:\u001b[0m\u001b[0;34m\u001b[0m\u001b[0;34m\u001b[0m\u001b[0m\n\u001b[1;32m    552\u001b[0m           outputs = execute.execute_with_cancellation(\n",
            "\u001b[0;32m/usr/local/lib/python3.6/dist-packages/tensorflow/python/eager/execute.py\u001b[0m in \u001b[0;36mquick_execute\u001b[0;34m(op_name, num_outputs, inputs, attrs, ctx, name)\u001b[0m\n\u001b[1;32m     58\u001b[0m     \u001b[0mctx\u001b[0m\u001b[0;34m.\u001b[0m\u001b[0mensure_initialized\u001b[0m\u001b[0;34m(\u001b[0m\u001b[0;34m)\u001b[0m\u001b[0;34m\u001b[0m\u001b[0;34m\u001b[0m\u001b[0m\n\u001b[1;32m     59\u001b[0m     tensors = pywrap_tfe.TFE_Py_Execute(ctx._handle, device_name, op_name,\n\u001b[0;32m---> 60\u001b[0;31m                                         inputs, attrs, num_outputs)\n\u001b[0m\u001b[1;32m     61\u001b[0m   \u001b[0;32mexcept\u001b[0m \u001b[0mcore\u001b[0m\u001b[0;34m.\u001b[0m\u001b[0m_NotOkStatusException\u001b[0m \u001b[0;32mas\u001b[0m \u001b[0me\u001b[0m\u001b[0;34m:\u001b[0m\u001b[0;34m\u001b[0m\u001b[0;34m\u001b[0m\u001b[0m\n\u001b[1;32m     62\u001b[0m     \u001b[0;32mif\u001b[0m \u001b[0mname\u001b[0m \u001b[0;32mis\u001b[0m \u001b[0;32mnot\u001b[0m \u001b[0;32mNone\u001b[0m\u001b[0;34m:\u001b[0m\u001b[0;34m\u001b[0m\u001b[0;34m\u001b[0m\u001b[0m\n",
            "\u001b[0;31mKeyboardInterrupt\u001b[0m: "
          ]
        }
      ]
    },
    {
      "cell_type": "code",
      "metadata": {
        "colab": {
          "base_uri": "https://localhost:8080/"
        },
        "id": "hb2QGr4uh9CZ",
        "outputId": "7abaeb7b-98dd-454d-eb0c-e850fb874be4"
      },
      "source": [
        "model.evaluate_generator(validation_generator, 50, workers=1)"
      ],
      "execution_count": null,
      "outputs": [
        {
          "output_type": "stream",
          "text": [
            "WARNING:tensorflow:Your input ran out of data; interrupting training. Make sure that your dataset or generator can generate at least `steps_per_epoch * epochs` batches (in this case, 50 batches). You may need to use the repeat() function when building your dataset.\n"
          ],
          "name": "stdout"
        },
        {
          "output_type": "execute_result",
          "data": {
            "text/plain": [
              "[0.5649612545967102, 0.8365384340286255]"
            ]
          },
          "metadata": {
            "tags": []
          },
          "execution_count": 42
        }
      ]
    },
    {
      "cell_type": "code",
      "metadata": {
        "id": "6gmnr8B6h9kF"
      },
      "source": [
        "bacterial_indices = np.array([i[0] == 1 and i[1] == 0 for i in y_train])\n",
        "viral_indices = np.array([i[0] == 0 and i[1] == 1 for i in y_train])\n",
        "normal_indices = np.array([i[0] == 0 and i[1] == 0 for i in y_train])\n",
        "\n",
        "print(\"train viral pneumonia cases: \" + str(viral_indices.sum()))\n",
        "print(\"train bacterial pneumonia cases: \" + str(bacterial_indices.sum()))\n",
        "print(\"train normal cases: \" + str(normal_indices.sum()))"
      ],
      "execution_count": null,
      "outputs": []
    },
    {
      "cell_type": "markdown",
      "metadata": {
        "id": "xnP5Q-tPiB5N"
      },
      "source": [
        "Since there is a significant imbalance of bacterial data compared to normal and viral data, we will be oversampling the normal and viral data accordingly."
      ]
    },
    {
      "cell_type": "code",
      "metadata": {
        "id": "cSGHz_-Bh9mh"
      },
      "source": [
        "# prepare the oversampling data\n",
        "\n",
        "X_train_normals, y_train_normals = X_train[normal_indices], y_train[normal_indices]\n",
        "X_train_viral, y_train_viral = X_train[viral_indices], y_train[viral_indices]"
      ],
      "execution_count": null,
      "outputs": []
    },
    {
      "cell_type": "code",
      "metadata": {
        "id": "IBryg887h9pJ"
      },
      "source": [
        "# in order for the data to be more or less equal, random sampling is used.\n",
        "# viral and bacterial data will be oversampled to a size of 2500 in order to\n",
        "# maintain an even ratio \n",
        "\n",
        "# this seed here is to maintain a deterministic runtime\n",
        "np.random.seed(42)\n",
        "\n",
        "normal_oversampling_indices = np.random.choice(X_train_normals.shape[0], 2500 - X_train_normals.shape[0])\n",
        "viral_oversampling_indices = np.random.choice(X_train_viral.shape[0], 2500 - X_train_viral.shape[0])\n",
        "\n",
        "print(normal_oversampling_indices)\n",
        "print(viral_oversampling_indices)"
      ],
      "execution_count": null,
      "outputs": []
    },
    {
      "cell_type": "code",
      "metadata": {
        "id": "EBILg_1ph9rT"
      },
      "source": [
        "X_train_concatenate_normal, y_train_concatenate_normal = X_train_normals[normal_oversampling_indices], y_train_normals[normal_oversampling_indices]\n",
        "X_train_concatenate_viral, y_train_concatenate_viral = X_train_viral[viral_oversampling_indices], y_train_viral[viral_oversampling_indices]\n",
        "\n",
        "# new X_train\n",
        "X_train = np.concatenate((X_train, X_train_concatenate_normal), axis=0)\n",
        "X_train = np.concatenate((X_train, X_train_concatenate_viral))\n",
        "\n",
        "\n",
        "# new Y_train\n",
        "y_train = np.concatenate((y_train, y_train_concatenate_normal))\n",
        "y_train = np.concatenate((y_train, y_train_concatenate_viral))\n",
        "\n",
        "print(X_train.shape)"
      ],
      "execution_count": null,
      "outputs": []
    },
    {
      "cell_type": "markdown",
      "metadata": {
        "id": "COhM546Tiq0E"
      },
      "source": [
        "The proportions of the data have now been rebalanced to a relatively equal distribution."
      ]
    },
    {
      "cell_type": "code",
      "metadata": {
        "id": "si9U8Sxuh9tq"
      },
      "source": [
        "bacterial_indices = np.array([i[0] == 1 and i[1] == 0 for i in y_train])\n",
        "viral_indices = np.array([i[0] == 0 and i[1] == 1 for i in y_train])\n",
        "normal_indices = np.array([i[0] == 0 and i[1] == 0 for i in y_train])\n",
        "\n",
        "print(\"train viral pneumonia cases: \" + str(viral_indices.sum()))\n",
        "print(\"train bacterial pneumonia cases: \" + str(bacterial_indices.sum()))\n",
        "print(\"train normal cases: \" + str(normal_indices.sum()))"
      ],
      "execution_count": null,
      "outputs": []
    },
    {
      "cell_type": "code",
      "metadata": {
        "id": "BWGd6_CoRo_l"
      },
      "source": [
        "# rudimentary CNN for the three-way classification\n",
        "model = models.Sequential()\n",
        "model.add(layers.Conv2D(32, (3, 3), activation='relu', input_shape=(299, 299, 3)))\n",
        "model.add(layers.MaxPooling2D((2, 2)))\n",
        "model.add(layers.Conv2D(64, (3, 3), activation='relu'))\n",
        "model.add(layers.MaxPooling2D((2, 2)))\n",
        "model.add(layers.Conv2D(64, (3, 3), activation='relu'))\n",
        "model.add(layers.Flatten())\n",
        "model.add(layers.Dense(2,activation='softmax'))"
      ],
      "execution_count": null,
      "outputs": []
    },
    {
      "cell_type": "code",
      "metadata": {
        "id": "DanYPZEL8B08"
      },
      "source": [
        "model.summary()"
      ],
      "execution_count": null,
      "outputs": []
    },
    {
      "cell_type": "code",
      "metadata": {
        "id": "XqTqEtRz8EEQ"
      },
      "source": [
        "model.compile(optimizer='rmsprop',\n",
        "              loss='categorical_crossentropy',\n",
        "              metrics=['accuracy'])\n",
        "history = model.fit(X_train, y_train, epochs=40, batch_size=32, validation_data=(X_test, y_test))"
      ],
      "execution_count": null,
      "outputs": []
    },
    {
      "cell_type": "code",
      "metadata": {
        "id": "a6Q4DWp88MDU",
        "colab": {
          "base_uri": "https://localhost:8080/",
          "height": 545
        },
        "outputId": "827ae901-8744-49d1-a693-770023d93d63"
      },
      "source": [
        "import matplotlib.pyplot as plt\n",
        "\n",
        "acc = history.history['accuracy']\n",
        "val_acc = history.history['val_accuracy']\n",
        "loss = history.history['loss']\n",
        "val_loss = history.history['val_loss']\n",
        "\n",
        "epochs = range(1, len(acc) + 1)\n",
        "\n",
        "plt.plot(epochs, acc, 'bo', label='Training accuracy')\n",
        "plt.plot(epochs, val_acc, 'b', label='Validation accuracy')\n",
        "plt.title('Training and validation accuracy')\n",
        "plt.legend()\n",
        "\n",
        "plt.figure()\n",
        "\n",
        "plt.plot(epochs, loss, 'bo', label='Training loss')\n",
        "plt.plot(epochs, val_loss, 'b', label='Validation loss')\n",
        "plt.title('Training and validation loss')\n",
        "plt.legend()\n",
        "\n",
        "plt.show()"
      ],
      "execution_count": null,
      "outputs": [
        {
          "output_type": "display_data",
          "data": {
            "image/png": "[encoded data removed]",
            "text/plain": [
              "<Figure size 432x288 with 1 Axes>"
            ]
          },
          "metadata": {
            "tags": [],
            "needs_background": "light"
          }
        },
        {
          "output_type": "display_data",
          "data": {
            "image/png": "[encoded data removed]",
            "text/plain": [
              "<Figure size 432x288 with 1 Axes>"
            ]
          },
          "metadata": {
            "tags": [],
            "needs_background": "light"
          }
        }
      ]
    },
    {
      "cell_type": "code",
      "metadata": {
        "id": "WIgP766X608N"
      },
      "source": [
        "def get_img_array(img_path, size):\r\n",
        "    # `img` is a PIL image of size 299x299\r\n",
        "    img = tf.keras.preprocessing.image.load_img(img_path, target_size=size)\r\n",
        "    # `array` is a float32 Numpy array of shape (299, 299, 3)\r\n",
        "    array = tf.keras.preprocessing.image.img_to_array(img)\r\n",
        "    # We add a dimension to transform our array into a \"batch\"\r\n",
        "    # of size (1, 299, 299, 3)\r\n",
        "    array = np.expand_dims(array, axis=0)\r\n",
        "    return array"
      ],
      "execution_count": null,
      "outputs": []
    },
    {
      "cell_type": "code",
      "metadata": {
        "id": "1bzSfk50ST7Q"
      },
      "source": [
        "# todo: heatmaps! heatmaps! heatmaps! might turn the heatmaps into a whole function unto itself.\r\n",
        "\r\n",
        "classifier_layer_names = [\r\n",
        "    \"dense_1\"\r\n",
        "]\r\n",
        "img_array = preprocess_input(get_img_array(img_path, size = (299, 299)))\r\n",
        "\r\n",
        "last_conv_layer = model.get_layer(\"block14_sepconv2_act\")\r\n",
        "last_conv_layer_model = tf.keras.Model(model.inputs, last_conv_layer.output)\r\n",
        "\r\n",
        "# Second, we create a model that maps the activations of the last conv\r\n",
        "# layer to the final class predictions\r\n",
        "classifier_input = tf.keras.Input(shape=last_conv_layer.output.shape[1:])\r\n",
        "x = classifier_input\r\n",
        "# for layer_name in classifier_layer_names:\r\n",
        "#     x = model.get_layer(layer_name)(x)\r\n",
        "classifier_model = tf.keras.Model(classifier_input, x)\r\n",
        "\r\n",
        "# Then, we compute the gradient of the top predicted class for our input image\r\n",
        "# with respect to the activations of the last conv layer\r\n",
        "with tf.GradientTape() as tape:\r\n",
        "    # Compute activations of the last conv layer and make the tape watch it\r\n",
        "    last_conv_layer_output = last_conv_layer_model(img_array)\r\n",
        "    tape.watch(last_conv_layer_output)\r\n",
        "    # Compute class predictions\r\n",
        "    preds = classifier_model(last_conv_layer_output)\r\n",
        "    top_pred_index = tf.argmax(preds[0])\r\n",
        "    # print(preds[:, top_pred_index])\r\n",
        "    top_class_channel = preds[:]\r\n",
        "\r\n",
        "# This is the gradient of the top predicted class with regard to\r\n",
        "# the output feature map of the last conv layer\r\n",
        "grads = tape.gradient(top_class_channel, last_conv_layer_output)\r\n",
        "\r\n",
        "# This is a vector where each entry is the mean intensity of the gradient\r\n",
        "# over a specific feature map channel\r\n",
        "pooled_grads = tf.reduce_mean(grads, axis=(0, 1, 2))\r\n",
        "\r\n",
        "print(pooled_grads.shape)\r\n",
        "\r\n",
        "# We multiply each channel in the feature map array\r\n",
        "# by \"how important this channel is\" with regard to the top predicted class\r\n",
        "last_conv_layer_output = last_conv_layer_output.numpy()[0]\r\n",
        "pooled_grads = pooled_grads.numpy()\r\n",
        "for i in range(pooled_grads.shape[-1]):\r\n",
        "    last_conv_layer_output[:, :, i] *= pooled_grads[i]\r\n",
        "\r\n",
        "# The channel-wise mean of the resulting feature map\r\n",
        "# is our heatmap of class activation\r\n",
        "heatmap = np.mean(last_conv_layer_output, axis=-1)\r\n",
        "\r\n",
        "# For visualization purpose, we will also normalize the heatmap between 0 & 1\r\n",
        "heatmap = np.maximum(heatmap, 0) / np.max(heatmap)\r\n",
        "\r\n",
        "plt.matshow(heatmap)"
      ],
      "execution_count": null,
      "outputs": []
    }
  ]
}