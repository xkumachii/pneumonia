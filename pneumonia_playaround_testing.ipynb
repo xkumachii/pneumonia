{
  "nbformat": 4,
  "nbformat_minor": 0,
  "metadata": {
    "accelerator": "GPU",
    "colab": {
      "name": "pneumonia_playaround_testing.ipynb",
      "provenance": [],
      "toc_visible": true,
      "machine_shape": "hm",
      "include_colab_link": true
    },
    "kernelspec": {
      "display_name": "Python 3",
      "name": "python3"
    }
  },
  "cells": [
    {
      "cell_type": "markdown",
      "metadata": {
        "id": "view-in-github",
        "colab_type": "text"
      },
      "source": [
        "<a href=\"https://colab.research.google.com/github/xkumachii/pneumonia/blob/MERGER/pneumonia_playaround_testing.ipynb\" target=\"_parent\"><img src=\"https://colab.research.google.com/assets/colab-badge.svg\" alt=\"Open In Colab\"/></a>"
      ]
    },
    {
      "cell_type": "code",
      "metadata": {
        "id": "irHjP3XzPJia"
      },
      "source": [
        "import numpy as np\n",
        "\n",
        "import os\n",
        "\n",
        "import tensorflow as tf\n",
        "from tensorflow.keras import Model, Input, models, layers\n",
        "from tensorflow.keras.utils import get_file\n",
        "from tensorflow.keras.applications.vgg16 import VGG16, preprocess_input, decode_predictions\n",
        "from tensorflow.keras.applications.xception import Xception\n",
        "from tensorflow.keras.utils import to_categorical\n",
        "from tensorflow.keras.preprocessing import image\n",
        "from tensorflow.keras import backend as K\n",
        "from tensorflow.keras.layers.experimental import preprocessing\n",
        "from keras.preprocessing.image import ImageDataGenerator, array_to_img,img_to_array, load_img\n",
        "\n",
        "from IPython.display import Image\n",
        "import matplotlib.pyplot as plt\n",
        "import matplotlib.cm as cm\n",
        "\n",
        "import cv2"
      ],
      "execution_count": 1,
      "outputs": []
    },
    {
      "cell_type": "code",
      "metadata": {
        "id": "gP3eVoGlZfXn"
      },
      "source": [
        "! pip install -q kaggle\n",
        "from google.colab import files"
      ],
      "execution_count": 2,
      "outputs": []
    },
    {
      "cell_type": "code",
      "metadata": {
        "colab": {
          "resources": {
            "http://localhost:8080/nbextensions/google.colab/files.js": {
              "data": "Ly8gQ29weXJpZ2h0IDIwMTcgR29vZ2xlIExMQwovLwovLyBMaWNlbnNlZCB1bmRlciB0aGUgQXBhY2hlIExpY2Vuc2UsIFZlcnNpb24gMi4wICh0aGUgIkxpY2Vuc2UiKTsKLy8geW91IG1heSBub3QgdXNlIHRoaXMgZmlsZSBleGNlcHQgaW4gY29tcGxpYW5jZSB3aXRoIHRoZSBMaWNlbnNlLgovLyBZb3UgbWF5IG9idGFpbiBhIGNvcHkgb2YgdGhlIExpY2Vuc2UgYXQKLy8KLy8gICAgICBodHRwOi8vd3d3LmFwYWNoZS5vcmcvbGljZW5zZXMvTElDRU5TRS0yLjAKLy8KLy8gVW5sZXNzIHJlcXVpcmVkIGJ5IGFwcGxpY2FibGUgbGF3IG9yIGFncmVlZCB0byBpbiB3cml0aW5nLCBzb2Z0d2FyZQovLyBkaXN0cmlidXRlZCB1bmRlciB0aGUgTGljZW5zZSBpcyBkaXN0cmlidXRlZCBvbiBhbiAiQVMgSVMiIEJBU0lTLAovLyBXSVRIT1VUIFdBUlJBTlRJRVMgT1IgQ09ORElUSU9OUyBPRiBBTlkgS0lORCwgZWl0aGVyIGV4cHJlc3Mgb3IgaW1wbGllZC4KLy8gU2VlIHRoZSBMaWNlbnNlIGZvciB0aGUgc3BlY2lmaWMgbGFuZ3VhZ2UgZ292ZXJuaW5nIHBlcm1pc3Npb25zIGFuZAovLyBsaW1pdGF0aW9ucyB1bmRlciB0aGUgTGljZW5zZS4KCi8qKgogKiBAZmlsZW92ZXJ2aWV3IEhlbHBlcnMgZm9yIGdvb2dsZS5jb2xhYiBQeXRob24gbW9kdWxlLgogKi8KKGZ1bmN0aW9uKHNjb3BlKSB7CmZ1bmN0aW9uIHNwYW4odGV4dCwgc3R5bGVBdHRyaWJ1dGVzID0ge30pIHsKICBjb25zdCBlbGVtZW50ID0gZG9jdW1lbnQuY3JlYXRlRWxlbWVudCgnc3BhbicpOwogIGVsZW1lbnQudGV4dENvbnRlbnQgPSB0ZXh0OwogIGZvciAoY29uc3Qga2V5IG9mIE9iamVjdC5rZXlzKHN0eWxlQXR0cmlidXRlcykpIHsKICAgIGVsZW1lbnQuc3R5bGVba2V5XSA9IHN0eWxlQXR0cmlidXRlc1trZXldOwogIH0KICByZXR1cm4gZWxlbWVudDsKfQoKLy8gTWF4IG51bWJlciBvZiBieXRlcyB3aGljaCB3aWxsIGJlIHVwbG9hZGVkIGF0IGEgdGltZS4KY29uc3QgTUFYX1BBWUxPQURfU0laRSA9IDEwMCAqIDEwMjQ7CgpmdW5jdGlvbiBfdXBsb2FkRmlsZXMoaW5wdXRJZCwgb3V0cHV0SWQpIHsKICBjb25zdCBzdGVwcyA9IHVwbG9hZEZpbGVzU3RlcChpbnB1dElkLCBvdXRwdXRJZCk7CiAgY29uc3Qgb3V0cHV0RWxlbWVudCA9IGRvY3VtZW50LmdldEVsZW1lbnRCeUlkKG91dHB1dElkKTsKICAvLyBDYWNoZSBzdGVwcyBvbiB0aGUgb3V0cHV0RWxlbWVudCB0byBtYWtlIGl0IGF2YWlsYWJsZSBmb3IgdGhlIG5leHQgY2FsbAogIC8vIHRvIHVwbG9hZEZpbGVzQ29udGludWUgZnJvbSBQeXRob24uCiAgb3V0cHV0RWxlbWVudC5zdGVwcyA9IHN0ZXBzOwoKICByZXR1cm4gX3VwbG9hZEZpbGVzQ29udGludWUob3V0cHV0SWQpOwp9CgovLyBUaGlzIGlzIHJvdWdobHkgYW4gYXN5bmMgZ2VuZXJhdG9yIChub3Qgc3VwcG9ydGVkIGluIHRoZSBicm93c2VyIHlldCksCi8vIHdoZXJlIHRoZXJlIGFyZSBtdWx0aXBsZSBhc3luY2hyb25vdXMgc3RlcHMgYW5kIHRoZSBQeXRob24gc2lkZSBpcyBnb2luZwovLyB0byBwb2xsIGZvciBjb21wbGV0aW9uIG9mIGVhY2ggc3RlcC4KLy8gVGhpcyB1c2VzIGEgUHJvbWlzZSB0byBibG9jayB0aGUgcHl0aG9uIHNpZGUgb24gY29tcGxldGlvbiBvZiBlYWNoIHN0ZXAsCi8vIHRoZW4gcGFzc2VzIHRoZSByZXN1bHQgb2YgdGhlIHByZXZpb3VzIHN0ZXAgYXMgdGhlIGlucHV0IHRvIHRoZSBuZXh0IHN0ZXAuCmZ1bmN0aW9uIF91cGxvYWRGaWxlc0NvbnRpbnVlKG91dHB1dElkKSB7CiAgY29uc3Qgb3V0cHV0RWxlbWVudCA9IGRvY3VtZW50LmdldEVsZW1lbnRCeUlkKG91dHB1dElkKTsKICBjb25zdCBzdGVwcyA9IG91dHB1dEVsZW1lbnQuc3RlcHM7CgogIGNvbnN0IG5leHQgPSBzdGVwcy5uZXh0KG91dHB1dEVsZW1lbnQubGFzdFByb21pc2VWYWx1ZSk7CiAgcmV0dXJuIFByb21pc2UucmVzb2x2ZShuZXh0LnZhbHVlLnByb21pc2UpLnRoZW4oKHZhbHVlKSA9PiB7CiAgICAvLyBDYWNoZSB0aGUgbGFzdCBwcm9taXNlIHZhbHVlIHRvIG1ha2UgaXQgYXZhaWxhYmxlIHRvIHRoZSBuZXh0CiAgICAvLyBzdGVwIG9mIHRoZSBnZW5lcmF0b3IuCiAgICBvdXRwdXRFbGVtZW50Lmxhc3RQcm9taXNlVmFsdWUgPSB2YWx1ZTsKICAgIHJldHVybiBuZXh0LnZhbHVlLnJlc3BvbnNlOwogIH0pOwp9CgovKioKICogR2VuZXJhdG9yIGZ1bmN0aW9uIHdoaWNoIGlzIGNhbGxlZCBiZXR3ZWVuIGVhY2ggYXN5bmMgc3RlcCBvZiB0aGUgdXBsb2FkCiAqIHByb2Nlc3MuCiAqIEBwYXJhbSB7c3RyaW5nfSBpbnB1dElkIEVsZW1lbnQgSUQgb2YgdGhlIGlucHV0IGZpbGUgcGlja2VyIGVsZW1lbnQuCiAqIEBwYXJhbSB7c3RyaW5nfSBvdXRwdXRJZCBFbGVtZW50IElEIG9mIHRoZSBvdXRwdXQgZGlzcGxheS4KICogQHJldHVybiB7IUl0ZXJhYmxlPCFPYmplY3Q+fSBJdGVyYWJsZSBvZiBuZXh0IHN0ZXBzLgogKi8KZnVuY3Rpb24qIHVwbG9hZEZpbGVzU3RlcChpbnB1dElkLCBvdXRwdXRJZCkgewogIGNvbnN0IGlucHV0RWxlbWVudCA9IGRvY3VtZW50LmdldEVsZW1lbnRCeUlkKGlucHV0SWQpOwogIGlucHV0RWxlbWVudC5kaXNhYmxlZCA9IGZhbHNlOwoKICBjb25zdCBvdXRwdXRFbGVtZW50ID0gZG9jdW1lbnQuZ2V0RWxlbWVudEJ5SWQob3V0cHV0SWQpOwogIG91dHB1dEVsZW1lbnQuaW5uZXJIVE1MID0gJyc7CgogIGNvbnN0IHBpY2tlZFByb21pc2UgPSBuZXcgUHJvbWlzZSgocmVzb2x2ZSkgPT4gewogICAgaW5wdXRFbGVtZW50LmFkZEV2ZW50TGlzdGVuZXIoJ2NoYW5nZScsIChlKSA9PiB7CiAgICAgIHJlc29sdmUoZS50YXJnZXQuZmlsZXMpOwogICAgfSk7CiAgfSk7CgogIGNvbnN0IGNhbmNlbCA9IGRvY3VtZW50LmNyZWF0ZUVsZW1lbnQoJ2J1dHRvbicpOwogIGlucHV0RWxlbWVudC5wYXJlbnRFbGVtZW50LmFwcGVuZENoaWxkKGNhbmNlbCk7CiAgY2FuY2VsLnRleHRDb250ZW50ID0gJ0NhbmNlbCB1cGxvYWQnOwogIGNvbnN0IGNhbmNlbFByb21pc2UgPSBuZXcgUHJvbWlzZSgocmVzb2x2ZSkgPT4gewogICAgY2FuY2VsLm9uY2xpY2sgPSAoKSA9PiB7CiAgICAgIHJlc29sdmUobnVsbCk7CiAgICB9OwogIH0pOwoKICAvLyBXYWl0IGZvciB0aGUgdXNlciB0byBwaWNrIHRoZSBmaWxlcy4KICBjb25zdCBmaWxlcyA9IHlpZWxkIHsKICAgIHByb21pc2U6IFByb21pc2UucmFjZShbcGlja2VkUHJvbWlzZSwgY2FuY2VsUHJvbWlzZV0pLAogICAgcmVzcG9uc2U6IHsKICAgICAgYWN0aW9uOiAnc3RhcnRpbmcnLAogICAgfQogIH07CgogIGNhbmNlbC5yZW1vdmUoKTsKCiAgLy8gRGlzYWJsZSB0aGUgaW5wdXQgZWxlbWVudCBzaW5jZSBmdXJ0aGVyIHBpY2tzIGFyZSBub3QgYWxsb3dlZC4KICBpbnB1dEVsZW1lbnQuZGlzYWJsZWQgPSB0cnVlOwoKICBpZiAoIWZpbGVzKSB7CiAgICByZXR1cm4gewogICAgICByZXNwb25zZTogewogICAgICAgIGFjdGlvbjogJ2NvbXBsZXRlJywKICAgICAgfQogICAgfTsKICB9CgogIGZvciAoY29uc3QgZmlsZSBvZiBmaWxlcykgewogICAgY29uc3QgbGkgPSBkb2N1bWVudC5jcmVhdGVFbGVtZW50KCdsaScpOwogICAgbGkuYXBwZW5kKHNwYW4oZmlsZS5uYW1lLCB7Zm9udFdlaWdodDogJ2JvbGQnfSkpOwogICAgbGkuYXBwZW5kKHNwYW4oCiAgICAgICAgYCgke2ZpbGUudHlwZSB8fCAnbi9hJ30pIC0gJHtmaWxlLnNpemV9IGJ5dGVzLCBgICsKICAgICAgICBgbGFzdCBtb2RpZmllZDogJHsKICAgICAgICAgICAgZmlsZS5sYXN0TW9kaWZpZWREYXRlID8gZmlsZS5sYXN0TW9kaWZpZWREYXRlLnRvTG9jYWxlRGF0ZVN0cmluZygpIDoKICAgICAgICAgICAgICAgICAgICAgICAgICAgICAgICAgICAgJ24vYSd9IC0gYCkpOwogICAgY29uc3QgcGVyY2VudCA9IHNwYW4oJzAlIGRvbmUnKTsKICAgIGxpLmFwcGVuZENoaWxkKHBlcmNlbnQpOwoKICAgIG91dHB1dEVsZW1lbnQuYXBwZW5kQ2hpbGQobGkpOwoKICAgIGNvbnN0IGZpbGVEYXRhUHJvbWlzZSA9IG5ldyBQcm9taXNlKChyZXNvbHZlKSA9PiB7CiAgICAgIGNvbnN0IHJlYWRlciA9IG5ldyBGaWxlUmVhZGVyKCk7CiAgICAgIHJlYWRlci5vbmxvYWQgPSAoZSkgPT4gewogICAgICAgIHJlc29sdmUoZS50YXJnZXQucmVzdWx0KTsKICAgICAgfTsKICAgICAgcmVhZGVyLnJlYWRBc0FycmF5QnVmZmVyKGZpbGUpOwogICAgfSk7CiAgICAvLyBXYWl0IGZvciB0aGUgZGF0YSB0byBiZSByZWFkeS4KICAgIGxldCBmaWxlRGF0YSA9IHlpZWxkIHsKICAgICAgcHJvbWlzZTogZmlsZURhdGFQcm9taXNlLAogICAgICByZXNwb25zZTogewogICAgICAgIGFjdGlvbjogJ2NvbnRpbnVlJywKICAgICAgfQogICAgfTsKCiAgICAvLyBVc2UgYSBjaHVua2VkIHNlbmRpbmcgdG8gYXZvaWQgbWVzc2FnZSBzaXplIGxpbWl0cy4gU2VlIGIvNjIxMTU2NjAuCiAgICBsZXQgcG9zaXRpb24gPSAwOwogICAgd2hpbGUgKHBvc2l0aW9uIDwgZmlsZURhdGEuYnl0ZUxlbmd0aCkgewogICAgICBjb25zdCBsZW5ndGggPSBNYXRoLm1pbihmaWxlRGF0YS5ieXRlTGVuZ3RoIC0gcG9zaXRpb24sIE1BWF9QQVlMT0FEX1NJWkUpOwogICAgICBjb25zdCBjaHVuayA9IG5ldyBVaW50OEFycmF5KGZpbGVEYXRhLCBwb3NpdGlvbiwgbGVuZ3RoKTsKICAgICAgcG9zaXRpb24gKz0gbGVuZ3RoOwoKICAgICAgY29uc3QgYmFzZTY0ID0gYnRvYShTdHJpbmcuZnJvbUNoYXJDb2RlLmFwcGx5KG51bGwsIGNodW5rKSk7CiAgICAgIHlpZWxkIHsKICAgICAgICByZXNwb25zZTogewogICAgICAgICAgYWN0aW9uOiAnYXBwZW5kJywKICAgICAgICAgIGZpbGU6IGZpbGUubmFtZSwKICAgICAgICAgIGRhdGE6IGJhc2U2NCwKICAgICAgICB9LAogICAgICB9OwogICAgICBwZXJjZW50LnRleHRDb250ZW50ID0KICAgICAgICAgIGAke01hdGgucm91bmQoKHBvc2l0aW9uIC8gZmlsZURhdGEuYnl0ZUxlbmd0aCkgKiAxMDApfSUgZG9uZWA7CiAgICB9CiAgfQoKICAvLyBBbGwgZG9uZS4KICB5aWVsZCB7CiAgICByZXNwb25zZTogewogICAgICBhY3Rpb246ICdjb21wbGV0ZScsCiAgICB9CiAgfTsKfQoKc2NvcGUuZ29vZ2xlID0gc2NvcGUuZ29vZ2xlIHx8IHt9OwpzY29wZS5nb29nbGUuY29sYWIgPSBzY29wZS5nb29nbGUuY29sYWIgfHwge307CnNjb3BlLmdvb2dsZS5jb2xhYi5fZmlsZXMgPSB7CiAgX3VwbG9hZEZpbGVzLAogIF91cGxvYWRGaWxlc0NvbnRpbnVlLAp9Owp9KShzZWxmKTsK",
              "ok": true,
              "headers": [
                [
                  "content-type",
                  "application/javascript"
                ]
              ],
              "status": 200,
              "status_text": ""
            }
          },
          "base_uri": "https://localhost:8080/",
          "height": 91
        },
        "id": "fFJGH9QTZfZ2",
        "outputId": "71715223-4170-4245-bcd6-0af9f888b756"
      },
      "source": [
        "# 1.) check your kaggle account \n",
        "# 2.) go to edit profile\n",
        "# 3.) create a new api token\n",
        "# 4.) upload your kaggle.json file here\n",
        "# 5.) for any retesting, keep your json file, and do not regenerate your api token unless absolutely needed\n",
        "files.upload()"
      ],
      "execution_count": 3,
      "outputs": [
        {
          "output_type": "display_data",
          "data": {
            "text/html": [
              "\n",
              "     <input type=\"file\" id=\"files-79b3e825-6297-4089-959e-14c2515a9531\" name=\"files[]\" multiple disabled\n",
              "        style=\"border:none\" />\n",
              "     <output id=\"result-79b3e825-6297-4089-959e-14c2515a9531\">\n",
              "      Upload widget is only available when the cell has been executed in the\n",
              "      current browser session. Please rerun this cell to enable.\n",
              "      </output>\n",
              "      <script src=\"/nbextensions/google.colab/files.js\"></script> "
            ],
            "text/plain": [
              "<IPython.core.display.HTML object>"
            ]
          },
          "metadata": {
            "tags": []
          }
        },
        {
          "output_type": "stream",
          "text": [
            "Saving kaggle.json to kaggle.json\n"
          ],
          "name": "stdout"
        },
        {
          "output_type": "execute_result",
          "data": {
            "text/plain": [
              "{'kaggle.json': b'{\"username\":\"kumachii\",\"key\":\"f8cd305bf4afae205ea340858ca16b92\"}'}"
            ]
          },
          "metadata": {
            "tags": []
          },
          "execution_count": 3
        }
      ]
    },
    {
      "cell_type": "code",
      "metadata": {
        "id": "qJcKiqmcZfcL"
      },
      "source": [
        "!mkdir -p ~/.kaggle\n",
        "!cp kaggle.json ~/.kaggle/\n",
        "!chmod 600 ~/.kaggle/kaggle.json"
      ],
      "execution_count": 4,
      "outputs": []
    },
    {
      "cell_type": "code",
      "metadata": {
        "colab": {
          "base_uri": "https://localhost:8080/"
        },
        "id": "qATALTfzZfe5",
        "outputId": "50c180d1-f24c-4eae-f3a3-fc5610a4de00"
      },
      "source": [
        "!kaggle datasets download -d paultimothymooney/chest-xray-pneumonia"
      ],
      "execution_count": 5,
      "outputs": [
        {
          "output_type": "stream",
          "text": [
            "Downloading chest-xray-pneumonia.zip to /content\n",
            " 99% 2.28G/2.29G [00:41<00:00, 33.8MB/s]\n",
            "100% 2.29G/2.29G [00:41<00:00, 60.0MB/s]\n"
          ],
          "name": "stdout"
        }
      ]
    },
    {
      "cell_type": "code",
      "metadata": {
        "colab": {
          "base_uri": "https://localhost:8080/"
        },
        "id": "P_9XYUWPZfg-",
        "outputId": "2c03c5c0-57c9-408d-faff-cc6bb55a8b0b"
      },
      "source": [
        "!ls"
      ],
      "execution_count": 6,
      "outputs": [
        {
          "output_type": "stream",
          "text": [
            "chest-xray-pneumonia.zip  kaggle.json  sample_data\n"
          ],
          "name": "stdout"
        }
      ]
    },
    {
      "cell_type": "code",
      "metadata": {
        "id": "z2geZtk3ZfjX"
      },
      "source": [
        "import zipfile\n",
        "zip_ref = zipfile.ZipFile(\"chest-xray-pneumonia.zip\", \"r\")\n",
        "zip_ref.extractall(\"files\")\n",
        "zip_ref.close()"
      ],
      "execution_count": 7,
      "outputs": []
    },
    {
      "cell_type": "code",
      "metadata": {
        "colab": {
          "base_uri": "https://localhost:8080/"
        },
        "id": "kJjA8rNHZfmY",
        "outputId": "e7ed3da2-98b2-4c04-caea-77121ff4d500"
      },
      "source": [
        "!ls"
      ],
      "execution_count": 8,
      "outputs": [
        {
          "output_type": "stream",
          "text": [
            "chest-xray-pneumonia.zip  files  kaggle.json  sample_data\n"
          ],
          "name": "stdout"
        }
      ]
    },
    {
      "cell_type": "code",
      "metadata": {
        "id": "rdvtJZgBUUnn"
      },
      "source": [
        ""
      ],
      "execution_count": 8,
      "outputs": []
    },
    {
      "cell_type": "code",
      "metadata": {
        "id": "KZ7dSexMcnEt"
      },
      "source": [
        ""
      ],
      "execution_count": 8,
      "outputs": []
    },
    {
      "cell_type": "markdown",
      "metadata": {
        "id": "Ysa0AWnZI4R3"
      },
      "source": [
        "# X-ray Image Classification "
      ]
    },
    {
      "cell_type": "markdown",
      "metadata": {
        "id": "9Af6MkovKLUB"
      },
      "source": [
        "This notebook will demonstrate the diagnosis of pneumonia, and different types of pneumonia using Convolutional Neural Networks. \n",
        "\n",
        "The dataset we are working with is of various X-ray images of Chinese pediatric patients' lungs, sourced from Kaggle.\n"
      ]
    },
    {
      "cell_type": "code",
      "metadata": {
        "id": "vING_1ZI1npp",
        "colab": {
          "base_uri": "https://localhost:8080/",
          "height": 733
        },
        "outputId": "99803e99-8463-4d28-9c9a-66aa134bb05f"
      },
      "source": [
        "# The local path to the target image\n",
        "img_path = \"/content/files/chest_xray/train/PNEUMONIA/person1945_bacteria_4872.jpeg\"\n",
        "\n",
        "display(Image(img_path))"
      ],
      "execution_count": 9,
      "outputs": [
        {
          "output_type": "display_data",
          "data": {
            "image/jpeg": "[encoded data removed]",
            "text/plain": [
              "<IPython.core.display.Image object>"
            ]
          },
          "metadata": {
            "tags": []
          }
        }
      ]
    },
    {
      "cell_type": "markdown",
      "metadata": {
        "id": "_FBJKhIuKgWg"
      },
      "source": [
        "Stuff about preprocessing"
      ]
    },
    {
      "cell_type": "markdown",
      "metadata": {
        "id": "OqQaCH8uDjHC"
      },
      "source": [
        "# Binary Classification\n",
        "\n",
        "For our first model, we will first take the images from our drive, and preprocess them into data that can be fed into a CNN.\n",
        "\n",
        "For this section, we will focus on predicting whether a patient has pneumonia or not."
      ]
    },
    {
      "cell_type": "code",
      "metadata": {
        "id": "nx_-IEhrLGGK"
      },
      "source": [
        "def load_data(path):\n",
        "\n",
        "  imgs = []\n",
        "  labels = np.array([])\n",
        "\n",
        "  for dir in [\"NORMAL\", \"PNEUMONIA\"]:\n",
        "    temp_path = path + \"/\" + dir\n",
        "    counter = 0\n",
        "    for f in os.listdir(temp_path):\n",
        "      # To reduce training costs, the images are resized to 200x200.\n",
        "      img = image.load_img(temp_path + \"/\" + f, target_size=(150,150))\n",
        "      x = image.img_to_array(img)\n",
        "      imgs.append(x)\n",
        "      labels = np.append(labels, [int(dir == 'PNEUMONIA')])\n",
        "\n",
        "      # to check progress:\n",
        "      \n",
        "      if (counter % 500 == 0):\n",
        "        print(\"Files loaded for \" + path + \": \" + str(counter))\n",
        "      counter += 1\n",
        "   \n",
        "\n",
        "  imgs = np.asarray(imgs)\n",
        "  # normalize our data from values 0-1\n",
        "  imgs /= 255\n",
        "  print(imgs.shape) # left there for debug\n",
        "  return imgs, labels\n"
      ],
      "execution_count": 10,
      "outputs": []
    },
    {
      "cell_type": "code",
      "metadata": {
        "id": "t2C6yvNoLGLU",
        "colab": {
          "base_uri": "https://localhost:8080/"
        },
        "outputId": "284fb4b2-d7fc-4372-88a9-e9fb4c78fdf1"
      },
      "source": [
        "# validation data was used as training data to debug things\n",
        "X_train, y_train = load_data(\"/content/files/chest_xray/train\")\n",
        "X_test, y_test = load_data(\"/content/files/chest_xray/test\")\n",
        "# X_val, y_val = load_data(\"/content/files/chest_xray/val\")"
      ],
      "execution_count": 11,
      "outputs": [
        {
          "output_type": "stream",
          "text": [
            "Files loaded for /content/files/chest_xray/train: 0\n",
            "Files loaded for /content/files/chest_xray/train: 500\n",
            "Files loaded for /content/files/chest_xray/train: 1000\n",
            "Files loaded for /content/files/chest_xray/train: 0\n",
            "Files loaded for /content/files/chest_xray/train: 500\n",
            "Files loaded for /content/files/chest_xray/train: 1000\n",
            "Files loaded for /content/files/chest_xray/train: 1500\n",
            "Files loaded for /content/files/chest_xray/train: 2000\n",
            "Files loaded for /content/files/chest_xray/train: 2500\n",
            "Files loaded for /content/files/chest_xray/train: 3000\n",
            "Files loaded for /content/files/chest_xray/train: 3500\n",
            "(5216, 150, 150, 3)\n",
            "Files loaded for /content/files/chest_xray/test: 0\n",
            "Files loaded for /content/files/chest_xray/test: 0\n",
            "(624, 150, 150, 3)\n"
          ],
          "name": "stdout"
        }
      ]
    },
    {
      "cell_type": "code",
      "metadata": {
        "id": "PYro6r-N2PAU"
      },
      "source": [
        "def get_img_array(img_path, size):\r\n",
        "    # `img` is a PIL image of size 299x299\r\n",
        "    img = load_img(img_path, target_size=size)\r\n",
        "    # `array` is a float32 Numpy array of shape (299, 299, 3)\r\n",
        "    array = img_to_array(img)\r\n",
        "    # We add a dimension to transform our array into a \"batch\"\r\n",
        "    # of size (1, 299, 299, 3)\r\n",
        "    array = np.expand_dims(array, axis=0)\r\n",
        "    return array"
      ],
      "execution_count": 12,
      "outputs": []
    },
    {
      "cell_type": "markdown",
      "metadata": {
        "id": "eeioOJhBK0ja"
      },
      "source": [
        "## CNN\n",
        "\n",
        "We will be testing our data on a simple CNN, with a dropout rate of 0.5."
      ]
    },
    {
      "cell_type": "code",
      "metadata": {
        "id": "cDgRNGJALeGM"
      },
      "source": [
        "K.clear_session()\n",
        "\n",
        "model = models.Sequential()\n",
        "\n",
        "model.add(layers.Conv2D(32, (3, 3), activation='relu', input_shape=(150, 150, 3)))\n",
        "model.add(layers.Activation('relu'))\n",
        "model.add(layers.MaxPooling2D((2, 2)))\n",
        "\n",
        "model.add(layers.Conv2D(32, (3, 3), activation='relu'))\n",
        "model.add(layers.Activation('relu'))\n",
        "model.add(layers.MaxPooling2D((2, 2)))\n",
        "\n",
        "\n",
        "model.add(layers.Conv2D(64, (3, 3), activation='relu'))\n",
        "model.add(layers.Activation('relu'))\n",
        "model.add(layers.MaxPooling2D((2, 2)))\n",
        "\n",
        "model.add(layers.Conv2D(64, (3, 3), activation='relu'))\n",
        "model.add(layers.Activation('relu'))\n",
        "model.add(layers.MaxPooling2D((2, 2)))\n",
        "\n",
        "\n",
        "model.add(layers.Flatten())\n",
        "model.add(layers.Dense(64))\n",
        "model.add(layers.Activation('relu'))\n",
        "model.add(layers.Dropout(0.5))\n",
        "model.add(layers.Dense(1,activation='sigmoid'))"
      ],
      "execution_count": 13,
      "outputs": []
    },
    {
      "cell_type": "code",
      "metadata": {
        "id": "Y1Dim82MxZay",
        "colab": {
          "base_uri": "https://localhost:8080/"
        },
        "outputId": "115a388d-5196-4c71-e229-7f24fbdf44fe"
      },
      "source": [
        "model.summary()"
      ],
      "execution_count": 14,
      "outputs": [
        {
          "output_type": "stream",
          "text": [
            "Model: \"sequential\"\n",
            "_________________________________________________________________\n",
            "Layer (type)                 Output Shape              Param #   \n",
            "=================================================================\n",
            "conv2d (Conv2D)              (None, 148, 148, 32)      896       \n",
            "_________________________________________________________________\n",
            "activation (Activation)      (None, 148, 148, 32)      0         \n",
            "_________________________________________________________________\n",
            "max_pooling2d (MaxPooling2D) (None, 74, 74, 32)        0         \n",
            "_________________________________________________________________\n",
            "conv2d_1 (Conv2D)            (None, 72, 72, 32)        9248      \n",
            "_________________________________________________________________\n",
            "activation_1 (Activation)    (None, 72, 72, 32)        0         \n",
            "_________________________________________________________________\n",
            "max_pooling2d_1 (MaxPooling2 (None, 36, 36, 32)        0         \n",
            "_________________________________________________________________\n",
            "conv2d_2 (Conv2D)            (None, 34, 34, 64)        18496     \n",
            "_________________________________________________________________\n",
            "activation_2 (Activation)    (None, 34, 34, 64)        0         \n",
            "_________________________________________________________________\n",
            "max_pooling2d_2 (MaxPooling2 (None, 17, 17, 64)        0         \n",
            "_________________________________________________________________\n",
            "conv2d_3 (Conv2D)            (None, 15, 15, 64)        36928     \n",
            "_________________________________________________________________\n",
            "activation_3 (Activation)    (None, 15, 15, 64)        0         \n",
            "_________________________________________________________________\n",
            "max_pooling2d_3 (MaxPooling2 (None, 7, 7, 64)          0         \n",
            "_________________________________________________________________\n",
            "flatten (Flatten)            (None, 3136)              0         \n",
            "_________________________________________________________________\n",
            "dense (Dense)                (None, 64)                200768    \n",
            "_________________________________________________________________\n",
            "activation_4 (Activation)    (None, 64)                0         \n",
            "_________________________________________________________________\n",
            "dropout (Dropout)            (None, 64)                0         \n",
            "_________________________________________________________________\n",
            "dense_1 (Dense)              (None, 1)                 65        \n",
            "=================================================================\n",
            "Total params: 266,401\n",
            "Trainable params: 266,401\n",
            "Non-trainable params: 0\n",
            "_________________________________________________________________\n"
          ],
          "name": "stdout"
        }
      ]
    },
    {
      "cell_type": "code",
      "metadata": {
        "id": "WwXxM5wJmr15"
      },
      "source": [
        "# recall\r\n",
        "def recall_m(y_true, y_pred):\r\n",
        "    true_positives = K.sum(K.round(K.clip(y_true * y_pred, 0, 1)))\r\n",
        "    possible_positives = K.sum(K.round(K.clip(y_true, 0, 1)))\r\n",
        "    recall = true_positives / (possible_positives + K.epsilon())\r\n",
        "    return recall\r\n",
        "\r\n",
        "# precision\r\n",
        "def precision_m(y_true, y_pred):\r\n",
        "    true_positives = K.sum(K.round(K.clip(y_true * y_pred, 0, 1)))\r\n",
        "    predicted_positives = K.sum(K.round(K.clip(y_pred, 0, 1)))\r\n",
        "    precision = true_positives / (predicted_positives + K.epsilon())\r\n",
        "    return precision\r\n",
        "\r\n",
        "# f1\r\n",
        "def f1_m(y_true, y_pred):\r\n",
        "    precision = precision_m(y_true, y_pred)\r\n",
        "    recall = recall_m(y_true, y_pred)\r\n",
        "    return 2*((precision*recall)/(precision+recall+K.epsilon()))"
      ],
      "execution_count": 15,
      "outputs": []
    },
    {
      "cell_type": "code",
      "metadata": {
        "id": "jVnvCr5OCmH_"
      },
      "source": [
        "model.compile(optimizer='rmsprop',\r\n",
        "              loss='binary_crossentropy',\r\n",
        "              metrics=['accuracy',f1_m,precision_m, recall_m])"
      ],
      "execution_count": 16,
      "outputs": []
    },
    {
      "cell_type": "code",
      "metadata": {
        "id": "4fgouniwolpR",
        "colab": {
          "base_uri": "https://localhost:8080/"
        },
        "outputId": "3e9514ba-a064-4191-c55c-7c70032743da"
      },
      "source": [
        "batch_size = 32\r\n",
        "\r\n",
        "traingen = ImageDataGenerator(\r\n",
        "    rotation_range =45,\r\n",
        "    shear_range=0.2,\r\n",
        "    zoom_range=0.5,\r\n",
        "    horizontal_flip = True\r\n",
        ")\r\n",
        "\r\n",
        "testgen = ImageDataGenerator()\r\n",
        "\r\n",
        "gen_data = traingen.flow(X_train, y_train, batch_size=32)\r\n",
        "gen_test = testgen.flow(X_test, y_test, batch_size=32)\r\n",
        "\r\n",
        "history = model.fit(gen_data,steps_per_epoch=(X_train.shape[0]//batch_size),epochs=20,validation_data=gen_test,validation_steps=X_test.shape[0]//batch_size)"
      ],
      "execution_count": 17,
      "outputs": [
        {
          "output_type": "stream",
          "text": [
            "Epoch 1/20\n",
            "163/163 [==============================] - 25s 154ms/step - loss: 0.5726 - accuracy: 0.7400 - f1_m: 0.8431 - precision_m: 0.7538 - recall_m: 0.9700 - val_loss: 0.5318 - val_accuracy: 0.7599 - val_f1_m: 0.8204 - val_precision_m: 0.7521 - val_recall_m: 0.9076\n",
            "Epoch 2/20\n",
            "163/163 [==============================] - 25s 155ms/step - loss: 0.4508 - accuracy: 0.7908 - f1_m: 0.8639 - precision_m: 0.8223 - recall_m: 0.9215 - val_loss: 0.5342 - val_accuracy: 0.7516 - val_f1_m: 0.8238 - val_precision_m: 0.7299 - val_recall_m: 0.9561\n",
            "Epoch 3/20\n",
            "163/163 [==============================] - 25s 153ms/step - loss: 0.3838 - accuracy: 0.8238 - f1_m: 0.8831 - precision_m: 0.8640 - recall_m: 0.9151 - val_loss: 0.3646 - val_accuracy: 0.8536 - val_f1_m: 0.8822 - val_precision_m: 0.8623 - val_recall_m: 0.9076\n",
            "Epoch 4/20\n",
            "163/163 [==============================] - 25s 152ms/step - loss: 0.3584 - accuracy: 0.8449 - f1_m: 0.8943 - precision_m: 0.8805 - recall_m: 0.9179 - val_loss: 0.3815 - val_accuracy: 0.8618 - val_f1_m: 0.8977 - val_precision_m: 0.8399 - val_recall_m: 0.9696\n",
            "Epoch 5/20\n",
            "163/163 [==============================] - 25s 152ms/step - loss: 0.3235 - accuracy: 0.8629 - f1_m: 0.9071 - precision_m: 0.9008 - recall_m: 0.9222 - val_loss: 0.5822 - val_accuracy: 0.7911 - val_f1_m: 0.8538 - val_precision_m: 0.7531 - val_recall_m: 0.9916\n",
            "Epoch 6/20\n",
            "163/163 [==============================] - 25s 153ms/step - loss: 0.3185 - accuracy: 0.8694 - f1_m: 0.9113 - precision_m: 0.9055 - recall_m: 0.9240 - val_loss: 0.3093 - val_accuracy: 0.8882 - val_f1_m: 0.9106 - val_precision_m: 0.8952 - val_recall_m: 0.9293\n",
            "Epoch 7/20\n",
            "163/163 [==============================] - 25s 152ms/step - loss: 0.2857 - accuracy: 0.8836 - f1_m: 0.9210 - precision_m: 0.9134 - recall_m: 0.9350 - val_loss: 0.2797 - val_accuracy: 0.8947 - val_f1_m: 0.9152 - val_precision_m: 0.9033 - val_recall_m: 0.9307\n",
            "Epoch 8/20\n",
            "163/163 [==============================] - 25s 152ms/step - loss: 0.2847 - accuracy: 0.8802 - f1_m: 0.9190 - precision_m: 0.9156 - recall_m: 0.9282 - val_loss: 0.4040 - val_accuracy: 0.8783 - val_f1_m: 0.9084 - val_precision_m: 0.8533 - val_recall_m: 0.9747\n",
            "Epoch 9/20\n",
            "163/163 [==============================] - 25s 153ms/step - loss: 0.2748 - accuracy: 0.8965 - f1_m: 0.9293 - precision_m: 0.9271 - recall_m: 0.9362 - val_loss: 0.4099 - val_accuracy: 0.8289 - val_f1_m: 0.8761 - val_precision_m: 0.7894 - val_recall_m: 0.9924\n",
            "Epoch 10/20\n",
            "163/163 [==============================] - 25s 151ms/step - loss: 0.2622 - accuracy: 0.8984 - f1_m: 0.9310 - precision_m: 0.9278 - recall_m: 0.9395 - val_loss: 0.3680 - val_accuracy: 0.8734 - val_f1_m: 0.9033 - val_precision_m: 0.8515 - val_recall_m: 0.9652\n",
            "Epoch 11/20\n",
            "163/163 [==============================] - 25s 153ms/step - loss: 0.2466 - accuracy: 0.9087 - f1_m: 0.9371 - precision_m: 0.9345 - recall_m: 0.9443 - val_loss: 0.3089 - val_accuracy: 0.8997 - val_f1_m: 0.9189 - val_precision_m: 0.9009 - val_recall_m: 0.9406\n",
            "Epoch 12/20\n",
            "163/163 [==============================] - 25s 156ms/step - loss: 0.2463 - accuracy: 0.9074 - f1_m: 0.9369 - precision_m: 0.9368 - recall_m: 0.9421 - val_loss: 0.4715 - val_accuracy: 0.8388 - val_f1_m: 0.8814 - val_precision_m: 0.7966 - val_recall_m: 0.9922\n",
            "Epoch 13/20\n",
            "163/163 [==============================] - 25s 153ms/step - loss: 0.2562 - accuracy: 0.9074 - f1_m: 0.9372 - precision_m: 0.9315 - recall_m: 0.9471 - val_loss: 0.2876 - val_accuracy: 0.8898 - val_f1_m: 0.9118 - val_precision_m: 0.8938 - val_recall_m: 0.9341\n",
            "Epoch 14/20\n",
            "163/163 [==============================] - 25s 153ms/step - loss: 0.2392 - accuracy: 0.9110 - f1_m: 0.9400 - precision_m: 0.9350 - recall_m: 0.9495 - val_loss: 0.3203 - val_accuracy: 0.8717 - val_f1_m: 0.9043 - val_precision_m: 0.8438 - val_recall_m: 0.9801\n",
            "Epoch 15/20\n",
            "163/163 [==============================] - 25s 153ms/step - loss: 0.2432 - accuracy: 0.9101 - f1_m: 0.9384 - precision_m: 0.9345 - recall_m: 0.9461 - val_loss: 0.3910 - val_accuracy: 0.8783 - val_f1_m: 0.9079 - val_precision_m: 0.8535 - val_recall_m: 0.9755\n",
            "Epoch 16/20\n",
            "163/163 [==============================] - 24s 150ms/step - loss: 0.2417 - accuracy: 0.9183 - f1_m: 0.9445 - precision_m: 0.9384 - recall_m: 0.9537 - val_loss: 0.3532 - val_accuracy: 0.8668 - val_f1_m: 0.8978 - val_precision_m: 0.8230 - val_recall_m: 0.9948\n",
            "Epoch 17/20\n",
            "163/163 [==============================] - 24s 149ms/step - loss: 0.2257 - accuracy: 0.9193 - f1_m: 0.9449 - precision_m: 0.9429 - recall_m: 0.9501 - val_loss: 0.2948 - val_accuracy: 0.8750 - val_f1_m: 0.8945 - val_precision_m: 0.9410 - val_recall_m: 0.8566\n",
            "Epoch 18/20\n",
            "163/163 [==============================] - 24s 149ms/step - loss: 0.2341 - accuracy: 0.9202 - f1_m: 0.9451 - precision_m: 0.9446 - recall_m: 0.9490 - val_loss: 0.2627 - val_accuracy: 0.9145 - val_f1_m: 0.9328 - val_precision_m: 0.8974 - val_recall_m: 0.9736\n",
            "Epoch 19/20\n",
            "163/163 [==============================] - 24s 149ms/step - loss: 0.2232 - accuracy: 0.9233 - f1_m: 0.9478 - precision_m: 0.9429 - recall_m: 0.9557 - val_loss: 0.2576 - val_accuracy: 0.8832 - val_f1_m: 0.9016 - val_precision_m: 0.9395 - val_recall_m: 0.8696\n",
            "Epoch 20/20\n",
            "163/163 [==============================] - 24s 148ms/step - loss: 0.2271 - accuracy: 0.9218 - f1_m: 0.9466 - precision_m: 0.9440 - recall_m: 0.9519 - val_loss: 0.2669 - val_accuracy: 0.9013 - val_f1_m: 0.9239 - val_precision_m: 0.8928 - val_recall_m: 0.9604\n"
          ],
          "name": "stdout"
        }
      ]
    },
    {
      "cell_type": "code",
      "metadata": {
        "colab": {
          "base_uri": "https://localhost:8080/",
          "height": 145
        },
        "id": "Xspd3gNo32jx",
        "outputId": "ee5cecb9-5ce9-4cb8-cff6-8c3376ae7f81"
      },
      "source": [
        "'''\r\n",
        "batch_size = 128\r\n",
        "\r\n",
        "traingen = ImageDataGenerator(\r\n",
        "    rescale= 1./255,\r\n",
        "    rotation_range =45,\r\n",
        "    shear_range=0.2,\r\n",
        "    zoom_range=0.2,\r\n",
        "    horizontal_flip = True\r\n",
        "\r\n",
        ")\r\n",
        "\r\n",
        "testgen = ImageDataGenerator(rescale=1./255)\r\n",
        "\r\n",
        "train_generator = traingen.flow_from_directory(\r\n",
        "        \"/content/files/chest_xray/train\",\r\n",
        "        target_size=(150, 150),\r\n",
        "        classes=[\"NORMAL\", \"PNEUMONIA\"],\r\n",
        "        batch_size=32,\r\n",
        "        class_mode='binary')\r\n",
        "validation_generator = testgen.flow_from_directory(\r\n",
        "        \"/content/files/chest_xray/test\",\r\n",
        "        target_size=(150, 150),\r\n",
        "        classes=[\"NORMAL\", \"PNEUMONIA\"],\r\n",
        "        batch_size=32,\r\n",
        "        class_mode='binary')\r\n",
        "\r\n",
        "# todo: save the augmented data to a separate directory named: test_aug\r\n",
        "\r\n",
        "history = model.fit(train_generator,steps_per_epoch=(X_train.shape[0]//batch_size),epochs=20,validation_data=validation_generator,validation_steps=X_test.shape[0]//batch_size)\r\n",
        "'''"
      ],
      "execution_count": 18,
      "outputs": [
        {
          "output_type": "execute_result",
          "data": {
            "application/vnd.google.colaboratory.intrinsic+json": {
              "type": "string"
            },
            "text/plain": [
              "'\\nbatch_size = 128\\n\\ntraingen = ImageDataGenerator(\\n    rescale= 1./255,\\n    rotation_range =45,\\n    shear_range=0.2,\\n    zoom_range=0.2,\\n    horizontal_flip = True\\n\\n)\\n\\ntestgen = ImageDataGenerator(rescale=1./255)\\n\\ntrain_generator = traingen.flow_from_directory(\\n        \"/content/files/chest_xray/train\",\\n        target_size=(150, 150),\\n        classes=[\"NORMAL\", \"PNEUMONIA\"],\\n        batch_size=32,\\n        class_mode=\\'binary\\')\\nvalidation_generator = testgen.flow_from_directory(\\n        \"/content/files/chest_xray/test\",\\n        target_size=(150, 150),\\n        classes=[\"NORMAL\", \"PNEUMONIA\"],\\n        batch_size=32,\\n        class_mode=\\'binary\\')\\n\\n# todo: save the augmented data to a separate directory named: test_aug\\n\\nhistory = model.fit(train_generator,steps_per_epoch=(X_train.shape[0]//batch_size),epochs=20,validation_data=validation_generator,validation_steps=X_test.shape[0]//batch_size)\\n'"
            ]
          },
          "metadata": {
            "tags": []
          },
          "execution_count": 18
        }
      ]
    },
    {
      "cell_type": "code",
      "metadata": {
        "id": "R9_3MSNT5sxb",
        "colab": {
          "base_uri": "https://localhost:8080/"
        },
        "outputId": "a6be4dcb-e9a3-4213-8b3c-72b256317847"
      },
      "source": [
        "model.evaluate_generator(gen_test, 50, workers=1)"
      ],
      "execution_count": 19,
      "outputs": [
        {
          "output_type": "stream",
          "text": [
            "WARNING:tensorflow:From <ipython-input-19-e3c4b4ca5614>:1: Model.evaluate_generator (from tensorflow.python.keras.engine.training) is deprecated and will be removed in a future version.\n",
            "Instructions for updating:\n",
            "Please use Model.evaluate, which supports generators.\n",
            "WARNING:tensorflow:Your input ran out of data; interrupting training. Make sure that your dataset or generator can generate at least `steps_per_epoch * epochs` batches (in this case, 50 batches). You may need to use the repeat() function when building your dataset.\n"
          ],
          "name": "stdout"
        },
        {
          "output_type": "execute_result",
          "data": {
            "text/plain": [
              "[0.2668472230434418,\n",
              " 0.9022436141967773,\n",
              " 0.9257704019546509,\n",
              " 0.8937776684761047,\n",
              " 0.963170051574707]"
            ]
          },
          "metadata": {
            "tags": []
          },
          "execution_count": 19
        }
      ]
    },
    {
      "cell_type": "code",
      "metadata": {
        "id": "JxNiQ3Ql3mys",
        "colab": {
          "base_uri": "https://localhost:8080/"
        },
        "outputId": "b26d9102-c0be-435d-9f25-c7fc35419ef4"
      },
      "source": [
        "for i in range (0, 400):\r\n",
        "  preds = model.predict(np.expand_dims(X_test[i], axis=0))\r\n",
        "  print(\"Chance of Pneumonia:\", (preds))"
      ],
      "execution_count": 20,
      "outputs": [
        {
          "output_type": "stream",
          "text": [
            "Chance of Pneumonia: [[0.3708285]]\n",
            "Chance of Pneumonia: [[0.30887014]]\n",
            "Chance of Pneumonia: [[0.33642444]]\n",
            "Chance of Pneumonia: [[0.15582612]]\n",
            "Chance of Pneumonia: [[0.47357583]]\n",
            "Chance of Pneumonia: [[0.62700015]]\n",
            "Chance of Pneumonia: [[0.3469137]]\n",
            "Chance of Pneumonia: [[0.24832556]]\n",
            "Chance of Pneumonia: [[0.15411976]]\n",
            "Chance of Pneumonia: [[0.89986587]]\n",
            "Chance of Pneumonia: [[0.05160846]]\n",
            "Chance of Pneumonia: [[0.20581351]]\n",
            "Chance of Pneumonia: [[0.09684029]]\n",
            "Chance of Pneumonia: [[0.18930556]]\n",
            "Chance of Pneumonia: [[0.9034052]]\n",
            "Chance of Pneumonia: [[0.47082293]]\n",
            "Chance of Pneumonia: [[0.05376955]]\n",
            "Chance of Pneumonia: [[0.0555529]]\n",
            "Chance of Pneumonia: [[0.11750118]]\n",
            "Chance of Pneumonia: [[0.85869396]]\n",
            "Chance of Pneumonia: [[0.2091337]]\n",
            "Chance of Pneumonia: [[0.5963125]]\n",
            "Chance of Pneumonia: [[0.19424015]]\n",
            "Chance of Pneumonia: [[0.55005383]]\n",
            "Chance of Pneumonia: [[0.2930375]]\n",
            "Chance of Pneumonia: [[0.19683559]]\n",
            "Chance of Pneumonia: [[0.11079249]]\n",
            "Chance of Pneumonia: [[0.20916785]]\n",
            "Chance of Pneumonia: [[0.17693111]]\n",
            "Chance of Pneumonia: [[0.0113159]]\n",
            "Chance of Pneumonia: [[0.24238479]]\n",
            "Chance of Pneumonia: [[0.41287538]]\n",
            "Chance of Pneumonia: [[0.07040478]]\n",
            "Chance of Pneumonia: [[0.18934914]]\n",
            "Chance of Pneumonia: [[0.51641434]]\n",
            "Chance of Pneumonia: [[0.16085571]]\n",
            "Chance of Pneumonia: [[0.12522118]]\n",
            "Chance of Pneumonia: [[0.11784266]]\n",
            "Chance of Pneumonia: [[0.04630386]]\n",
            "Chance of Pneumonia: [[0.03097102]]\n",
            "Chance of Pneumonia: [[0.7285642]]\n",
            "Chance of Pneumonia: [[0.17183079]]\n",
            "Chance of Pneumonia: [[0.17388418]]\n",
            "Chance of Pneumonia: [[0.04194795]]\n",
            "Chance of Pneumonia: [[0.22975023]]\n",
            "Chance of Pneumonia: [[0.13968591]]\n",
            "Chance of Pneumonia: [[0.53387]]\n",
            "Chance of Pneumonia: [[0.09660485]]\n",
            "Chance of Pneumonia: [[0.74488795]]\n",
            "Chance of Pneumonia: [[0.15432125]]\n",
            "Chance of Pneumonia: [[0.17175244]]\n",
            "Chance of Pneumonia: [[0.34259793]]\n",
            "Chance of Pneumonia: [[0.44510797]]\n",
            "Chance of Pneumonia: [[0.2313338]]\n",
            "Chance of Pneumonia: [[0.0801122]]\n",
            "Chance of Pneumonia: [[0.05984401]]\n",
            "Chance of Pneumonia: [[0.33595496]]\n",
            "Chance of Pneumonia: [[0.742036]]\n",
            "Chance of Pneumonia: [[0.1349899]]\n",
            "Chance of Pneumonia: [[0.08976445]]\n",
            "Chance of Pneumonia: [[0.21643658]]\n",
            "Chance of Pneumonia: [[0.2562485]]\n",
            "Chance of Pneumonia: [[0.51196516]]\n",
            "Chance of Pneumonia: [[0.03394972]]\n",
            "Chance of Pneumonia: [[0.10655452]]\n",
            "Chance of Pneumonia: [[0.47082293]]\n",
            "Chance of Pneumonia: [[0.7201139]]\n",
            "Chance of Pneumonia: [[0.17386591]]\n",
            "Chance of Pneumonia: [[0.7845993]]\n",
            "Chance of Pneumonia: [[0.01833558]]\n",
            "Chance of Pneumonia: [[0.11173232]]\n",
            "Chance of Pneumonia: [[0.02136845]]\n",
            "Chance of Pneumonia: [[0.05065729]]\n",
            "Chance of Pneumonia: [[0.23843671]]\n",
            "Chance of Pneumonia: [[0.12438098]]\n",
            "Chance of Pneumonia: [[0.19842212]]\n",
            "Chance of Pneumonia: [[0.69242346]]\n",
            "Chance of Pneumonia: [[0.06614908]]\n",
            "Chance of Pneumonia: [[0.12875074]]\n",
            "Chance of Pneumonia: [[0.21802486]]\n",
            "Chance of Pneumonia: [[0.02853346]]\n",
            "Chance of Pneumonia: [[0.4547946]]\n",
            "Chance of Pneumonia: [[0.22190315]]\n",
            "Chance of Pneumonia: [[0.53588665]]\n",
            "Chance of Pneumonia: [[0.69518983]]\n",
            "Chance of Pneumonia: [[0.07448463]]\n",
            "Chance of Pneumonia: [[0.09768423]]\n",
            "Chance of Pneumonia: [[0.09028929]]\n",
            "Chance of Pneumonia: [[0.36362275]]\n",
            "Chance of Pneumonia: [[0.12340863]]\n",
            "Chance of Pneumonia: [[0.32998157]]\n",
            "Chance of Pneumonia: [[0.03316427]]\n",
            "Chance of Pneumonia: [[0.32935765]]\n",
            "Chance of Pneumonia: [[0.6016632]]\n",
            "Chance of Pneumonia: [[0.41007406]]\n",
            "Chance of Pneumonia: [[0.3554269]]\n",
            "Chance of Pneumonia: [[0.10641078]]\n",
            "Chance of Pneumonia: [[0.06527837]]\n",
            "Chance of Pneumonia: [[0.21243437]]\n",
            "Chance of Pneumonia: [[0.7002151]]\n",
            "Chance of Pneumonia: [[0.12094199]]\n",
            "Chance of Pneumonia: [[0.5385888]]\n",
            "Chance of Pneumonia: [[0.07235171]]\n",
            "Chance of Pneumonia: [[0.1044888]]\n",
            "Chance of Pneumonia: [[0.45612362]]\n",
            "Chance of Pneumonia: [[0.8550648]]\n",
            "Chance of Pneumonia: [[0.34872502]]\n",
            "Chance of Pneumonia: [[0.1023682]]\n",
            "Chance of Pneumonia: [[0.38521287]]\n",
            "Chance of Pneumonia: [[0.07607085]]\n",
            "Chance of Pneumonia: [[0.58871657]]\n",
            "Chance of Pneumonia: [[0.08399753]]\n",
            "Chance of Pneumonia: [[0.2454529]]\n",
            "Chance of Pneumonia: [[0.51925653]]\n",
            "Chance of Pneumonia: [[0.03754599]]\n",
            "Chance of Pneumonia: [[0.18227677]]\n",
            "Chance of Pneumonia: [[0.08803578]]\n",
            "Chance of Pneumonia: [[0.13510293]]\n",
            "Chance of Pneumonia: [[0.05094293]]\n",
            "Chance of Pneumonia: [[0.3268722]]\n",
            "Chance of Pneumonia: [[0.40200412]]\n",
            "Chance of Pneumonia: [[0.5008561]]\n",
            "Chance of Pneumonia: [[0.0392083]]\n",
            "Chance of Pneumonia: [[0.07771193]]\n",
            "Chance of Pneumonia: [[0.24412265]]\n",
            "Chance of Pneumonia: [[0.537149]]\n",
            "Chance of Pneumonia: [[0.27588934]]\n",
            "Chance of Pneumonia: [[0.7344932]]\n",
            "Chance of Pneumonia: [[0.59339696]]\n",
            "Chance of Pneumonia: [[0.3896203]]\n",
            "Chance of Pneumonia: [[0.8391867]]\n",
            "Chance of Pneumonia: [[0.07907566]]\n",
            "Chance of Pneumonia: [[0.29997396]]\n",
            "Chance of Pneumonia: [[0.14279921]]\n",
            "Chance of Pneumonia: [[0.72076106]]\n",
            "Chance of Pneumonia: [[0.4370542]]\n",
            "Chance of Pneumonia: [[0.24243464]]\n",
            "Chance of Pneumonia: [[0.567783]]\n",
            "Chance of Pneumonia: [[0.08420101]]\n",
            "Chance of Pneumonia: [[0.2640418]]\n",
            "Chance of Pneumonia: [[0.30473804]]\n",
            "Chance of Pneumonia: [[0.1998711]]\n",
            "Chance of Pneumonia: [[0.13202631]]\n",
            "Chance of Pneumonia: [[0.31068882]]\n",
            "Chance of Pneumonia: [[0.09044348]]\n",
            "Chance of Pneumonia: [[0.4760603]]\n",
            "Chance of Pneumonia: [[0.5650245]]\n",
            "Chance of Pneumonia: [[0.85733944]]\n",
            "Chance of Pneumonia: [[0.64025944]]\n",
            "Chance of Pneumonia: [[0.90850645]]\n",
            "Chance of Pneumonia: [[0.17411475]]\n",
            "Chance of Pneumonia: [[0.09866735]]\n",
            "Chance of Pneumonia: [[0.12489025]]\n",
            "Chance of Pneumonia: [[0.12300485]]\n",
            "Chance of Pneumonia: [[0.24927357]]\n",
            "Chance of Pneumonia: [[0.18352222]]\n",
            "Chance of Pneumonia: [[0.07286119]]\n",
            "Chance of Pneumonia: [[0.29959103]]\n",
            "Chance of Pneumonia: [[0.19414829]]\n",
            "Chance of Pneumonia: [[0.30723548]]\n",
            "Chance of Pneumonia: [[0.0487263]]\n",
            "Chance of Pneumonia: [[0.04621215]]\n",
            "Chance of Pneumonia: [[0.27671152]]\n",
            "Chance of Pneumonia: [[0.21627924]]\n",
            "Chance of Pneumonia: [[0.05764948]]\n",
            "Chance of Pneumonia: [[0.36520937]]\n",
            "Chance of Pneumonia: [[0.43284863]]\n",
            "Chance of Pneumonia: [[0.8345896]]\n",
            "Chance of Pneumonia: [[0.18279277]]\n",
            "Chance of Pneumonia: [[0.24915023]]\n",
            "Chance of Pneumonia: [[0.25050414]]\n",
            "Chance of Pneumonia: [[0.21439163]]\n",
            "Chance of Pneumonia: [[0.38462225]]\n",
            "Chance of Pneumonia: [[0.17391957]]\n",
            "Chance of Pneumonia: [[0.26879874]]\n",
            "Chance of Pneumonia: [[0.36526427]]\n",
            "Chance of Pneumonia: [[0.1344736]]\n",
            "Chance of Pneumonia: [[0.31125835]]\n",
            "Chance of Pneumonia: [[0.28514513]]\n",
            "Chance of Pneumonia: [[0.13250947]]\n",
            "Chance of Pneumonia: [[0.08433929]]\n",
            "Chance of Pneumonia: [[0.2423332]]\n",
            "Chance of Pneumonia: [[0.09976888]]\n",
            "Chance of Pneumonia: [[0.8993583]]\n",
            "Chance of Pneumonia: [[0.04011221]]\n",
            "Chance of Pneumonia: [[0.44149435]]\n",
            "Chance of Pneumonia: [[0.30451638]]\n",
            "Chance of Pneumonia: [[0.2753784]]\n",
            "Chance of Pneumonia: [[0.42288095]]\n",
            "Chance of Pneumonia: [[0.36775616]]\n",
            "Chance of Pneumonia: [[0.54385966]]\n",
            "Chance of Pneumonia: [[0.7448619]]\n",
            "Chance of Pneumonia: [[0.00866802]]\n",
            "Chance of Pneumonia: [[0.15232988]]\n",
            "Chance of Pneumonia: [[0.12200707]]\n",
            "Chance of Pneumonia: [[0.18706189]]\n",
            "Chance of Pneumonia: [[0.16581653]]\n",
            "Chance of Pneumonia: [[0.09062834]]\n",
            "Chance of Pneumonia: [[0.02491874]]\n",
            "Chance of Pneumonia: [[0.09494179]]\n",
            "Chance of Pneumonia: [[0.13900676]]\n",
            "Chance of Pneumonia: [[0.31492501]]\n",
            "Chance of Pneumonia: [[0.22016983]]\n",
            "Chance of Pneumonia: [[0.15291099]]\n",
            "Chance of Pneumonia: [[0.6370081]]\n",
            "Chance of Pneumonia: [[0.1758167]]\n",
            "Chance of Pneumonia: [[0.08323001]]\n",
            "Chance of Pneumonia: [[0.6392545]]\n",
            "Chance of Pneumonia: [[0.36839548]]\n",
            "Chance of Pneumonia: [[0.2755093]]\n",
            "Chance of Pneumonia: [[0.13555954]]\n",
            "Chance of Pneumonia: [[0.98696226]]\n",
            "Chance of Pneumonia: [[0.13655254]]\n",
            "Chance of Pneumonia: [[0.6531509]]\n",
            "Chance of Pneumonia: [[0.6392235]]\n",
            "Chance of Pneumonia: [[0.02872293]]\n",
            "Chance of Pneumonia: [[0.07468477]]\n",
            "Chance of Pneumonia: [[0.47357583]]\n",
            "Chance of Pneumonia: [[0.4340878]]\n",
            "Chance of Pneumonia: [[0.10066409]]\n",
            "Chance of Pneumonia: [[0.5004521]]\n",
            "Chance of Pneumonia: [[0.4165222]]\n",
            "Chance of Pneumonia: [[0.19424015]]\n",
            "Chance of Pneumonia: [[0.50124687]]\n",
            "Chance of Pneumonia: [[0.8097263]]\n",
            "Chance of Pneumonia: [[0.4626842]]\n",
            "Chance of Pneumonia: [[0.30990493]]\n",
            "Chance of Pneumonia: [[0.4389014]]\n",
            "Chance of Pneumonia: [[0.08981263]]\n",
            "Chance of Pneumonia: [[0.03808609]]\n",
            "Chance of Pneumonia: [[0.08093536]]\n",
            "Chance of Pneumonia: [[0.12689781]]\n",
            "Chance of Pneumonia: [[0.04875867]]\n",
            "Chance of Pneumonia: [[0.09556117]]\n",
            "Chance of Pneumonia: [[0.6938468]]\n",
            "Chance of Pneumonia: [[0.99389124]]\n",
            "Chance of Pneumonia: [[0.9796536]]\n",
            "Chance of Pneumonia: [[0.79288083]]\n",
            "Chance of Pneumonia: [[0.9683535]]\n",
            "Chance of Pneumonia: [[0.99408865]]\n",
            "Chance of Pneumonia: [[0.77047145]]\n",
            "Chance of Pneumonia: [[0.9093655]]\n",
            "Chance of Pneumonia: [[0.6195665]]\n",
            "Chance of Pneumonia: [[0.8004528]]\n",
            "Chance of Pneumonia: [[0.9771673]]\n",
            "Chance of Pneumonia: [[0.46912527]]\n",
            "Chance of Pneumonia: [[0.97207224]]\n",
            "Chance of Pneumonia: [[0.99309313]]\n",
            "Chance of Pneumonia: [[0.9409212]]\n",
            "Chance of Pneumonia: [[0.90260005]]\n",
            "Chance of Pneumonia: [[0.96060663]]\n",
            "Chance of Pneumonia: [[0.9751441]]\n",
            "Chance of Pneumonia: [[0.86981744]]\n",
            "Chance of Pneumonia: [[0.8263213]]\n",
            "Chance of Pneumonia: [[0.9360497]]\n",
            "Chance of Pneumonia: [[0.7532535]]\n",
            "Chance of Pneumonia: [[0.80842]]\n",
            "Chance of Pneumonia: [[0.619292]]\n",
            "Chance of Pneumonia: [[0.9733782]]\n",
            "Chance of Pneumonia: [[0.6327924]]\n",
            "Chance of Pneumonia: [[0.73969495]]\n",
            "Chance of Pneumonia: [[0.49591848]]\n",
            "Chance of Pneumonia: [[0.8486851]]\n",
            "Chance of Pneumonia: [[0.96338737]]\n",
            "Chance of Pneumonia: [[0.58097273]]\n",
            "Chance of Pneumonia: [[0.9849]]\n",
            "Chance of Pneumonia: [[0.9931636]]\n",
            "Chance of Pneumonia: [[0.8780848]]\n",
            "Chance of Pneumonia: [[0.9827512]]\n",
            "Chance of Pneumonia: [[0.8057731]]\n",
            "Chance of Pneumonia: [[0.60803086]]\n",
            "Chance of Pneumonia: [[0.85678494]]\n",
            "Chance of Pneumonia: [[0.6937001]]\n",
            "Chance of Pneumonia: [[0.4740731]]\n",
            "Chance of Pneumonia: [[0.91397095]]\n",
            "Chance of Pneumonia: [[0.9745199]]\n",
            "Chance of Pneumonia: [[0.9416965]]\n",
            "Chance of Pneumonia: [[0.99502486]]\n",
            "Chance of Pneumonia: [[0.9956814]]\n",
            "Chance of Pneumonia: [[0.93300015]]\n",
            "Chance of Pneumonia: [[0.97877353]]\n",
            "Chance of Pneumonia: [[0.950722]]\n",
            "Chance of Pneumonia: [[0.8871283]]\n",
            "Chance of Pneumonia: [[0.98671454]]\n",
            "Chance of Pneumonia: [[0.8792491]]\n",
            "Chance of Pneumonia: [[0.9992937]]\n",
            "Chance of Pneumonia: [[0.9272638]]\n",
            "Chance of Pneumonia: [[0.7536668]]\n",
            "Chance of Pneumonia: [[0.54925805]]\n",
            "Chance of Pneumonia: [[0.9856285]]\n",
            "Chance of Pneumonia: [[0.9827155]]\n",
            "Chance of Pneumonia: [[0.9835458]]\n",
            "Chance of Pneumonia: [[0.99457526]]\n",
            "Chance of Pneumonia: [[0.99820507]]\n",
            "Chance of Pneumonia: [[0.9820947]]\n",
            "Chance of Pneumonia: [[0.82199097]]\n",
            "Chance of Pneumonia: [[0.89319426]]\n",
            "Chance of Pneumonia: [[0.94854903]]\n",
            "Chance of Pneumonia: [[0.98666465]]\n",
            "Chance of Pneumonia: [[0.9380096]]\n",
            "Chance of Pneumonia: [[0.801382]]\n",
            "Chance of Pneumonia: [[0.9814004]]\n",
            "Chance of Pneumonia: [[0.86516064]]\n",
            "Chance of Pneumonia: [[0.93707424]]\n",
            "Chance of Pneumonia: [[0.9331924]]\n",
            "Chance of Pneumonia: [[0.99240124]]\n",
            "Chance of Pneumonia: [[0.73784626]]\n",
            "Chance of Pneumonia: [[0.90331095]]\n",
            "Chance of Pneumonia: [[0.612804]]\n",
            "Chance of Pneumonia: [[0.7789964]]\n",
            "Chance of Pneumonia: [[0.75655067]]\n",
            "Chance of Pneumonia: [[0.92324644]]\n",
            "Chance of Pneumonia: [[0.44744855]]\n",
            "Chance of Pneumonia: [[0.8468762]]\n",
            "Chance of Pneumonia: [[0.99905926]]\n",
            "Chance of Pneumonia: [[0.7535153]]\n",
            "Chance of Pneumonia: [[0.7265971]]\n",
            "Chance of Pneumonia: [[0.78137666]]\n",
            "Chance of Pneumonia: [[0.7973981]]\n",
            "Chance of Pneumonia: [[0.99948466]]\n",
            "Chance of Pneumonia: [[0.9664574]]\n",
            "Chance of Pneumonia: [[0.69857806]]\n",
            "Chance of Pneumonia: [[0.91381025]]\n",
            "Chance of Pneumonia: [[0.95781785]]\n",
            "Chance of Pneumonia: [[0.9117309]]\n",
            "Chance of Pneumonia: [[0.86631745]]\n",
            "Chance of Pneumonia: [[0.956393]]\n",
            "Chance of Pneumonia: [[0.92973024]]\n",
            "Chance of Pneumonia: [[0.97514784]]\n",
            "Chance of Pneumonia: [[0.91378725]]\n",
            "Chance of Pneumonia: [[0.75931495]]\n",
            "Chance of Pneumonia: [[0.7390376]]\n",
            "Chance of Pneumonia: [[0.98842305]]\n",
            "Chance of Pneumonia: [[0.54479915]]\n",
            "Chance of Pneumonia: [[0.8746747]]\n",
            "Chance of Pneumonia: [[0.9952573]]\n",
            "Chance of Pneumonia: [[0.99232364]]\n",
            "Chance of Pneumonia: [[0.9882112]]\n",
            "Chance of Pneumonia: [[0.9931908]]\n",
            "Chance of Pneumonia: [[0.7741172]]\n",
            "Chance of Pneumonia: [[0.8873964]]\n",
            "Chance of Pneumonia: [[0.90483415]]\n",
            "Chance of Pneumonia: [[0.9783927]]\n",
            "Chance of Pneumonia: [[0.76907736]]\n",
            "Chance of Pneumonia: [[0.76786196]]\n",
            "Chance of Pneumonia: [[0.9926765]]\n",
            "Chance of Pneumonia: [[0.9710263]]\n",
            "Chance of Pneumonia: [[0.58783823]]\n",
            "Chance of Pneumonia: [[0.95844185]]\n",
            "Chance of Pneumonia: [[0.722978]]\n",
            "Chance of Pneumonia: [[0.68311375]]\n",
            "Chance of Pneumonia: [[0.9979481]]\n",
            "Chance of Pneumonia: [[0.7475295]]\n",
            "Chance of Pneumonia: [[0.9063777]]\n",
            "Chance of Pneumonia: [[0.7357349]]\n",
            "Chance of Pneumonia: [[0.9759755]]\n",
            "Chance of Pneumonia: [[0.9582705]]\n",
            "Chance of Pneumonia: [[0.5572712]]\n",
            "Chance of Pneumonia: [[0.92159635]]\n",
            "Chance of Pneumonia: [[0.99978656]]\n",
            "Chance of Pneumonia: [[0.57595164]]\n",
            "Chance of Pneumonia: [[0.96112305]]\n",
            "Chance of Pneumonia: [[0.78102046]]\n",
            "Chance of Pneumonia: [[0.6366753]]\n",
            "Chance of Pneumonia: [[0.9878159]]\n",
            "Chance of Pneumonia: [[0.51914424]]\n",
            "Chance of Pneumonia: [[0.5548185]]\n",
            "Chance of Pneumonia: [[0.94840693]]\n",
            "Chance of Pneumonia: [[0.67828035]]\n",
            "Chance of Pneumonia: [[0.99205714]]\n",
            "Chance of Pneumonia: [[0.9992092]]\n",
            "Chance of Pneumonia: [[0.99875677]]\n",
            "Chance of Pneumonia: [[0.98709726]]\n",
            "Chance of Pneumonia: [[0.95943195]]\n",
            "Chance of Pneumonia: [[0.8873257]]\n",
            "Chance of Pneumonia: [[0.9742683]]\n",
            "Chance of Pneumonia: [[0.87427825]]\n",
            "Chance of Pneumonia: [[0.98134816]]\n",
            "Chance of Pneumonia: [[0.93153775]]\n",
            "Chance of Pneumonia: [[0.90133095]]\n",
            "Chance of Pneumonia: [[0.8543412]]\n",
            "Chance of Pneumonia: [[0.91743255]]\n",
            "Chance of Pneumonia: [[0.9656303]]\n",
            "Chance of Pneumonia: [[0.9077199]]\n",
            "Chance of Pneumonia: [[0.9997161]]\n",
            "Chance of Pneumonia: [[0.9953223]]\n",
            "Chance of Pneumonia: [[0.9512495]]\n",
            "Chance of Pneumonia: [[0.9747099]]\n",
            "Chance of Pneumonia: [[0.65943533]]\n",
            "Chance of Pneumonia: [[0.4106155]]\n",
            "Chance of Pneumonia: [[0.99665195]]\n",
            "Chance of Pneumonia: [[0.6871085]]\n",
            "Chance of Pneumonia: [[0.9978504]]\n",
            "Chance of Pneumonia: [[0.90479493]]\n",
            "Chance of Pneumonia: [[0.92074144]]\n",
            "Chance of Pneumonia: [[0.9783426]]\n",
            "Chance of Pneumonia: [[0.9646364]]\n",
            "Chance of Pneumonia: [[0.8970663]]\n",
            "Chance of Pneumonia: [[0.999899]]\n",
            "Chance of Pneumonia: [[0.6975236]]\n"
          ],
          "name": "stdout"
        }
      ]
    },
    {
      "cell_type": "code",
      "metadata": {
        "id": "FT5B_V9J9uET"
      },
      "source": [
        "# our code has a 91% validation accuracy on test data"
      ],
      "execution_count": 21,
      "outputs": []
    },
    {
      "cell_type": "code",
      "metadata": {
        "colab": {
          "base_uri": "https://localhost:8080/",
          "height": 90
        },
        "id": "MTmFmm1s3ElA",
        "outputId": "ea81e98b-9753-4fa6-ea8b-f1e2484d2bb9"
      },
      "source": [
        "'''\r\n",
        "#img_array = preprocess_input(get_img_array(\"/content/files/chest_xray/train/PNEUMONIA/person1945_bacteria_4872.jpeg\", size=(150,150)))\r\n",
        "\r\n",
        "img_path = \"/content/files/chest_xray/train/PNEUMONIA/person1945_bacteria_4872.jpeg\"\r\n",
        "\r\n",
        "# preds = model.predict(np.expand_dims(X_test[340], axis=0))\r\n",
        "\r\n",
        "img = image.load_img(img_path, target_size=(150,150))\r\n",
        "x = image.img_to_array(img)\r\n",
        "x = np.expand_dims(x, axis=0)\r\n",
        "img = preprocess_input(x)\r\n",
        "\r\n",
        "\r\n",
        "preds = model.predict(img)\r\n",
        "\r\n",
        "\r\n",
        "print(\"Predicted:\", (preds))\r\n",
        "'''"
      ],
      "execution_count": 22,
      "outputs": [
        {
          "output_type": "execute_result",
          "data": {
            "application/vnd.google.colaboratory.intrinsic+json": {
              "type": "string"
            },
            "text/plain": [
              "'\\n#img_array = preprocess_input(get_img_array(\"/content/files/chest_xray/train/PNEUMONIA/person1945_bacteria_4872.jpeg\", size=(150,150)))\\n\\nimg_path = \"/content/files/chest_xray/train/PNEUMONIA/person1945_bacteria_4872.jpeg\"\\n\\n# preds = model.predict(np.expand_dims(X_test[340], axis=0))\\n\\nimg = image.load_img(img_path, target_size=(150,150))\\nx = image.img_to_array(img)\\nx = np.expand_dims(x, axis=0)\\nimg = preprocess_input(x)\\n\\n\\npreds = model.predict(img)\\n\\n\\nprint(\"Predicted:\", (preds))\\n'"
            ]
          },
          "metadata": {
            "tags": []
          },
          "execution_count": 22
        }
      ]
    },
    {
      "cell_type": "code",
      "metadata": {
        "id": "vOYRZ3UoL6YY",
        "colab": {
          "base_uri": "https://localhost:8080/",
          "height": 545
        },
        "outputId": "2de5614b-8b8a-400d-8a58-96847854e85f"
      },
      "source": [
        "import matplotlib.pyplot as plt\n",
        "\n",
        "acc = history.history['accuracy']\n",
        "val_acc = history.history['val_accuracy']\n",
        "loss = history.history['loss']\n",
        "val_loss = history.history['val_loss']\n",
        "\n",
        "epochs = range(1, len(acc) + 1)\n",
        "\n",
        "plt.plot(epochs, acc, 'bo', label='Training accuracy')\n",
        "plt.plot(epochs, val_acc, 'b', label='Validation accuracy')\n",
        "plt.title('Training and validation accuracy')\n",
        "plt.legend()\n",
        "\n",
        "plt.figure()\n",
        "\n",
        "plt.plot(epochs, loss, 'bo', label='Training loss')\n",
        "plt.plot(epochs, val_loss, 'b', label='Validation loss')\n",
        "plt.title('Training and validation loss')\n",
        "plt.legend()\n",
        "\n",
        "plt.show()"
      ],
      "execution_count": 23,
      "outputs": [
        {
          "output_type": "display_data",
          "data": {
            "image/png": "[encoded data removed]",
            "text/plain": [
              "<Figure size 432x288 with 1 Axes>"
            ]
          },
          "metadata": {
            "tags": [],
            "needs_background": "light"
          }
        },
        {
          "output_type": "display_data",
          "data": {
            "image/png": "[encoded data removed]",
            "text/plain": [
              "<Figure size 432x288 with 1 Axes>"
            ]
          },
          "metadata": {
            "tags": [],
            "needs_background": "light"
          }
        }
      ]
    },
    {
      "cell_type": "code",
      "metadata": {
        "colab": {
          "base_uri": "https://localhost:8080/",
          "height": 809
        },
        "id": "-LspaSY7zeQK",
        "outputId": "b1a697c7-f89a-4825-a8f9-6fc458f74eb3"
      },
      "source": [
        "precision = history.history['precision_m']\r\n",
        "recall = history.history['recall_m']\r\n",
        "f1 = history.history['f1_m']\r\n",
        "val_precision = history.history['val_precision_m']\r\n",
        "val_recall = history.history['val_recall_m']\r\n",
        "val_f1 = history.history['val_f1_m']\r\n",
        "\r\n",
        "epochs = range(1, len(acc) + 1)\r\n",
        "\r\n",
        "plt.plot(epochs, precision, 'bo', label='Training precision')\r\n",
        "plt.plot(epochs, val_precision, 'b', label='Validation precision')\r\n",
        "plt.title('Training and validation precision')\r\n",
        "plt.legend()\r\n",
        "\r\n",
        "plt.figure()\r\n",
        "\r\n",
        "plt.plot(epochs, recall, 'bo', label='Training recall')\r\n",
        "plt.plot(epochs, val_recall, 'b', label='Validation recall')\r\n",
        "plt.title('Training and validation recall')\r\n",
        "plt.legend()\r\n",
        "\r\n",
        "plt.figure()\r\n",
        "\r\n",
        "plt.plot(epochs, acc, 'bo', label='Training F1')\r\n",
        "plt.plot(epochs, val_f1, 'b', label='Validation F1')\r\n",
        "plt.title('Training and validation F1')\r\n",
        "plt.legend()\r\n",
        "\r\n",
        "plt.show()"
      ],
      "execution_count": 24,
      "outputs": [
        {
          "output_type": "display_data",
          "data": {
            "image/png": "[encoded data removed]",
            "text/plain": [
              "<Figure size 432x288 with 1 Axes>"
            ]
          },
          "metadata": {
            "tags": [],
            "needs_background": "light"
          }
        },
        {
          "output_type": "display_data",
          "data": {
            "image/png": "[encoded data removed]",
            "text/plain": [
              "<Figure size 432x288 with 1 Axes>"
            ]
          },
          "metadata": {
            "tags": [],
            "needs_background": "light"
          }
        },
        {
          "output_type": "display_data",
          "data": {
            "image/png": "[encoded data removed]",
            "text/plain": [
              "<Figure size 432x288 with 1 Axes>"
            ]
          },
          "metadata": {
            "tags": [],
            "needs_background": "light"
          }
        }
      ]
    },
    {
      "cell_type": "code",
      "metadata": {
        "id": "Wf7U8_44xeiZ",
        "colab": {
          "base_uri": "https://localhost:8080/",
          "height": 135
        },
        "outputId": "64eb7f03-1a34-4a65-cab2-b9db1135d601"
      },
      "source": [
        "# model.compile(optimizer='rmsprop',\n",
        "#               loss='binary_crossentropy',\n",
        "#               metrics=['accuracy'])\n",
        "# history = model.fit(X_train, y_train, epochs=10, batch_size=32, validation_data=(X_test, y_test))\n",
        "# model.fit(X_val, y_val, epochs=15, batch_size=32) #this line is for debug purposes\n",
        "\n",
        "# things to consider\n",
        "# cost function for false negatives and false positives\n",
        "# slightly unbalanced data set -- oversample? undersample? both?\n",
        "# three-way classification section\n",
        "shit faggot"
      ],
      "execution_count": 25,
      "outputs": [
        {
          "output_type": "error",
          "ename": "SyntaxError",
          "evalue": "ignored",
          "traceback": [
            "\u001b[0;36m  File \u001b[0;32m\"<ipython-input-25-8c8cdf06a909>\"\u001b[0;36m, line \u001b[0;32m11\u001b[0m\n\u001b[0;31m    shit faggot\u001b[0m\n\u001b[0m              ^\u001b[0m\n\u001b[0;31mSyntaxError\u001b[0m\u001b[0;31m:\u001b[0m invalid syntax\n"
          ]
        }
      ]
    },
    {
      "cell_type": "markdown",
      "metadata": {
        "id": "8_t2z_GVQJgi"
      },
      "source": [
        "We graph our stuff here"
      ]
    },
    {
      "cell_type": "markdown",
      "metadata": {
        "id": "ku3lehdpCInu"
      },
      "source": [
        "##Imbalanced Data"
      ]
    },
    {
      "cell_type": "code",
      "metadata": {
        "id": "WbxW2J76CNTd"
      },
      "source": [
        "from sklearn.utils import class_weight\n",
        "class_weight = class_weight.compute_class_weight('balanced',np.unique(y_train),y_train)\n",
        "print(class_weight)"
      ],
      "execution_count": null,
      "outputs": []
    },
    {
      "cell_type": "code",
      "metadata": {
        "id": "nIyabjtyClga"
      },
      "source": [
        "class_weight = {0:1.94, 1:0.67}\n",
        "print(class_weight)"
      ],
      "execution_count": null,
      "outputs": []
    },
    {
      "cell_type": "code",
      "metadata": {
        "id": "Z3UFreOxHXPL"
      },
      "source": [
        "model = models.Sequential()\n",
        "model.add(layers.Conv2D(32, (3, 3), activation='relu', input_shape=(299, 299, 3)))\n",
        "model.add(layers.MaxPooling2D((2, 2)))\n",
        "model.add(layers.Conv2D(64, (3, 3), activation='relu'))\n",
        "model.add(layers.MaxPooling2D((2, 2)))\n",
        "model.add(layers.Conv2D(64, (3, 3), activation='relu'))\n",
        "model.add(layers.Flatten())\n",
        "model.add(layers.Dense(1,activation='sigmoid'))"
      ],
      "execution_count": null,
      "outputs": []
    },
    {
      "cell_type": "code",
      "metadata": {
        "id": "IGsL_e05HjQb"
      },
      "source": [
        "model.compile(optimizer='rmsprop',\n",
        "              loss='binary_crossentropy',\n",
        "              metrics=['accuracy'])\n",
        "history = model.fit(X_train, y_train, epochs=15, batch_size=32, validation_data=(X_test, y_test),class_weight=class_weight)"
      ],
      "execution_count": null,
      "outputs": []
    },
    {
      "cell_type": "code",
      "metadata": {
        "id": "gYZGFIVaIJff"
      },
      "source": [
        "model= tf.keras.applications.Xception(\n",
        "    include_top=True,\n",
        "    weights=None,\n",
        "    input_tensor=None,\n",
        "    input_shape=None,\n",
        "    pooling=max,\n",
        "    classes = 2,\n",
        "    classifier_activation=\"softmax\",\n",
        ")"
      ],
      "execution_count": null,
      "outputs": []
    },
    {
      "cell_type": "code",
      "metadata": {
        "id": "B5SaAo9CTQgN"
      },
      "source": [
        "opt=tf.keras.optimizers.Adam(\n",
        "    learning_rate=0.015,\n",
        "    name=\"Adam\",\n",
        "\n",
        ")"
      ],
      "execution_count": null,
      "outputs": []
    },
    {
      "cell_type": "code",
      "metadata": {
        "id": "z5qG3PUoIPZz"
      },
      "source": [
        "model.compile(optimizer=opt,\n",
        "              loss='binary_crossentropy',\n",
        "              metrics=['accuracy'])\n",
        "history = model.fit(X_train, y_train, epochs=15, batch_size=32, validation_data=(X_test, y_test),class_weight=class_weight)"
      ],
      "execution_count": null,
      "outputs": []
    },
    {
      "cell_type": "code",
      "metadata": {
        "id": "TvBEr9HiVAMP"
      },
      "source": [
        "!pip install imblearn "
      ],
      "execution_count": null,
      "outputs": []
    },
    {
      "cell_type": "code",
      "metadata": {
        "id": "PjbxgpeoVJOM"
      },
      "source": [
        "from imblearn.over_sampling import SMOTE\n",
        "smote = SMOTE(random_state=0)\n",
        "\n",
        "#X_train_S, y_train_S = smote.fit_sample(X_train,y_train)\n",
        "\n",
        "\n",
        "print(X_train[1])"
      ],
      "execution_count": null,
      "outputs": []
    },
    {
      "cell_type": "code",
      "metadata": {
        "id": "ywtwIZFlVfuy"
      },
      "source": [
        "from collections import Counter\n",
        "print(Counter(y_train_S))"
      ],
      "execution_count": null,
      "outputs": []
    },
    {
      "cell_type": "markdown",
      "metadata": {
        "id": "IPNrKBXlpIig"
      },
      "source": [
        "# HEAT MAPS!"
      ]
    },
    {
      "cell_type": "code",
      "metadata": {
        "id": "NcyvdODRG-k3"
      },
      "source": [
        "def get_img_array(img_path, size):\n",
        "    # `img` is a PIL image of size 299x299\n",
        "    img = tf.keras.preprocessing.image.load_img(img_path, target_size=size)\n",
        "    # `array` is a float32 Numpy array of shape (299, 299, 3)\n",
        "    array = tf.keras.preprocessing.image.img_to_array(img)\n",
        "    # We add a dimension to transform our array into a \"batch\"\n",
        "    # of size (1, 299, 299, 3)\n",
        "    array = np.expand_dims(array, axis=0)\n",
        "    return array"
      ],
      "execution_count": 29,
      "outputs": []
    },
    {
      "cell_type": "code",
      "metadata": {
        "id": "t8p0Q9KlHABb",
        "colab": {
          "base_uri": "https://localhost:8080/",
          "height": 293
        },
        "outputId": "494d5b83-3cae-42b1-8481-11befdeccef2"
      },
      "source": [
        "last_conv_layer_name = \"conv2d_3\"\n",
        "classifier_layer_names = [\n",
        "    \"activation_3\", \"max_pooling2d_3\", \"flatten\", \"dense\", \"activation_4\", \"dropout\", \"dense_1\"\n",
        "]\n",
        "\n",
        "\n",
        "\n",
        "last_conv_layer = model.get_layer(last_conv_layer_name)\n",
        "last_conv_layer_model = tf.keras.Model(model.inputs, last_conv_layer.output)\n",
        "\n",
        "# Second, we create a model that maps the activations of the last conv\n",
        "# layer to the final class predictions\n",
        "classifier_input = tf.keras.Input(shape=last_conv_layer.output.shape[1:])\n",
        "x = classifier_input\n",
        "for layer_name in classifier_layer_names:\n",
        "    x = model.get_layer(layer_name)(x)\n",
        "classifier_model = tf.keras.Model(classifier_input, x)\n",
        "\n",
        "# Then, we compute the gradient of the top predicted class for our input image\n",
        "# with respect to the activations of the last conv layer\n",
        "with tf.GradientTape() as tape:\n",
        "    # Compute activations of the last conv layer and make the tape watch it\n",
        "    last_conv_layer_output = last_conv_layer_model(img)\n",
        "    tape.watch(last_conv_layer_output)\n",
        "    # Compute class predictions\n",
        "    preds = classifier_model(last_conv_layer_output)\n",
        "    top_pred_index = tf.argmax(preds[0])\n",
        "    top_class_channel = preds[:, top_pred_index]\n",
        "\n",
        "# This is the gradient of the top predicted class with regard to\n",
        "# the output feature map of the last conv layer\n",
        "grads = tape.gradient(top_class_channel, last_conv_layer_output)\n",
        "\n",
        "# This is a vector where each entry is the mean intensity of the gradient\n",
        "# over a specific feature map channel\n",
        "pooled_grads = tf.reduce_mean(grads, axis=(0, 1, 2))\n",
        "\n",
        "# We multiply each channel in the feature map array\n",
        "# by \"how important this channel is\" with regard to the top predicted class\n",
        "last_conv_layer_output = last_conv_layer_output.numpy()[0]\n",
        "pooled_grads = pooled_grads.numpy()\n",
        "for i in range(pooled_grads.shape[-1]):\n",
        "    last_conv_layer_output[:, :, i] *= pooled_grads[i]\n",
        "\n",
        "# The channel-wise mean of the resulting feature map\n",
        "# is our heatmap of class activation\n",
        "heatmap = np.mean(last_conv_layer_output, axis=-1)\n",
        "\n",
        "# For visualization purpose, we will also normalize the heatmap between 0 & 1\n",
        "# heatmap = np.maximum(heatmap, 0) / np.max(heatmap)\n",
        "\n",
        "plt.matshow(heatmap)"
      ],
      "execution_count": 58,
      "outputs": [
        {
          "output_type": "execute_result",
          "data": {
            "text/plain": [
              "<matplotlib.image.AxesImage at 0x7f1e54e24358>"
            ]
          },
          "metadata": {
            "tags": []
          },
          "execution_count": 58
        },
        {
          "output_type": "display_data",
          "data": {
            "image/png": "[encoded data removed]",
            "text/plain": [
              "<Figure size 288x288 with 1 Axes>"
            ]
          },
          "metadata": {
            "tags": [],
            "needs_background": "light"
          }
        }
      ]
    },
    {
      "cell_type": "code",
      "metadata": {
        "id": "P1fc24NDU0El"
      },
      "source": [
        "# todo: fix potential problem for displaying the activation of the conv2d_3 layer.\r\n",
        "\r\n",
        "img_path = \"/content/files/chest_xray/train/PNEUMONIA/person1945_bacteria_4872.jpeg\"\r\n",
        "img = image.load_img(img_path, target_size=(150,150))\r\n",
        "x = image.img_to_array(img)\r\n",
        "x = np.expand_dims(x, axis=0)\r\n",
        "img = preprocess_input(x)\r\n",
        "\r\n",
        "last_conv_layer = model.get_layer('conv2d_3')\r\n",
        "last_conv_layer_model = Model(model.inputs, last_conv_layer.output)\r\n",
        "\r\n",
        "classifier_input = Input(shape=last_conv_layer.output.shape[1:])\r\n",
        "cl_in = classifier_input\r\n",
        "\r\n",
        "for i in [\r\n",
        "    \"activation_3\", \"max_pooling2d_3\", \"flatten\", \"dense\", \"activation_4\", \"dropout\", \"dense_1\"\r\n",
        "]:\r\n",
        "  cl_in = model.get_layer(i)(cl_in)\r\n",
        "\r\n",
        "classifier_model = Model(classifier_input, cl_in)\r\n",
        "\r\n",
        "with tf.GradientTape() as tape:\r\n",
        "  last_conv_layer_output = last_conv_layer_model(img)\r\n",
        "  tape.watch(last_conv_layer_output)\r\n",
        "  preds = classifier_model(last_conv_layer_output)\r\n",
        "  top_pred_index = tf.argmax(preds[0])\r\n",
        "  top_class_channel = preds[:, top_pred_index]\r\n",
        "\r\n",
        "grads = tape.gradient(top_class_channel, last_conv_layer_output)\r\n",
        "\r\n",
        "pooled_grads = K.mean(grads, axis=(0, 1, 2))\r\n",
        "\r\n",
        "pooled_grads_value = pooled_grads.numpy() \r\n",
        "\r\n",
        "conv_layer_output_value = last_conv_layer_output.numpy()[0]\r\n",
        "\r\n",
        "for i in range(64):\r\n",
        "    conv_layer_output_value[:, :, i] *= pooled_grads_value[i]\r\n",
        "    \r\n",
        "heatmap = np.mean(conv_layer_output_value, axis=-1)"
      ],
      "execution_count": 59,
      "outputs": []
    },
    {
      "cell_type": "code",
      "metadata": {
        "id": "60xccWUQzGvH"
      },
      "source": [
        "heatmap = np.maximum(heatmap, 0) / np.max(heatmap) # this might be a problem."
      ],
      "execution_count": 54,
      "outputs": []
    },
    {
      "cell_type": "code",
      "metadata": {
        "colab": {
          "base_uri": "https://localhost:8080/",
          "height": 275
        },
        "id": "7lBUhgUYzKdo",
        "outputId": "47683d4c-02b0-47d6-d266-543646e80f25"
      },
      "source": [
        "plt.matshow(heatmap)\r\n",
        "plt.show()"
      ],
      "execution_count": 57,
      "outputs": [
        {
          "output_type": "display_data",
          "data": {
            "image/png": "[encoded data removed]",
            "text/plain": [
              "<Figure size 288x288 with 1 Axes>"
            ]
          },
          "metadata": {
            "tags": [],
            "needs_background": "light"
          }
        }
      ]
    },
    {
      "cell_type": "code",
      "metadata": {
        "id": "dZ0qcUbAHJgy",
        "colab": {
          "base_uri": "https://localhost:8080/",
          "height": 733
        },
        "outputId": "58fc943f-2e78-411b-8b7f-4af035940055"
      },
      "source": [
        "# We load the original image\n",
        "img = tf.keras.preprocessing.image.load_img(img_path)\n",
        "img = tf.keras.preprocessing.image.img_to_array(img)\n",
        "\n",
        "# We rescale heatmap to a range 0-255\n",
        "heatmap = np.uint8(255 * heatmap)\n",
        "\n",
        "# We use jet colormap to colorize heatmap\n",
        "jet = cm.get_cmap(\"jet\")\n",
        "\n",
        "# We use RGB values of the colormap\n",
        "jet_colors = jet(np.arange(256))[:, :3]\n",
        "jet_heatmap = jet_colors[heatmap]\n",
        "\n",
        "# We create an image with RGB colorized heatmap\n",
        "jet_heatmap = tf.keras.preprocessing.image.array_to_img(jet_heatmap)\n",
        "jet_heatmap = jet_heatmap.resize((img.shape[1], img.shape[0]))\n",
        "jet_heatmap = tf.keras.preprocessing.image.img_to_array(jet_heatmap)\n",
        "\n",
        "# Superimpose the heatmap on original image\n",
        "superimposed_img = jet_heatmap * 0.4 + img\n",
        "superimposed_img = tf.keras.preprocessing.image.array_to_img(superimposed_img)\n",
        "\n",
        "# Save the superimposed image\n",
        "save_path = \"pneumonia_cam.jpg\"\n",
        "superimposed_img.save(save_path)\n",
        "\n",
        "# Display Grad CAM\n",
        "display(Image(save_path))"
      ],
      "execution_count": 35,
      "outputs": [
        {
          "output_type": "display_data",
          "data": {
            "image/jpeg": "[encoded data removed]",
            "text/plain": [
              "<IPython.core.display.Image object>"
            ]
          },
          "metadata": {
            "tags": []
          }
        }
      ]
    },
    {
      "cell_type": "markdown",
      "metadata": {
        "id": "dP3ctC8ERXHD"
      },
      "source": [
        "# Three-Way Classification\n",
        "\n",
        "We will now be processing our data such that we will also be taking into consideration, the type of pneumonia one can be diagnosed with -- bacterial and viral."
      ]
    },
    {
      "cell_type": "code",
      "metadata": {
        "id": "y9odK_pyRjDi"
      },
      "source": [
        "def load_data_2(path):\n",
        "  imgs = []\n",
        "  labels = []\n",
        "\n",
        "  for dir in [\"NORMAL\", \"PNEUMONIA\"]:\n",
        "    temp_path = path + \"/\" + dir\n",
        "    counter = 0\n",
        "    for f in os.listdir(temp_path):\n",
        "      # To reduce training costs, the images are resized to 200x200.\n",
        "      img = image.load_img(temp_path + \"/\" + f, target_size=(150,150))\n",
        "      x = image.img_to_array(img)\n",
        "      imgs.append(x)\n",
        "\n",
        "      # one-hot encoded labels\n",
        "      labels.append([int(not ('bacteria' in f or 'virus' in f)), int('bacteria' in f), int('virus' in f)])\n",
        "\n",
        "\n",
        "      # to check progress:\n",
        "      \n",
        "      if (counter % 500 == 0):\n",
        "        print(\"Files loaded for \" + path + \": \" + str(counter))\n",
        "      counter += 1\n",
        "\n",
        "      \n",
        "\n",
        "  imgs = np.asarray(imgs)\n",
        "  labels = np.asarray(labels)\n",
        "  # normalize our data from values 0-1\n",
        "  imgs /= 255\n",
        "  print(imgs.shape) # left there for debug\n",
        "  return imgs, labels"
      ],
      "execution_count": 70,
      "outputs": []
    },
    {
      "cell_type": "code",
      "metadata": {
        "id": "9cg-t5Dh79gE",
        "colab": {
          "base_uri": "https://localhost:8080/"
        },
        "outputId": "17a16021-2376-410b-e976-279406d6e1ef"
      },
      "source": [
        "X_train, y_train = load_data_2(\"/content/files/chest_xray/train\")\n",
        "X_test, y_test = load_data_2(\"/content/files/chest_xray/test\")\n",
        "print(y_test)"
      ],
      "execution_count": 71,
      "outputs": [
        {
          "output_type": "stream",
          "text": [
            "Files loaded for /content/files/chest_xray/train: 0\n",
            "Files loaded for /content/files/chest_xray/train: 500\n",
            "Files loaded for /content/files/chest_xray/train: 1000\n",
            "Files loaded for /content/files/chest_xray/train: 0\n",
            "Files loaded for /content/files/chest_xray/train: 500\n",
            "Files loaded for /content/files/chest_xray/train: 1000\n",
            "Files loaded for /content/files/chest_xray/train: 1500\n",
            "Files loaded for /content/files/chest_xray/train: 2000\n",
            "Files loaded for /content/files/chest_xray/train: 2500\n",
            "Files loaded for /content/files/chest_xray/train: 3000\n",
            "Files loaded for /content/files/chest_xray/train: 3500\n",
            "(5216, 150, 150, 3)\n",
            "Files loaded for /content/files/chest_xray/test: 0\n",
            "Files loaded for /content/files/chest_xray/test: 0\n",
            "(624, 150, 150, 3)\n",
            "[[1 0 0]\n",
            " [1 0 0]\n",
            " [1 0 0]\n",
            " ...\n",
            " [0 0 1]\n",
            " [0 0 1]\n",
            " [0 0 1]]\n"
          ],
          "name": "stdout"
        }
      ]
    },
    {
      "cell_type": "markdown",
      "metadata": {
        "id": "VTmSiN48XfZa"
      },
      "source": [
        "We will now prepare our dataset for keras's datagen_from_directory."
      ]
    },
    {
      "cell_type": "code",
      "metadata": {
        "id": "nC_1P8jwXeuk",
        "colab": {
          "base_uri": "https://localhost:8080/",
          "height": 90
        },
        "outputId": "f12b9ebf-2bf1-47d7-9837-32489b1496de"
      },
      "source": [
        "'''\r\n",
        "# prepare three-way categorical data for training\r\n",
        "%cd files/chest_xray/train\r\n",
        "!mkdir VIRUS\r\n",
        "!mkdir BACTERIA\r\n",
        "%cd PNEUMONIA\r\n",
        "!bash -c 'mv *bacteria*.jpeg ../BACTERIA'\r\n",
        "!bash -c 'mv *virus*.jpeg ../VIRUS'\r\n",
        "%cd ..\r\n",
        "!rmdir PNEUMONIA\r\n",
        "!ls\r\n",
        "\r\n",
        "# prepare three-way categorical data for training\r\n",
        "%cd ../test\r\n",
        "!mkdir VIRUS\r\n",
        "!mkdir BACTERIA\r\n",
        "%cd PNEUMONIA\r\n",
        "!bash -c 'mv *bacteria*.jpeg ../BACTERIA'\r\n",
        "!bash -c 'mv *virus*.jpeg ../VIRUS'\r\n",
        "%cd ..\r\n",
        "!rmdir PNEUMONIA\r\n",
        "%cd ../../..\r\n",
        "'''"
      ],
      "execution_count": 72,
      "outputs": [
        {
          "output_type": "execute_result",
          "data": {
            "application/vnd.google.colaboratory.intrinsic+json": {
              "type": "string"
            },
            "text/plain": [
              "\"\\n# prepare three-way categorical data for training\\n%cd files/chest_xray/train\\n!mkdir VIRUS\\n!mkdir BACTERIA\\n%cd PNEUMONIA\\n!bash -c 'mv *bacteria*.jpeg ../BACTERIA'\\n!bash -c 'mv *virus*.jpeg ../VIRUS'\\n%cd ..\\n!rmdir PNEUMONIA\\n!ls\\n\\n# prepare three-way categorical data for training\\n%cd ../test\\n!mkdir VIRUS\\n!mkdir BACTERIA\\n%cd PNEUMONIA\\n!bash -c 'mv *bacteria*.jpeg ../BACTERIA'\\n!bash -c 'mv *virus*.jpeg ../VIRUS'\\n%cd ..\\n!rmdir PNEUMONIA\\n%cd ../../..\\n\""
            ]
          },
          "metadata": {
            "tags": []
          },
          "execution_count": 72
        }
      ]
    },
    {
      "cell_type": "code",
      "metadata": {
        "id": "mG-6-YJoXfBv",
        "colab": {
          "base_uri": "https://localhost:8080/",
          "height": 126
        },
        "outputId": "7dd39c32-2fcc-42d5-ee84-d842e45be684"
      },
      "source": [
        "'''\r\n",
        "from keras.preprocessing.image import ImageDataGenerator, array_to_img,img_to_array, load_img\r\n",
        "\r\n",
        "batch_size = 128\r\n",
        "\r\n",
        "traingen = ImageDataGenerator(\r\n",
        "    rescale= 1./255,\r\n",
        "    rotation_range =45,\r\n",
        "    shear_range=0.2,\r\n",
        "    zoom_range=0.2,\r\n",
        "    horizontal_flip = True\r\n",
        "\r\n",
        ")\r\n",
        "\r\n",
        "testgen = ImageDataGenerator(rescale=1./255)\r\n",
        "\r\n",
        "train_generator = traingen.flow_from_directory(\r\n",
        "        \"/content/files/chest_xray/train\",\r\n",
        "        target_size=(150, 150),\r\n",
        "        classes=[\"NORMAL\", \"BACTERIA\", \"VIRUS\"],\r\n",
        "        batch_size=32,\r\n",
        "        class_mode='categorical')\r\n",
        "validation_generator = testgen.flow_from_directory(\r\n",
        "        \"/content/files/chest_xray/test\",\r\n",
        "        target_size=(150, 150),\r\n",
        "        classes=[\"NORMAL\", \"BACTERIA\", \"VIRUS\"],\r\n",
        "        batch_size=32,\r\n",
        "        class_mode='categorical')\r\n",
        "'''"
      ],
      "execution_count": 73,
      "outputs": [
        {
          "output_type": "execute_result",
          "data": {
            "application/vnd.google.colaboratory.intrinsic+json": {
              "type": "string"
            },
            "text/plain": [
              "'\\nfrom keras.preprocessing.image import ImageDataGenerator, array_to_img,img_to_array, load_img\\n\\nbatch_size = 128\\n\\ntraingen = ImageDataGenerator(\\n    rescale= 1./255,\\n    rotation_range =45,\\n    shear_range=0.2,\\n    zoom_range=0.2,\\n    horizontal_flip = True\\n\\n)\\n\\ntestgen = ImageDataGenerator(rescale=1./255)\\n\\ntrain_generator = traingen.flow_from_directory(\\n        \"/content/files/chest_xray/train\",\\n        target_size=(150, 150),\\n        classes=[\"NORMAL\", \"BACTERIA\", \"VIRUS\"],\\n        batch_size=32,\\n        class_mode=\\'categorical\\')\\nvalidation_generator = testgen.flow_from_directory(\\n        \"/content/files/chest_xray/test\",\\n        target_size=(150, 150),\\n        classes=[\"NORMAL\", \"BACTERIA\", \"VIRUS\"],\\n        batch_size=32,\\n        class_mode=\\'categorical\\')\\n'"
            ]
          },
          "metadata": {
            "tags": []
          },
          "execution_count": 73
        }
      ]
    },
    {
      "cell_type": "code",
      "metadata": {
        "id": "peuL-BFrpctl"
      },
      "source": [
        ""
      ],
      "execution_count": 63,
      "outputs": []
    },
    {
      "cell_type": "code",
      "metadata": {
        "id": "J3JqnnNphg7O"
      },
      "source": [
        "K.clear_session()\r\n",
        "\r\n",
        "model = models.Sequential()\r\n",
        "\r\n",
        "model.add(layers.Conv2D(32, (3, 3), activation='relu', input_shape=(150, 150, 3)))\r\n",
        "model.add(layers.Activation('relu'))\r\n",
        "model.add(layers.MaxPooling2D((2, 2)))\r\n",
        "\r\n",
        "model.add(layers.Conv2D(32, (3, 3), activation='relu'))\r\n",
        "model.add(layers.Activation('relu'))\r\n",
        "model.add(layers.MaxPooling2D((2, 2)))\r\n",
        "\r\n",
        "\r\n",
        "model.add(layers.Conv2D(64, (3, 3), activation='relu'))\r\n",
        "model.add(layers.Activation('relu'))\r\n",
        "model.add(layers.MaxPooling2D((2, 2)))\r\n",
        "\r\n",
        "model.add(layers.Conv2D(64, (3, 3), activation='relu'))\r\n",
        "model.add(layers.Activation('relu'))\r\n",
        "model.add(layers.MaxPooling2D((2, 2)))\r\n",
        "\r\n",
        "\r\n",
        "model.add(layers.Flatten())\r\n",
        "model.add(layers.Dense(64))\r\n",
        "model.add(layers.Activation('relu'))\r\n",
        "model.add(layers.Dropout(0.5))\r\n",
        "model.add(layers.Dense(3,activation='softmax'))\r\n",
        "\r\n",
        "\r\n",
        "model.compile(optimizer='rmsprop',\r\n",
        "              loss='categorical_crossentropy',\r\n",
        "              metrics=['accuracy',f1_m,precision_m, recall_m])"
      ],
      "execution_count": 74,
      "outputs": []
    },
    {
      "cell_type": "code",
      "metadata": {
        "colab": {
          "base_uri": "https://localhost:8080/"
        },
        "id": "felWtYtBh8An",
        "outputId": "23be919b-f5ea-4963-966f-8287f22585ff"
      },
      "source": [
        "model.summary()"
      ],
      "execution_count": 75,
      "outputs": [
        {
          "output_type": "stream",
          "text": [
            "Model: \"sequential\"\n",
            "_________________________________________________________________\n",
            "Layer (type)                 Output Shape              Param #   \n",
            "=================================================================\n",
            "conv2d (Conv2D)              (None, 148, 148, 32)      896       \n",
            "_________________________________________________________________\n",
            "activation (Activation)      (None, 148, 148, 32)      0         \n",
            "_________________________________________________________________\n",
            "max_pooling2d (MaxPooling2D) (None, 74, 74, 32)        0         \n",
            "_________________________________________________________________\n",
            "conv2d_1 (Conv2D)            (None, 72, 72, 32)        9248      \n",
            "_________________________________________________________________\n",
            "activation_1 (Activation)    (None, 72, 72, 32)        0         \n",
            "_________________________________________________________________\n",
            "max_pooling2d_1 (MaxPooling2 (None, 36, 36, 32)        0         \n",
            "_________________________________________________________________\n",
            "conv2d_2 (Conv2D)            (None, 34, 34, 64)        18496     \n",
            "_________________________________________________________________\n",
            "activation_2 (Activation)    (None, 34, 34, 64)        0         \n",
            "_________________________________________________________________\n",
            "max_pooling2d_2 (MaxPooling2 (None, 17, 17, 64)        0         \n",
            "_________________________________________________________________\n",
            "conv2d_3 (Conv2D)            (None, 15, 15, 64)        36928     \n",
            "_________________________________________________________________\n",
            "activation_3 (Activation)    (None, 15, 15, 64)        0         \n",
            "_________________________________________________________________\n",
            "max_pooling2d_3 (MaxPooling2 (None, 7, 7, 64)          0         \n",
            "_________________________________________________________________\n",
            "flatten (Flatten)            (None, 3136)              0         \n",
            "_________________________________________________________________\n",
            "dense (Dense)                (None, 64)                200768    \n",
            "_________________________________________________________________\n",
            "activation_4 (Activation)    (None, 64)                0         \n",
            "_________________________________________________________________\n",
            "dropout (Dropout)            (None, 64)                0         \n",
            "_________________________________________________________________\n",
            "dense_1 (Dense)              (None, 3)                 195       \n",
            "=================================================================\n",
            "Total params: 266,531\n",
            "Trainable params: 266,531\n",
            "Non-trainable params: 0\n",
            "_________________________________________________________________\n"
          ],
          "name": "stdout"
        }
      ]
    },
    {
      "cell_type": "code",
      "metadata": {
        "id": "LQimtX9riRXD"
      },
      "source": [
        "# history = model.fit(train_generator,steps_per_epoch=(X_train.shape[0]//batch_size),epochs=20,validation_data=validation_generator,validation_steps=X_test.shape[0]//batch_size)"
      ],
      "execution_count": 76,
      "outputs": []
    },
    {
      "cell_type": "code",
      "metadata": {
        "id": "Q7tkdXS8pWM8",
        "colab": {
          "base_uri": "https://localhost:8080/"
        },
        "outputId": "1f7b4481-7876-471b-efe4-8a66d539d0c9"
      },
      "source": [
        "batch_size = 32\r\n",
        "\r\n",
        "traingen = ImageDataGenerator(\r\n",
        "    rotation_range =45,\r\n",
        "    shear_range=0.2,\r\n",
        "    zoom_range=0.5,\r\n",
        "    horizontal_flip = True\r\n",
        ")\r\n",
        "\r\n",
        "testgen = ImageDataGenerator()\r\n",
        "\r\n",
        "gen_data = traingen.flow(X_train, y_train, batch_size=32)\r\n",
        "gen_test = testgen.flow(X_test, y_test, batch_size=32)\r\n",
        "\r\n",
        "history = model.fit(gen_data,steps_per_epoch=(X_train.shape[0]//batch_size),epochs=20,validation_data=gen_test,validation_steps=X_test.shape[0]//batch_size)"
      ],
      "execution_count": 77,
      "outputs": [
        {
          "output_type": "stream",
          "text": [
            "Epoch 1/20\n",
            "163/163 [==============================] - 25s 152ms/step - loss: 1.0519 - accuracy: 0.4933 - f1_m: 0.2011 - precision_m: 0.3787 - recall_m: 0.1528 - val_loss: 1.0942 - val_accuracy: 0.4046 - val_f1_m: 0.3936 - val_precision_m: 0.4927 - val_recall_m: 0.3306\n",
            "Epoch 2/20\n",
            "163/163 [==============================] - 25s 152ms/step - loss: 0.9537 - accuracy: 0.5604 - f1_m: 0.4746 - precision_m: 0.6651 - recall_m: 0.3785 - val_loss: 0.8853 - val_accuracy: 0.6365 - val_f1_m: 0.4961 - val_precision_m: 0.8573 - val_recall_m: 0.3536\n",
            "Epoch 3/20\n",
            "163/163 [==============================] - 24s 149ms/step - loss: 0.8842 - accuracy: 0.6037 - f1_m: 0.5277 - precision_m: 0.6840 - recall_m: 0.4383 - val_loss: 0.9309 - val_accuracy: 0.5362 - val_f1_m: 0.5270 - val_precision_m: 0.5897 - val_recall_m: 0.4770\n",
            "Epoch 4/20\n",
            "163/163 [==============================] - 24s 148ms/step - loss: 0.8294 - accuracy: 0.6281 - f1_m: 0.5845 - precision_m: 0.7040 - recall_m: 0.5050 - val_loss: 0.6669 - val_accuracy: 0.7336 - val_f1_m: 0.7232 - val_precision_m: 0.8779 - val_recall_m: 0.6184\n",
            "Epoch 5/20\n",
            "163/163 [==============================] - 24s 148ms/step - loss: 0.7907 - accuracy: 0.6474 - f1_m: 0.6083 - precision_m: 0.7095 - recall_m: 0.5360 - val_loss: 0.6600 - val_accuracy: 0.7385 - val_f1_m: 0.7098 - val_precision_m: 0.8247 - val_recall_m: 0.6250\n",
            "Epoch 6/20\n",
            "163/163 [==============================] - 24s 148ms/step - loss: 0.7732 - accuracy: 0.6620 - f1_m: 0.6308 - precision_m: 0.7209 - recall_m: 0.5644 - val_loss: 0.6699 - val_accuracy: 0.7697 - val_f1_m: 0.7689 - val_precision_m: 0.8241 - val_recall_m: 0.7220\n",
            "Epoch 7/20\n",
            "163/163 [==============================] - 24s 148ms/step - loss: 0.7332 - accuracy: 0.6733 - f1_m: 0.6513 - precision_m: 0.7250 - recall_m: 0.5941 - val_loss: 0.6981 - val_accuracy: 0.7270 - val_f1_m: 0.6592 - val_precision_m: 0.7922 - val_recall_m: 0.5674\n",
            "Epoch 8/20\n",
            "163/163 [==============================] - 24s 149ms/step - loss: 0.7274 - accuracy: 0.6883 - f1_m: 0.6639 - precision_m: 0.7410 - recall_m: 0.6051 - val_loss: 0.6337 - val_accuracy: 0.7401 - val_f1_m: 0.7272 - val_precision_m: 0.7928 - val_recall_m: 0.6727\n",
            "Epoch 9/20\n",
            "163/163 [==============================] - 24s 147ms/step - loss: 0.7029 - accuracy: 0.6946 - f1_m: 0.6745 - precision_m: 0.7430 - recall_m: 0.6196 - val_loss: 0.7164 - val_accuracy: 0.7681 - val_f1_m: 0.7573 - val_precision_m: 0.8124 - val_recall_m: 0.7105\n",
            "Epoch 10/20\n",
            "163/163 [==============================] - 24s 146ms/step - loss: 0.6988 - accuracy: 0.6979 - f1_m: 0.6789 - precision_m: 0.7381 - recall_m: 0.6311 - val_loss: 0.5925 - val_accuracy: 0.7582 - val_f1_m: 0.7234 - val_precision_m: 0.8254 - val_recall_m: 0.6480\n",
            "Epoch 11/20\n",
            "163/163 [==============================] - 24s 147ms/step - loss: 0.6836 - accuracy: 0.7059 - f1_m: 0.6873 - precision_m: 0.7414 - recall_m: 0.6424 - val_loss: 0.6377 - val_accuracy: 0.7714 - val_f1_m: 0.7490 - val_precision_m: 0.8154 - val_recall_m: 0.6941\n",
            "Epoch 12/20\n",
            "163/163 [==============================] - 24s 149ms/step - loss: 0.6695 - accuracy: 0.7078 - f1_m: 0.6951 - precision_m: 0.7466 - recall_m: 0.6524 - val_loss: 0.5268 - val_accuracy: 0.8240 - val_f1_m: 0.8150 - val_precision_m: 0.8509 - val_recall_m: 0.7829\n",
            "Epoch 13/20\n",
            "163/163 [==============================] - 24s 147ms/step - loss: 0.6573 - accuracy: 0.7138 - f1_m: 0.7014 - precision_m: 0.7492 - recall_m: 0.6609 - val_loss: 0.5531 - val_accuracy: 0.8388 - val_f1_m: 0.8333 - val_precision_m: 0.8731 - val_recall_m: 0.7977\n",
            "Epoch 14/20\n",
            "163/163 [==============================] - 24s 147ms/step - loss: 0.6563 - accuracy: 0.7234 - f1_m: 0.7070 - precision_m: 0.7572 - recall_m: 0.6653 - val_loss: 0.5304 - val_accuracy: 0.8454 - val_f1_m: 0.8405 - val_precision_m: 0.8753 - val_recall_m: 0.8092\n",
            "Epoch 15/20\n",
            "163/163 [==============================] - 24s 148ms/step - loss: 0.6462 - accuracy: 0.7255 - f1_m: 0.7122 - precision_m: 0.7562 - recall_m: 0.6756 - val_loss: 0.5430 - val_accuracy: 0.8174 - val_f1_m: 0.8047 - val_precision_m: 0.8460 - val_recall_m: 0.7681\n",
            "Epoch 16/20\n",
            "163/163 [==============================] - 24s 147ms/step - loss: 0.6292 - accuracy: 0.7339 - f1_m: 0.7264 - precision_m: 0.7650 - recall_m: 0.6931 - val_loss: 0.5221 - val_accuracy: 0.8520 - val_f1_m: 0.8456 - val_precision_m: 0.8816 - val_recall_m: 0.8141\n",
            "Epoch 17/20\n",
            "163/163 [==============================] - 24s 147ms/step - loss: 0.6375 - accuracy: 0.7308 - f1_m: 0.7214 - precision_m: 0.7604 - recall_m: 0.6877 - val_loss: 0.5790 - val_accuracy: 0.7862 - val_f1_m: 0.7745 - val_precision_m: 0.7957 - val_recall_m: 0.7549\n",
            "Epoch 18/20\n",
            "163/163 [==============================] - 24s 147ms/step - loss: 0.6112 - accuracy: 0.7410 - f1_m: 0.7340 - precision_m: 0.7683 - recall_m: 0.7038 - val_loss: 0.4968 - val_accuracy: 0.8372 - val_f1_m: 0.8318 - val_precision_m: 0.8642 - val_recall_m: 0.8026\n",
            "Epoch 19/20\n",
            "163/163 [==============================] - 24s 147ms/step - loss: 0.6193 - accuracy: 0.7387 - f1_m: 0.7303 - precision_m: 0.7684 - recall_m: 0.6975 - val_loss: 0.7796 - val_accuracy: 0.7500 - val_f1_m: 0.7504 - val_precision_m: 0.7845 - val_recall_m: 0.7204\n",
            "Epoch 20/20\n",
            "163/163 [==============================] - 24s 148ms/step - loss: 0.6185 - accuracy: 0.7423 - f1_m: 0.7322 - precision_m: 0.7682 - recall_m: 0.7009 - val_loss: 0.5524 - val_accuracy: 0.8191 - val_f1_m: 0.8190 - val_precision_m: 0.8495 - val_recall_m: 0.7911\n"
          ],
          "name": "stdout"
        }
      ]
    },
    {
      "cell_type": "code",
      "metadata": {
        "colab": {
          "base_uri": "https://localhost:8080/"
        },
        "id": "hb2QGr4uh9CZ",
        "outputId": "68f06fbf-4738-418a-a179-085aea176da4"
      },
      "source": [
        "model.evaluate_generator(gen_test, 50, workers=1)"
      ],
      "execution_count": 79,
      "outputs": [
        {
          "output_type": "stream",
          "text": [
            "WARNING:tensorflow:Your input ran out of data; interrupting training. Make sure that your dataset or generator can generate at least `steps_per_epoch * epochs` batches (in this case, 50 batches). You may need to use the repeat() function when building your dataset.\n"
          ],
          "name": "stdout"
        },
        {
          "output_type": "execute_result",
          "data": {
            "text/plain": [
              "[0.5527946352958679,\n",
              " 0.8189102411270142,\n",
              " 0.8233240246772766,\n",
              " 0.8522329330444336,\n",
              " 0.796875]"
            ]
          },
          "metadata": {
            "tags": []
          },
          "execution_count": 79
        }
      ]
    },
    {
      "cell_type": "code",
      "metadata": {
        "id": "U0mRfK-upoar",
        "colab": {
          "base_uri": "https://localhost:8080/"
        },
        "outputId": "1b6b4058-7584-44eb-cf93-dbe7326c272b"
      },
      "source": [
        "for i in range (0, 400):\r\n",
        "  preds = model.predict(np.expand_dims(X_test[i], axis=0))\r\n",
        "  print(\"Predicted:\", (preds))"
      ],
      "execution_count": 80,
      "outputs": [
        {
          "output_type": "stream",
          "text": [
            "Predicted: [[0.9444474  0.01693322 0.0386194 ]]\n",
            "Predicted: [[0.7917108  0.13405862 0.07423063]]\n",
            "Predicted: [[0.7560102  0.08046459 0.16352518]]\n",
            "Predicted: [[0.8158022  0.04929882 0.13489899]]\n",
            "Predicted: [[0.35622653 0.28777975 0.35599372]]\n",
            "Predicted: [[0.04027134 0.25364444 0.7060842 ]]\n",
            "Predicted: [[0.7827417  0.05176424 0.16549402]]\n",
            "Predicted: [[0.59706664 0.12937538 0.27355793]]\n",
            "Predicted: [[0.91719663 0.03547049 0.04733285]]\n",
            "Predicted: [[0.00342679 0.38977987 0.6067933 ]]\n",
            "Predicted: [[0.84720707 0.03996695 0.11282598]]\n",
            "Predicted: [[0.89470935 0.05377167 0.05151894]]\n",
            "Predicted: [[0.9922907  0.00130103 0.0064082 ]]\n",
            "Predicted: [[0.9655235  0.00726999 0.02720654]]\n",
            "Predicted: [[0.31563026 0.4846258  0.19974387]]\n",
            "Predicted: [[0.26353967 0.41559064 0.3208697 ]]\n",
            "Predicted: [[0.80153453 0.04338046 0.155085  ]]\n",
            "Predicted: [[0.9839144  0.00433682 0.0117488 ]]\n",
            "Predicted: [[0.8807162  0.0658251  0.05345873]]\n",
            "Predicted: [[0.00175841 0.3569034  0.64133817]]\n",
            "Predicted: [[0.90347326 0.01385717 0.08266961]]\n",
            "Predicted: [[0.47498825 0.25304982 0.27196196]]\n",
            "Predicted: [[0.17215179 0.42479333 0.40305486]]\n",
            "Predicted: [[0.08952487 0.736506   0.17396909]]\n",
            "Predicted: [[0.8409664  0.08316142 0.07587213]]\n",
            "Predicted: [[0.9595718  0.01485215 0.0255761 ]]\n",
            "Predicted: [[0.9796693  0.00649087 0.01383987]]\n",
            "Predicted: [[0.9704605  0.00784117 0.0216983 ]]\n",
            "Predicted: [[0.31390795 0.540081   0.14601104]]\n",
            "Predicted: [[9.9966753e-01 4.5479199e-05 2.8701336e-04]]\n",
            "Predicted: [[0.9902097  0.00305425 0.0067361 ]]\n",
            "Predicted: [[0.14792362 0.5104282  0.3416481 ]]\n",
            "Predicted: [[0.8755233  0.07698463 0.04749199]]\n",
            "Predicted: [[0.8498645  0.09550511 0.05463034]]\n",
            "Predicted: [[0.8029371 0.099053  0.0980099]]\n",
            "Predicted: [[0.9783936  0.00600727 0.01559912]]\n",
            "Predicted: [[0.94233906 0.02425889 0.03340207]]\n",
            "Predicted: [[0.9925171  0.00114337 0.0063395 ]]\n",
            "Predicted: [[9.9793243e-01 4.1728170e-04 1.6502952e-03]]\n",
            "Predicted: [[0.9730496  0.00654584 0.02040462]]\n",
            "Predicted: [[0.16499057 0.18650267 0.6485068 ]]\n",
            "Predicted: [[0.9951727  0.00182019 0.00300716]]\n",
            "Predicted: [[0.8986685  0.02104544 0.0802861 ]]\n",
            "Predicted: [[0.98768175 0.00501989 0.00729839]]\n",
            "Predicted: [[0.7849218  0.13852128 0.07655693]]\n",
            "Predicted: [[0.69184536 0.17151861 0.13663608]]\n",
            "Predicted: [[0.2026791  0.42431742 0.37300348]]\n",
            "Predicted: [[0.97170144 0.00782508 0.02047356]]\n",
            "Predicted: [[0.01670254 0.13848284 0.84481466]]\n",
            "Predicted: [[0.46473804 0.17355198 0.36170998]]\n",
            "Predicted: [[0.78364074 0.1116034  0.10475585]]\n",
            "Predicted: [[0.45362353 0.28880703 0.25756937]]\n",
            "Predicted: [[0.79017526 0.09722177 0.1126029 ]]\n",
            "Predicted: [[0.58465475 0.07914148 0.33620378]]\n",
            "Predicted: [[0.89046097 0.05370026 0.05583882]]\n",
            "Predicted: [[0.9798131  0.00820815 0.01197871]]\n",
            "Predicted: [[0.8372865  0.08052147 0.08219203]]\n",
            "Predicted: [[0.00898394 0.1403895  0.8506266 ]]\n",
            "Predicted: [[0.85497016 0.06498773 0.08004215]]\n",
            "Predicted: [[0.9598258  0.01301807 0.02715611]]\n",
            "Predicted: [[0.6910501  0.18478821 0.12416171]]\n",
            "Predicted: [[0.6890837  0.19495429 0.11596198]]\n",
            "Predicted: [[0.46450946 0.21160546 0.32388508]]\n",
            "Predicted: [[0.969697   0.00969418 0.02060888]]\n",
            "Predicted: [[0.91592836 0.02231262 0.06175901]]\n",
            "Predicted: [[0.26353967 0.41559064 0.3208697 ]]\n",
            "Predicted: [[0.0551148  0.745767   0.19911812]]\n",
            "Predicted: [[0.96163905 0.01412036 0.02424061]]\n",
            "Predicted: [[0.00293348 0.3843839  0.61268264]]\n",
            "Predicted: [[9.9831700e-01 3.8570966e-04 1.2973616e-03]]\n",
            "Predicted: [[0.4284872  0.21964993 0.3518629 ]]\n",
            "Predicted: [[0.99448663 0.00100251 0.00451091]]\n",
            "Predicted: [[0.9886523  0.00563436 0.0057133 ]]\n",
            "Predicted: [[0.7393408  0.15966494 0.10099423]]\n",
            "Predicted: [[0.9769483  0.01044201 0.01260961]]\n",
            "Predicted: [[0.8048667  0.10421553 0.09091772]]\n",
            "Predicted: [[0.85128504 0.07824507 0.07046986]]\n",
            "Predicted: [[0.8347599  0.01244632 0.15279378]]\n",
            "Predicted: [[0.87379384 0.07723316 0.04897292]]\n",
            "Predicted: [[0.55823463 0.1464738  0.29529157]]\n",
            "Predicted: [[0.9895341  0.00362377 0.00684208]]\n",
            "Predicted: [[0.17023098 0.19660234 0.63316673]]\n",
            "Predicted: [[0.71836156 0.13966289 0.14197554]]\n",
            "Predicted: [[0.91786444 0.02122834 0.06090725]]\n",
            "Predicted: [[0.27649397 0.17311916 0.55038685]]\n",
            "Predicted: [[0.83367354 0.08710332 0.07922319]]\n",
            "Predicted: [[9.9681157e-01 9.9550385e-04 2.1928933e-03]]\n",
            "Predicted: [[0.96525663 0.01028787 0.02445559]]\n",
            "Predicted: [[0.49429703 0.20267613 0.30302683]]\n",
            "Predicted: [[0.815229   0.06536682 0.11940409]]\n",
            "Predicted: [[0.6112449  0.10347486 0.28528023]]\n",
            "Predicted: [[9.9652064e-01 9.3609979e-04 2.5432233e-03]]\n",
            "Predicted: [[0.4883138  0.2720796  0.23960657]]\n",
            "Predicted: [[0.31027406 0.34953618 0.34018978]]\n",
            "Predicted: [[0.03447773 0.8158841  0.14963815]]\n",
            "Predicted: [[0.22007796 0.45919785 0.32072416]]\n",
            "Predicted: [[0.96109605 0.01153289 0.027371  ]]\n",
            "Predicted: [[0.9138416  0.02948152 0.05667684]]\n",
            "Predicted: [[0.912153   0.04256654 0.04528046]]\n",
            "Predicted: [[0.00924748 0.09147289 0.8992796 ]]\n",
            "Predicted: [[0.70278406 0.17134632 0.12586956]]\n",
            "Predicted: [[0.20499627 0.50802654 0.28697723]]\n",
            "Predicted: [[0.96695095 0.01086459 0.02218438]]\n",
            "Predicted: [[0.61029106 0.28356105 0.10614784]]\n",
            "Predicted: [[0.6834891  0.16854115 0.14796972]]\n",
            "Predicted: [[0.01635971 0.3004698  0.6831705 ]]\n",
            "Predicted: [[0.5524265  0.13953091 0.30804253]]\n",
            "Predicted: [[0.6089489  0.08039449 0.31065658]]\n",
            "Predicted: [[0.87867045 0.05866862 0.06266101]]\n",
            "Predicted: [[0.5741719  0.26367873 0.1621494 ]]\n",
            "Predicted: [[0.51116085 0.25438482 0.23445435]]\n",
            "Predicted: [[0.9763342  0.00907554 0.01459013]]\n",
            "Predicted: [[0.14970313 0.41074    0.43955687]]\n",
            "Predicted: [[0.9333182  0.01716853 0.04951319]]\n",
            "Predicted: [[0.8948677  0.02181195 0.08332036]]\n",
            "Predicted: [[0.9736051  0.00862561 0.01776922]]\n",
            "Predicted: [[0.9376432  0.02672911 0.0356277 ]]\n",
            "Predicted: [[0.97432184 0.00833201 0.01734611]]\n",
            "Predicted: [[0.993206   0.00154635 0.00524771]]\n",
            "Predicted: [[0.9211437  0.02435404 0.05450217]]\n",
            "Predicted: [[0.21515946 0.36444652 0.42039403]]\n",
            "Predicted: [[0.71958363 0.1406093  0.13980703]]\n",
            "Predicted: [[0.9875251  0.00314159 0.00933332]]\n",
            "Predicted: [[0.9828029  0.00643429 0.0107628 ]]\n",
            "Predicted: [[0.73940593 0.12440643 0.13618769]]\n",
            "Predicted: [[0.41148654 0.34878197 0.2397315 ]]\n",
            "Predicted: [[0.9783716  0.00714079 0.01448763]]\n",
            "Predicted: [[0.06502157 0.38493645 0.5500419 ]]\n",
            "Predicted: [[0.28757027 0.38595927 0.32647043]]\n",
            "Predicted: [[0.27254257 0.18888775 0.5385697 ]]\n",
            "Predicted: [[0.00224811 0.22791424 0.7698376 ]]\n",
            "Predicted: [[0.99519145 0.0015475  0.00326109]]\n",
            "Predicted: [[0.96019584 0.01325846 0.02654562]]\n",
            "Predicted: [[0.95170426 0.02242302 0.02587278]]\n",
            "Predicted: [[0.12281545 0.3313741  0.5458104 ]]\n",
            "Predicted: [[0.45574608 0.16710271 0.37715122]]\n",
            "Predicted: [[0.95198226 0.02440536 0.0236124 ]]\n",
            "Predicted: [[0.2586673  0.46128094 0.28005177]]\n",
            "Predicted: [[0.9822927  0.00796749 0.00973974]]\n",
            "Predicted: [[0.75361425 0.10029867 0.14608705]]\n",
            "Predicted: [[0.8299667  0.1138043  0.05622899]]\n",
            "Predicted: [[0.9127983  0.03880199 0.04839972]]\n",
            "Predicted: [[0.93701303 0.02881371 0.03417326]]\n",
            "Predicted: [[0.5511267  0.2230398  0.22583348]]\n",
            "Predicted: [[0.97888935 0.00746969 0.01364094]]\n",
            "Predicted: [[0.5645958  0.18406032 0.25134388]]\n",
            "Predicted: [[0.00562616 0.35695973 0.6374141 ]]\n",
            "Predicted: [[0.03392433 0.25789538 0.7081803 ]]\n",
            "Predicted: [[0.01108214 0.12044869 0.8684692 ]]\n",
            "Predicted: [[0.02626377 0.47168693 0.5020493 ]]\n",
            "Predicted: [[0.9705742  0.0096649  0.01976093]]\n",
            "Predicted: [[0.85718834 0.06191454 0.08089709]]\n",
            "Predicted: [[0.9592725  0.01886134 0.02186608]]\n",
            "Predicted: [[0.9725883  0.00428451 0.02312717]]\n",
            "Predicted: [[0.7628527  0.13113852 0.10600875]]\n",
            "Predicted: [[0.9917557  0.00274788 0.00549642]]\n",
            "Predicted: [[0.9800125  0.00487951 0.01510807]]\n",
            "Predicted: [[0.5507938  0.2719097  0.17729646]]\n",
            "Predicted: [[0.8500306  0.0444666  0.10550272]]\n",
            "Predicted: [[0.8283357  0.06919364 0.1024707 ]]\n",
            "Predicted: [[0.9942338  0.00193085 0.00383536]]\n",
            "Predicted: [[0.96406955 0.01269653 0.02323385]]\n",
            "Predicted: [[0.8912666  0.04705895 0.0616745 ]]\n",
            "Predicted: [[0.5470269  0.29972672 0.15324649]]\n",
            "Predicted: [[0.9914398  0.00225921 0.00630095]]\n",
            "Predicted: [[0.96121454 0.01131121 0.02747425]]\n",
            "Predicted: [[0.9305519  0.02838069 0.04106741]]\n",
            "Predicted: [[0.00934893 0.3521601  0.638491  ]]\n",
            "Predicted: [[0.96954834 0.01374152 0.01671004]]\n",
            "Predicted: [[0.5217607  0.2322138  0.24602549]]\n",
            "Predicted: [[0.9660742  0.01530297 0.01862278]]\n",
            "Predicted: [[0.9387024  0.03095951 0.03033815]]\n",
            "Predicted: [[0.8130977  0.07089624 0.116006  ]]\n",
            "Predicted: [[0.86730796 0.04619816 0.08649386]]\n",
            "Predicted: [[0.9700355  0.00656657 0.02339788]]\n",
            "Predicted: [[0.92408735 0.03643806 0.03947451]]\n",
            "Predicted: [[0.92889464 0.02298745 0.04811788]]\n",
            "Predicted: [[0.35333103 0.2542622  0.3924068 ]]\n",
            "Predicted: [[0.8508535  0.04479043 0.10435604]]\n",
            "Predicted: [[0.936898   0.024193   0.03890904]]\n",
            "Predicted: [[0.9863643  0.00545453 0.00818125]]\n",
            "Predicted: [[0.7139736  0.09057694 0.19544947]]\n",
            "Predicted: [[0.99275595 0.00164308 0.00560094]]\n",
            "Predicted: [[0.0033982  0.26184714 0.7347547 ]]\n",
            "Predicted: [[0.987852   0.00422896 0.00791907]]\n",
            "Predicted: [[0.13101515 0.14521891 0.72376597]]\n",
            "Predicted: [[0.9707053  0.01051343 0.01878127]]\n",
            "Predicted: [[0.8115457  0.10989423 0.07855998]]\n",
            "Predicted: [[0.95855    0.00736158 0.03408848]]\n",
            "Predicted: [[0.9162806  0.02896645 0.05475285]]\n",
            "Predicted: [[0.3098219  0.21348254 0.47669554]]\n",
            "Predicted: [[0.02867328 0.09621333 0.8751134 ]]\n",
            "Predicted: [[9.976615e-01 6.537500e-04 1.684792e-03]]\n",
            "Predicted: [[0.73657346 0.04628597 0.21714054]]\n",
            "Predicted: [[0.7906245  0.0362187  0.17315686]]\n",
            "Predicted: [[0.9141451  0.05040411 0.03545078]]\n",
            "Predicted: [[0.86636716 0.05694899 0.07668384]]\n",
            "Predicted: [[0.87524533 0.04178097 0.08297367]]\n",
            "Predicted: [[9.9841571e-01 3.6171512e-04 1.2225308e-03]]\n",
            "Predicted: [[0.9417975  0.02886454 0.02933799]]\n",
            "Predicted: [[0.767152   0.08489215 0.14795578]]\n",
            "Predicted: [[0.49700525 0.22521845 0.27777627]]\n",
            "Predicted: [[0.9346225  0.02733221 0.03804537]]\n",
            "Predicted: [[0.9471429  0.01319279 0.0396643 ]]\n",
            "Predicted: [[0.11467396 0.6255155  0.25981057]]\n",
            "Predicted: [[0.9145413  0.02270266 0.06275601]]\n",
            "Predicted: [[0.946645   0.01319315 0.04016183]]\n",
            "Predicted: [[0.2555614  0.5849687  0.15946989]]\n",
            "Predicted: [[0.77355605 0.08852856 0.13791537]]\n",
            "Predicted: [[0.09189178 0.32339114 0.58471704]]\n",
            "Predicted: [[0.9248003  0.02569687 0.04950288]]\n",
            "Predicted: [[0.00318603 0.81241816 0.18439583]]\n",
            "Predicted: [[0.7833349  0.10723485 0.10943029]]\n",
            "Predicted: [[0.08259699 0.78928936 0.12811375]]\n",
            "Predicted: [[0.02247257 0.20795286 0.76957464]]\n",
            "Predicted: [[0.9785186  0.00435233 0.01712918]]\n",
            "Predicted: [[0.74991363 0.09527703 0.15480937]]\n",
            "Predicted: [[0.35622653 0.28777975 0.35599372]]\n",
            "Predicted: [[0.18305102 0.31145617 0.5054928 ]]\n",
            "Predicted: [[0.89488626 0.04199486 0.06311895]]\n",
            "Predicted: [[0.16849205 0.5888485  0.24265948]]\n",
            "Predicted: [[0.79332316 0.05657699 0.15009977]]\n",
            "Predicted: [[0.17215179 0.42479333 0.40305486]]\n",
            "Predicted: [[0.93663764 0.01934583 0.04401653]]\n",
            "Predicted: [[0.02824618 0.71091455 0.26083922]]\n",
            "Predicted: [[0.0661695  0.66347253 0.27035806]]\n",
            "Predicted: [[0.31001726 0.27366164 0.41632107]]\n",
            "Predicted: [[0.24631563 0.41000655 0.34367785]]\n",
            "Predicted: [[0.995275   0.00116716 0.00355787]]\n",
            "Predicted: [[0.9944636  0.00152019 0.00401622]]\n",
            "Predicted: [[0.97219545 0.01092704 0.0168775 ]]\n",
            "Predicted: [[0.9896512  0.00352557 0.00682329]]\n",
            "Predicted: [[0.9815793  0.00501028 0.0134104 ]]\n",
            "Predicted: [[0.9935447  0.00210262 0.00435269]]\n",
            "Predicted: [[0.01957067 0.22581501 0.7546143 ]]\n",
            "Predicted: [[4.8323491e-05 8.7293512e-01 1.2701657e-01]]\n",
            "Predicted: [[7.7892700e-04 8.2860786e-01 1.7061320e-01]]\n",
            "Predicted: [[0.00164753 0.27333236 0.7250201 ]]\n",
            "Predicted: [[3.2820133e-04 2.5167307e-01 7.4799871e-01]]\n",
            "Predicted: [[8.3973799e-05 8.0177373e-01 1.9814225e-01]]\n",
            "Predicted: [[0.00437801 0.2104247  0.78519726]]\n",
            "Predicted: [[0.00591932 0.8309396  0.16314106]]\n",
            "Predicted: [[0.00384536 0.16026287 0.8358917 ]]\n",
            "Predicted: [[0.00850176 0.59957945 0.3919188 ]]\n",
            "Predicted: [[0.01171152 0.1898381  0.7984504 ]]\n",
            "Predicted: [[0.00991538 0.07384721 0.9162374 ]]\n",
            "Predicted: [[2.4799170e-04 7.4697322e-01 2.5277874e-01]]\n",
            "Predicted: [[5.202415e-05 8.540765e-01 1.458715e-01]]\n",
            "Predicted: [[0.01533558 0.33062094 0.65404344]]\n",
            "Predicted: [[0.00574582 0.53621006 0.4580441 ]]\n",
            "Predicted: [[0.00267697 0.8353415  0.16198148]]\n",
            "Predicted: [[6.3346577e-04 8.4796000e-01 1.5140647e-01]]\n",
            "Predicted: [[0.00972904 0.51083225 0.4794387 ]]\n",
            "Predicted: [[0.03771047 0.11959653 0.84269303]]\n",
            "Predicted: [[0.0239582  0.61318433 0.36285746]]\n",
            "Predicted: [[0.16542989 0.57270247 0.26186758]]\n",
            "Predicted: [[0.00126432 0.8038076  0.194928  ]]\n",
            "Predicted: [[0.00088898 0.15571593 0.84339505]]\n",
            "Predicted: [[6.7168137e-04 2.5252753e-01 7.4680078e-01]]\n",
            "Predicted: [[0.05337291 0.31320867 0.6334184 ]]\n",
            "Predicted: [[0.00442798 0.54203117 0.4535409 ]]\n",
            "Predicted: [[0.01320213 0.851539   0.13525882]]\n",
            "Predicted: [[3.5086542e-04 8.0736655e-01 1.9228250e-01]]\n",
            "Predicted: [[0.00286287 0.8527428  0.14439434]]\n",
            "Predicted: [[0.00115194 0.7942777  0.20457034]]\n",
            "Predicted: [[7.7472453e-04 8.0832618e-01 1.9089906e-01]]\n",
            "Predicted: [[2.2726563e-05 8.4710526e-01 1.5287207e-01]]\n",
            "Predicted: [[7.6755293e-04 8.9159054e-01 1.0764182e-01]]\n",
            "Predicted: [[3.3021902e-04 8.0997974e-01 1.8969001e-01]]\n",
            "Predicted: [[0.00074726 0.34650314 0.6527496 ]]\n",
            "Predicted: [[0.24263288 0.43390715 0.32345998]]\n",
            "Predicted: [[0.00365903 0.4930406  0.50330037]]\n",
            "Predicted: [[0.02437699 0.20225313 0.77336985]]\n",
            "Predicted: [[0.03414467 0.44810352 0.5177518 ]]\n",
            "Predicted: [[0.18828458 0.3146572  0.49705827]]\n",
            "Predicted: [[0.00141997 0.85817033 0.14040974]]\n",
            "Predicted: [[0.03405201 0.74487317 0.22107483]]\n",
            "Predicted: [[2.0228726e-05 9.2928177e-01 7.0697896e-02]]\n",
            "Predicted: [[4.6182784e-05 8.5432386e-01 1.4563000e-01]]\n",
            "Predicted: [[0.00087417 0.8553198  0.14380606]]\n",
            "Predicted: [[0.00703558 0.80913854 0.18382587]]\n",
            "Predicted: [[0.00885364 0.7565203  0.23462604]]\n",
            "Predicted: [[0.00132477 0.4734602  0.525215  ]]\n",
            "Predicted: [[0.00202376 0.7685847  0.22939155]]\n",
            "Predicted: [[0.00976672 0.6821082  0.308125  ]]\n",
            "Predicted: [[7.618615e-06 9.086332e-01 9.135924e-02]]\n",
            "Predicted: [[5.7321242e-05 8.6702281e-01 1.3291982e-01]]\n",
            "Predicted: [[0.03820272 0.7539899  0.20780742]]\n",
            "Predicted: [[0.03545564 0.43971023 0.5248341 ]]\n",
            "Predicted: [[3.890842e-05 8.606729e-01 1.392882e-01]]\n",
            "Predicted: [[6.2252875e-05 9.4935179e-01 5.0585955e-02]]\n",
            "Predicted: [[4.1096304e-05 8.6834115e-01 1.3161772e-01]]\n",
            "Predicted: [[1.2720465e-06 9.3420887e-01 6.5789945e-02]]\n",
            "Predicted: [[5.0128588e-06 8.8302338e-01 1.1697155e-01]]\n",
            "Predicted: [[7.7105906e-05 8.6606234e-01 1.3386053e-01]]\n",
            "Predicted: [[0.02957626 0.22764535 0.7427784 ]]\n",
            "Predicted: [[3.4246370e-04 8.4245825e-01 1.5719925e-01]]\n",
            "Predicted: [[0.00169461 0.77267677 0.2256286 ]]\n",
            "Predicted: [[0.00216956 0.8793636  0.11846685]]\n",
            "Predicted: [[9.0682450e-05 9.0450037e-01 9.5408946e-02]]\n",
            "Predicted: [[0.03089851 0.6312329  0.33786854]]\n",
            "Predicted: [[1.5196887e-04 8.6768556e-01 1.3216245e-01]]\n",
            "Predicted: [[0.00600232 0.71794176 0.27605584]]\n",
            "Predicted: [[0.00198596 0.81471384 0.18330027]]\n",
            "Predicted: [[0.00071717 0.4090539  0.5902289 ]]\n",
            "Predicted: [[6.6931907e-06 9.1510606e-01 8.4887289e-02]]\n",
            "Predicted: [[0.04584325 0.6098413  0.3443155 ]]\n",
            "Predicted: [[0.00539544 0.8383603  0.15624417]]\n",
            "Predicted: [[0.01290631 0.19998279 0.7871109 ]]\n",
            "Predicted: [[0.00549963 0.76850903 0.22599128]]\n",
            "Predicted: [[0.0031348  0.11874069 0.87812454]]\n",
            "Predicted: [[3.0120721e-04 8.6507934e-01 1.3461939e-01]]\n",
            "Predicted: [[0.01241611 0.33107558 0.6565084 ]]\n",
            "Predicted: [[0.00220324 0.57464427 0.42315245]]\n",
            "Predicted: [[7.8563875e-07 9.6113825e-01 3.8860984e-02]]\n",
            "Predicted: [[0.01934269 0.8278677  0.15278964]]\n",
            "Predicted: [[0.10831318 0.6697252  0.22196166]]\n",
            "Predicted: [[0.00201237 0.80981046 0.18817708]]\n",
            "Predicted: [[0.04258859 0.5251941  0.4322173 ]]\n",
            "Predicted: [[1.2533076e-05 9.4971967e-01 5.0267749e-02]]\n",
            "Predicted: [[1.3856040e-04 8.6799234e-01 1.3186908e-01]]\n",
            "Predicted: [[0.01527412 0.805073   0.17965285]]\n",
            "Predicted: [[0.02724903 0.4069212  0.56582975]]\n",
            "Predicted: [[0.00530657 0.9003757  0.09431771]]\n",
            "Predicted: [[0.01518458 0.25607878 0.72873664]]\n",
            "Predicted: [[0.01187065 0.46251196 0.5256174 ]]\n",
            "Predicted: [[0.00609542 0.24732421 0.74658036]]\n",
            "Predicted: [[5.8528187e-04 8.5854995e-01 1.4086471e-01]]\n",
            "Predicted: [[1.9726891e-04 8.7982643e-01 1.1997636e-01]]\n",
            "Predicted: [[6.68327557e-04 1.06981434e-01 8.92350256e-01]]\n",
            "Predicted: [[0.04755735 0.2529865  0.69945616]]\n",
            "Predicted: [[0.06076219 0.73278636 0.20645145]]\n",
            "Predicted: [[7.6064956e-05 9.3627560e-01 6.3648246e-02]]\n",
            "Predicted: [[0.40687227 0.24545549 0.34767216]]\n",
            "Predicted: [[0.03325802 0.4502177  0.51652426]]\n",
            "Predicted: [[3.3166583e-05 7.5822264e-01 2.4174422e-01]]\n",
            "Predicted: [[5.9778482e-04 8.5961455e-01 1.3978760e-01]]\n",
            "Predicted: [[0.0021063  0.8182242  0.17966951]]\n",
            "Predicted: [[9.5446803e-06 9.0398741e-01 9.6003026e-02]]\n",
            "Predicted: [[0.04599976 0.589262   0.36473817]]\n",
            "Predicted: [[7.0898473e-04 1.4691867e-01 8.5237235e-01]]\n",
            "Predicted: [[0.00340496 0.09775579 0.8988393 ]]\n",
            "Predicted: [[0.01093196 0.85957265 0.12949534]]\n",
            "Predicted: [[0.07919242 0.4816547  0.43915287]]\n",
            "Predicted: [[0.0223415  0.8775472  0.10011128]]\n",
            "Predicted: [[7.0208829e-05 8.4525448e-01 1.5467526e-01]]\n",
            "Predicted: [[0.0027677  0.57179606 0.42543623]]\n",
            "Predicted: [[0.13272794 0.2363938  0.63087827]]\n",
            "Predicted: [[0.03481589 0.72768974 0.23749441]]\n",
            "Predicted: [[0.22110221 0.30406818 0.4748296 ]]\n",
            "Predicted: [[0.00466246 0.5594801  0.43585747]]\n",
            "Predicted: [[5.3355710e-05 8.9332372e-01 1.0662293e-01]]\n",
            "Predicted: [[0.00231137 0.82571965 0.17196898]]\n",
            "Predicted: [[0.01151352 0.09137665 0.8971098 ]]\n",
            "Predicted: [[0.06234265 0.41567072 0.5219866 ]]\n",
            "Predicted: [[0.03063057 0.8337076  0.13566183]]\n",
            "Predicted: [[0.01049523 0.73811823 0.25138655]]\n",
            "Predicted: [[0.45224303 0.22212465 0.32563233]]\n",
            "Predicted: [[0.00628689 0.30320284 0.6905103 ]]\n",
            "Predicted: [[2.90056108e-04 8.89992952e-01 1.09717004e-01]]\n",
            "Predicted: [[0.02329483 0.2459952  0.73070997]]\n",
            "Predicted: [[4.0267335e-04 8.6113387e-01 1.3846338e-01]]\n",
            "Predicted: [[0.00213894 0.55322504 0.44463596]]\n",
            "Predicted: [[0.28360468 0.27360028 0.4427951 ]]\n",
            "Predicted: [[2.6781342e-07 9.6725655e-01 3.2743208e-02]]\n",
            "Predicted: [[0.01829884 0.5618231  0.419878  ]]\n",
            "Predicted: [[0.04653513 0.7643062  0.18915872]]\n",
            "Predicted: [[0.00223486 0.8600173  0.13774776]]\n",
            "Predicted: [[0.00538638 0.8449637  0.14964992]]\n",
            "Predicted: [[6.9676229e-04 8.8318747e-01 1.1611579e-01]]\n",
            "Predicted: [[2.0074258e-05 8.6728871e-01 1.3269123e-01]]\n",
            "Predicted: [[2.1737438e-05 8.9766669e-01 1.0231156e-01]]\n",
            "Predicted: [[7.4740798e-05 8.1694520e-01 1.8298014e-01]]\n",
            "Predicted: [[3.1607080e-04 8.5402024e-01 1.4566359e-01]]\n",
            "Predicted: [[1.0433980e-04 7.6148534e-01 2.3841032e-01]]\n",
            "Predicted: [[3.7239824e-05 9.2247635e-01 7.7486329e-02]]\n",
            "Predicted: [[0.01326941 0.24331903 0.7434116 ]]\n",
            "Predicted: [[6.1933330e-05 8.8758051e-01 1.1235752e-01]]\n",
            "Predicted: [[0.00098135 0.34986812 0.6491505 ]]\n",
            "Predicted: [[0.00677318 0.7536551  0.23957182]]\n",
            "Predicted: [[0.00178832 0.20676453 0.79144716]]\n",
            "Predicted: [[5.681715e-04 9.244366e-01 7.499514e-02]]\n",
            "Predicted: [[0.00722249 0.14433901 0.8484385 ]]\n",
            "Predicted: [[0.01631071 0.27635747 0.70733184]]\n",
            "Predicted: [[5.110879e-08 9.588655e-01 4.113444e-02]]\n",
            "Predicted: [[3.1470924e-04 8.6430198e-01 1.3538340e-01]]\n",
            "Predicted: [[4.0334967e-04 8.5254341e-01 1.4705317e-01]]\n",
            "Predicted: [[0.00229883 0.8361414  0.16155979]]\n",
            "Predicted: [[0.10940038 0.31146726 0.5791323 ]]\n",
            "Predicted: [[0.00202908 0.76405746 0.23391351]]\n",
            "Predicted: [[2.2991184e-05 8.8598663e-01 1.1399033e-01]]\n",
            "Predicted: [[0.02575123 0.55779487 0.4164539 ]]\n",
            "Predicted: [[4.9096026e-05 8.7663484e-01 1.2331608e-01]]\n",
            "Predicted: [[0.00116748 0.8396469  0.15918557]]\n",
            "Predicted: [[4.2899483e-04 8.0843586e-01 1.9113517e-01]]\n",
            "Predicted: [[3.0037080e-04 7.4975318e-01 2.4994645e-01]]\n",
            "Predicted: [[0.01102685 0.893969   0.09500413]]\n",
            "Predicted: [[3.3983550e-04 1.9907002e-01 8.0059010e-01]]\n",
            "Predicted: [[9.8328172e-05 9.0925705e-01 9.0644665e-02]]\n",
            "Predicted: [[0.00591014 0.821287   0.17280285]]\n"
          ],
          "name": "stdout"
        }
      ]
    },
    {
      "cell_type": "code",
      "metadata": {
        "id": "0x9K4M5wqEJE",
        "colab": {
          "base_uri": "https://localhost:8080/",
          "height": 545
        },
        "outputId": "0850de6e-6730-4071-b62b-a3471d13b4ef"
      },
      "source": [
        "import matplotlib.pyplot as plt\r\n",
        "\r\n",
        "acc = history.history['accuracy']\r\n",
        "val_acc = history.history['val_accuracy']\r\n",
        "loss = history.history['loss']\r\n",
        "val_loss = history.history['val_loss']\r\n",
        "\r\n",
        "epochs = range(1, len(acc) + 1)\r\n",
        "\r\n",
        "plt.plot(epochs, acc, 'bo', label='Training accuracy')\r\n",
        "plt.plot(epochs, val_acc, 'b', label='Validation accuracy')\r\n",
        "plt.title('Training and validation accuracy')\r\n",
        "plt.legend()\r\n",
        "\r\n",
        "plt.figure()\r\n",
        "\r\n",
        "plt.plot(epochs, loss, 'bo', label='Training loss')\r\n",
        "plt.plot(epochs, val_loss, 'b', label='Validation loss')\r\n",
        "plt.title('Training and validation loss')\r\n",
        "plt.legend()\r\n",
        "\r\n",
        "plt.show()"
      ],
      "execution_count": 82,
      "outputs": [
        {
          "output_type": "display_data",
          "data": {
            "image/png": "[encoded data removed]",
            "text/plain": [
              "<Figure size 432x288 with 1 Axes>"
            ]
          },
          "metadata": {
            "tags": [],
            "needs_background": "light"
          }
        },
        {
          "output_type": "display_data",
          "data": {
            "image/png": "[encoded data removed]",
            "text/plain": [
              "<Figure size 432x288 with 1 Axes>"
            ]
          },
          "metadata": {
            "tags": [],
            "needs_background": "light"
          }
        }
      ]
    },
    {
      "cell_type": "code",
      "metadata": {
        "id": "xEp-GkqzqEpj",
        "colab": {
          "base_uri": "https://localhost:8080/",
          "height": 809
        },
        "outputId": "37e98ccb-0cc4-454e-9478-d0e95496ba7c"
      },
      "source": [
        "precision = history.history['precision_m']\r\n",
        "recall = history.history['recall_m']\r\n",
        "f1 = history.history['f1_m']\r\n",
        "val_precision = history.history['val_precision_m']\r\n",
        "val_recall = history.history['val_recall_m']\r\n",
        "val_f1 = history.history['val_f1_m']\r\n",
        "\r\n",
        "epochs = range(1, len(acc) + 1)\r\n",
        "\r\n",
        "plt.plot(epochs, precision, 'bo', label='Training precision')\r\n",
        "plt.plot(epochs, val_precision, 'b', label='Validation precision')\r\n",
        "plt.title('Training and validation precision')\r\n",
        "plt.legend()\r\n",
        "\r\n",
        "plt.figure()\r\n",
        "\r\n",
        "plt.plot(epochs, recall, 'bo', label='Training recall')\r\n",
        "plt.plot(epochs, val_recall, 'b', label='Validation recall')\r\n",
        "plt.title('Training and validation recall')\r\n",
        "plt.legend()\r\n",
        "\r\n",
        "plt.figure()\r\n",
        "\r\n",
        "plt.plot(epochs, acc, 'bo', label='Training F1')\r\n",
        "plt.plot(epochs, val_f1, 'b', label='Validation F1')\r\n",
        "plt.title('Training and validation F1')\r\n",
        "plt.legend()\r\n",
        "\r\n",
        "plt.show()"
      ],
      "execution_count": 83,
      "outputs": [
        {
          "output_type": "display_data",
          "data": {
            "image/png": "[encoded data removed]",
            "text/plain": [
              "<Figure size 432x288 with 1 Axes>"
            ]
          },
          "metadata": {
            "tags": [],
            "needs_background": "light"
          }
        },
        {
          "output_type": "display_data",
          "data": {
            "image/png": "[encoded data removed]",
            "text/plain": [
              "<Figure size 432x288 with 1 Axes>"
            ]
          },
          "metadata": {
            "tags": [],
            "needs_background": "light"
          }
        },
        {
          "output_type": "display_data",
          "data": {
            "image/png": "[encoded data removed]",
            "text/plain": [
              "<Figure size 432x288 with 1 Axes>"
            ]
          },
          "metadata": {
            "tags": [],
            "needs_background": "light"
          }
        }
      ]
    },
    {
      "cell_type": "markdown",
      "metadata": {
        "id": "yWMezhVvpq8q"
      },
      "source": [
        "# MORE HEAT MAPS"
      ]
    },
    {
      "cell_type": "code",
      "metadata": {
        "id": "QIuMB9ybqIhS",
        "colab": {
          "base_uri": "https://localhost:8080/",
          "height": 293
        },
        "outputId": "f3b72a70-c123-486a-8256-5fb6479d2b4b"
      },
      "source": [
        "last_conv_layer_name = \"conv2d_3\"\r\n",
        "classifier_layer_names = [\r\n",
        "    \"activation_3\", \"max_pooling2d_3\", \"flatten\", \"dense\", \"activation_4\", \"dropout\", \"dense_1\"\r\n",
        "]\r\n",
        "\r\n",
        "\r\n",
        "\r\n",
        "last_conv_layer = model.get_layer(last_conv_layer_name)\r\n",
        "last_conv_layer_model = tf.keras.Model(model.inputs, last_conv_layer.output)\r\n",
        "\r\n",
        "# Second, we create a model that maps the activations of the last conv\r\n",
        "# layer to the final class predictions\r\n",
        "classifier_input = tf.keras.Input(shape=last_conv_layer.output.shape[1:])\r\n",
        "x = classifier_input\r\n",
        "for layer_name in classifier_layer_names:\r\n",
        "    x = model.get_layer(layer_name)(x)\r\n",
        "classifier_model = tf.keras.Model(classifier_input, x)\r\n",
        "\r\n",
        "# Then, we compute the gradient of the top predicted class for our input image\r\n",
        "# with respect to the activations of the last conv layer\r\n",
        "with tf.GradientTape() as tape:\r\n",
        "    # Compute activations of the last conv layer and make the tape watch it\r\n",
        "    last_conv_layer_output = last_conv_layer_model(img)\r\n",
        "    tape.watch(last_conv_layer_output)\r\n",
        "    # Compute class predictions\r\n",
        "    preds = classifier_model(last_conv_layer_output)\r\n",
        "    top_pred_index = tf.argmax(preds[0])\r\n",
        "    top_class_channel = preds[:, top_pred_index]\r\n",
        "\r\n",
        "# This is the gradient of the top predicted class with regard to\r\n",
        "# the output feature map of the last conv layer\r\n",
        "grads = tape.gradient(top_class_channel, last_conv_layer_output)\r\n",
        "\r\n",
        "# This is a vector where each entry is the mean intensity of the gradient\r\n",
        "# over a specific feature map channel\r\n",
        "pooled_grads = tf.reduce_mean(grads, axis=(0, 1, 2))\r\n",
        "\r\n",
        "# We multiply each channel in the feature map array\r\n",
        "# by \"how important this channel is\" with regard to the top predicted class\r\n",
        "last_conv_layer_output = last_conv_layer_output.numpy()[0]\r\n",
        "pooled_grads = pooled_grads.numpy()\r\n",
        "for i in range(pooled_grads.shape[-1]):\r\n",
        "    last_conv_layer_output[:, :, i] *= pooled_grads[i]\r\n",
        "\r\n",
        "# The channel-wise mean of the resulting feature map\r\n",
        "# is our heatmap of class activation\r\n",
        "heatmap = np.mean(last_conv_layer_output, axis=-1)\r\n",
        "\r\n",
        "# For visualization purpose, we will also normalize the heatmap between 0 & 1\r\n",
        "# heatmap = np.maximum(heatmap, 0) / np.max(heatmap)\r\n",
        "\r\n",
        "plt.matshow(heatmap)"
      ],
      "execution_count": 84,
      "outputs": [
        {
          "output_type": "execute_result",
          "data": {
            "text/plain": [
              "<matplotlib.image.AxesImage at 0x7f1edceeca20>"
            ]
          },
          "metadata": {
            "tags": []
          },
          "execution_count": 84
        },
        {
          "output_type": "display_data",
          "data": {
            "image/png": "[encoded data removed]",
            "text/plain": [
              "<Figure size 288x288 with 1 Axes>"
            ]
          },
          "metadata": {
            "tags": [],
            "needs_background": "light"
          }
        }
      ]
    },
    {
      "cell_type": "code",
      "metadata": {
        "id": "AuH50fCM06iA"
      },
      "source": [
        "#SALIENCY"
      ],
      "execution_count": null,
      "outputs": []
    },
    {
      "cell_type": "code",
      "metadata": {
        "id": "vFiKPxqZqIkf"
      },
      "source": [
        ""
      ],
      "execution_count": null,
      "outputs": []
    },
    {
      "cell_type": "code",
      "metadata": {
        "id": "n9xNyzMVqIq1"
      },
      "source": [
        ""
      ],
      "execution_count": null,
      "outputs": []
    },
    {
      "cell_type": "code",
      "metadata": {
        "id": "iVY1ORnwqIuA"
      },
      "source": [
        ""
      ],
      "execution_count": null,
      "outputs": []
    },
    {
      "cell_type": "code",
      "metadata": {
        "id": "pvE9LKmlqIvP"
      },
      "source": [
        ""
      ],
      "execution_count": null,
      "outputs": []
    },
    {
      "cell_type": "code",
      "metadata": {
        "id": "FxLIQyv9qIxg"
      },
      "source": [
        ""
      ],
      "execution_count": null,
      "outputs": []
    },
    {
      "cell_type": "code",
      "metadata": {
        "id": "HIPLkQsoqI0W"
      },
      "source": [
        ""
      ],
      "execution_count": null,
      "outputs": []
    },
    {
      "cell_type": "code",
      "metadata": {
        "id": "AdFwK8pYqI2I"
      },
      "source": [
        ""
      ],
      "execution_count": null,
      "outputs": []
    },
    {
      "cell_type": "markdown",
      "metadata": {
        "id": "0ht0x7GhqJds"
      },
      "source": [
        "# sampling if needed"
      ]
    },
    {
      "cell_type": "code",
      "metadata": {
        "id": "6gmnr8B6h9kF"
      },
      "source": [
        "bacterial_indices = np.array([i[0] == 1 and i[1] == 0 for i in y_train])\n",
        "viral_indices = np.array([i[0] == 0 and i[1] == 1 for i in y_train])\n",
        "normal_indices = np.array([i[0] == 0 and i[1] == 0 for i in y_train])\n",
        "\n",
        "print(\"train viral pneumonia cases: \" + str(viral_indices.sum()))\n",
        "print(\"train bacterial pneumonia cases: \" + str(bacterial_indices.sum()))\n",
        "print(\"train normal cases: \" + str(normal_indices.sum()))"
      ],
      "execution_count": null,
      "outputs": []
    },
    {
      "cell_type": "markdown",
      "metadata": {
        "id": "xnP5Q-tPiB5N"
      },
      "source": [
        "Since there is a significant imbalance of bacterial data compared to normal and viral data, we will be oversampling the normal and viral data accordingly."
      ]
    },
    {
      "cell_type": "code",
      "metadata": {
        "id": "cSGHz_-Bh9mh"
      },
      "source": [
        "# prepare the oversampling data\n",
        "\n",
        "X_train_normals, y_train_normals = X_train[normal_indices], y_train[normal_indices]\n",
        "X_train_viral, y_train_viral = X_train[viral_indices], y_train[viral_indices]"
      ],
      "execution_count": null,
      "outputs": []
    },
    {
      "cell_type": "code",
      "metadata": {
        "id": "IBryg887h9pJ"
      },
      "source": [
        "# in order for the data to be more or less equal, random sampling is used.\n",
        "# viral and bacterial data will be oversampled to a size of 2500 in order to\n",
        "# maintain an even ratio \n",
        "\n",
        "# this seed here is to maintain a deterministic runtime\n",
        "np.random.seed(42)\n",
        "\n",
        "normal_oversampling_indices = np.random.choice(X_train_normals.shape[0], 2500 - X_train_normals.shape[0])\n",
        "viral_oversampling_indices = np.random.choice(X_train_viral.shape[0], 2500 - X_train_viral.shape[0])\n",
        "\n",
        "print(normal_oversampling_indices)\n",
        "print(viral_oversampling_indices)"
      ],
      "execution_count": null,
      "outputs": []
    },
    {
      "cell_type": "code",
      "metadata": {
        "id": "EBILg_1ph9rT"
      },
      "source": [
        "X_train_concatenate_normal, y_train_concatenate_normal = X_train_normals[normal_oversampling_indices], y_train_normals[normal_oversampling_indices]\n",
        "X_train_concatenate_viral, y_train_concatenate_viral = X_train_viral[viral_oversampling_indices], y_train_viral[viral_oversampling_indices]\n",
        "\n",
        "# new X_train\n",
        "X_train = np.concatenate((X_train, X_train_concatenate_normal), axis=0)\n",
        "X_train = np.concatenate((X_train, X_train_concatenate_viral))\n",
        "\n",
        "\n",
        "# new Y_train\n",
        "y_train = np.concatenate((y_train, y_train_concatenate_normal))\n",
        "y_train = np.concatenate((y_train, y_train_concatenate_viral))\n",
        "\n",
        "print(X_train.shape)"
      ],
      "execution_count": null,
      "outputs": []
    },
    {
      "cell_type": "markdown",
      "metadata": {
        "id": "COhM546Tiq0E"
      },
      "source": [
        "The proportions of the data have now been rebalanced to a relatively equal distribution."
      ]
    },
    {
      "cell_type": "code",
      "metadata": {
        "id": "si9U8Sxuh9tq"
      },
      "source": [
        "bacterial_indices = np.array([i[0] == 1 and i[1] == 0 for i in y_train])\n",
        "viral_indices = np.array([i[0] == 0 and i[1] == 1 for i in y_train])\n",
        "normal_indices = np.array([i[0] == 0 and i[1] == 0 for i in y_train])\n",
        "\n",
        "print(\"train viral pneumonia cases: \" + str(viral_indices.sum()))\n",
        "print(\"train bacterial pneumonia cases: \" + str(bacterial_indices.sum()))\n",
        "print(\"train normal cases: \" + str(normal_indices.sum()))"
      ],
      "execution_count": null,
      "outputs": []
    },
    {
      "cell_type": "code",
      "metadata": {
        "id": "BWGd6_CoRo_l"
      },
      "source": [
        "# rudimentary CNN for the three-way classification\n",
        "model = models.Sequential()\n",
        "model.add(layers.Conv2D(32, (3, 3), activation='relu', input_shape=(299, 299, 3)))\n",
        "model.add(layers.MaxPooling2D((2, 2)))\n",
        "model.add(layers.Conv2D(64, (3, 3), activation='relu'))\n",
        "model.add(layers.MaxPooling2D((2, 2)))\n",
        "model.add(layers.Conv2D(64, (3, 3), activation='relu'))\n",
        "model.add(layers.Flatten())\n",
        "model.add(layers.Dense(2,activation='softmax'))"
      ],
      "execution_count": null,
      "outputs": []
    },
    {
      "cell_type": "code",
      "metadata": {
        "id": "DanYPZEL8B08"
      },
      "source": [
        "model.summary()"
      ],
      "execution_count": null,
      "outputs": []
    },
    {
      "cell_type": "code",
      "metadata": {
        "id": "XqTqEtRz8EEQ"
      },
      "source": [
        "model.compile(optimizer='rmsprop',\n",
        "              loss='categorical_crossentropy',\n",
        "              metrics=['accuracy'])\n",
        "history = model.fit(X_train, y_train, epochs=40, batch_size=32, validation_data=(X_test, y_test))"
      ],
      "execution_count": null,
      "outputs": []
    },
    {
      "cell_type": "code",
      "metadata": {
        "id": "a6Q4DWp88MDU"
      },
      "source": [
        "import matplotlib.pyplot as plt\n",
        "\n",
        "acc = history.history['accuracy']\n",
        "val_acc = history.history['val_accuracy']\n",
        "loss = history.history['loss']\n",
        "val_loss = history.history['val_loss']\n",
        "\n",
        "epochs = range(1, len(acc) + 1)\n",
        "\n",
        "plt.plot(epochs, acc, 'bo', label='Training accuracy')\n",
        "plt.plot(epochs, val_acc, 'b', label='Validation accuracy')\n",
        "plt.title('Training and validation accuracy')\n",
        "plt.legend()\n",
        "\n",
        "plt.figure()\n",
        "\n",
        "plt.plot(epochs, loss, 'bo', label='Training loss')\n",
        "plt.plot(epochs, val_loss, 'b', label='Validation loss')\n",
        "plt.title('Training and validation loss')\n",
        "plt.legend()\n",
        "\n",
        "plt.show()"
      ],
      "execution_count": null,
      "outputs": []
    },
    {
      "cell_type": "code",
      "metadata": {
        "id": "WIgP766X608N"
      },
      "source": [
        "def get_img_array(img_path, size):\r\n",
        "    # `img` is a PIL image of size 299x299\r\n",
        "    img = tf.keras.preprocessing.image.load_img(img_path, target_size=size)\r\n",
        "    # `array` is a float32 Numpy array of shape (299, 299, 3)\r\n",
        "    array = tf.keras.preprocessing.image.img_to_array(img)\r\n",
        "    # We add a dimension to transform our array into a \"batch\"\r\n",
        "    # of size (1, 299, 299, 3)\r\n",
        "    array = np.expand_dims(array, axis=0)\r\n",
        "    return array"
      ],
      "execution_count": null,
      "outputs": []
    },
    {
      "cell_type": "code",
      "metadata": {
        "id": "1bzSfk50ST7Q"
      },
      "source": [
        "# todo: heatmaps! heatmaps! heatmaps! might turn the heatmaps into a whole function unto itself.\r\n",
        "\r\n",
        "classifier_layer_names = [\r\n",
        "    \"dense_1\"\r\n",
        "]\r\n",
        "img_array = preprocess_input(get_img_array(img_path, size = (299, 299)))\r\n",
        "\r\n",
        "last_conv_layer = model.get_layer(\"block14_sepconv2_act\")\r\n",
        "last_conv_layer_model = tf.keras.Model(model.inputs, last_conv_layer.output)\r\n",
        "\r\n",
        "# Second, we create a model that maps the activations of the last conv\r\n",
        "# layer to the final class predictions\r\n",
        "classifier_input = tf.keras.Input(shape=last_conv_layer.output.shape[1:])\r\n",
        "x = classifier_input\r\n",
        "# for layer_name in classifier_layer_names:\r\n",
        "#     x = model.get_layer(layer_name)(x)\r\n",
        "classifier_model = tf.keras.Model(classifier_input, x)\r\n",
        "\r\n",
        "# Then, we compute the gradient of the top predicted class for our input image\r\n",
        "# with respect to the activations of the last conv layer\r\n",
        "with tf.GradientTape() as tape:\r\n",
        "    # Compute activations of the last conv layer and make the tape watch it\r\n",
        "    last_conv_layer_output = last_conv_layer_model(img_array)\r\n",
        "    tape.watch(last_conv_layer_output)\r\n",
        "    # Compute class predictions\r\n",
        "    preds = classifier_model(last_conv_layer_output)\r\n",
        "    top_pred_index = tf.argmax(preds[0])\r\n",
        "    # print(preds[:, top_pred_index])\r\n",
        "    top_class_channel = preds[:]\r\n",
        "\r\n",
        "# This is the gradient of the top predicted class with regard to\r\n",
        "# the output feature map of the last conv layer\r\n",
        "grads = tape.gradient(top_class_channel, last_conv_layer_output)\r\n",
        "\r\n",
        "# This is a vector where each entry is the mean intensity of the gradient\r\n",
        "# over a specific feature map channel\r\n",
        "pooled_grads = tf.reduce_mean(grads, axis=(0, 1, 2))\r\n",
        "\r\n",
        "print(pooled_grads.shape)\r\n",
        "\r\n",
        "# We multiply each channel in the feature map array\r\n",
        "# by \"how important this channel is\" with regard to the top predicted class\r\n",
        "last_conv_layer_output = last_conv_layer_output.numpy()[0]\r\n",
        "pooled_grads = pooled_grads.numpy()\r\n",
        "for i in range(pooled_grads.shape[-1]):\r\n",
        "    last_conv_layer_output[:, :, i] *= pooled_grads[i]\r\n",
        "\r\n",
        "# The channel-wise mean of the resulting feature map\r\n",
        "# is our heatmap of class activation\r\n",
        "heatmap = np.mean(last_conv_layer_output, axis=-1)\r\n",
        "\r\n",
        "# For visualization purpose, we will also normalize the heatmap between 0 & 1\r\n",
        "heatmap = np.maximum(heatmap, 0) / np.max(heatmap)\r\n",
        "\r\n",
        "plt.matshow(heatmap)"
      ],
      "execution_count": null,
      "outputs": []
    }
  ]
}