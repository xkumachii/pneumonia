{
  "nbformat": 4,
  "nbformat_minor": 0,
  "metadata": {
    "accelerator": "GPU",
    "colab": {
      "name": "Pneumonia.ipynb",
      "provenance": [],
      "include_colab_link": true
    },
    "kernelspec": {
      "display_name": "Python 3",
      "name": "python3"
    }
  },
  "cells": [
    {
      "cell_type": "markdown",
      "metadata": {
        "id": "view-in-github",
        "colab_type": "text"
      },
      "source": [
        "<a href=\"https://colab.research.google.com/github/xkumachii/pneumonia/blob/main/Pneumonia.ipynb\" target=\"_parent\"><img src=\"https://colab.research.google.com/assets/colab-badge.svg\" alt=\"Open In Colab\"/></a>"
      ]
    },
    {
      "cell_type": "code",
      "metadata": {
        "id": "irHjP3XzPJia"
      },
      "source": [
        "import numpy as np\n",
        "\n",
        "import os\n",
        "\n",
        "import tensorflow as tf\n",
        "from tensorflow.keras import Model, Input, models, layers\n",
        "from tensorflow.keras.utils import get_file\n",
        "from tensorflow.keras.applications.vgg16 import VGG16, preprocess_input, decode_predictions\n",
        "from tensorflow.keras.applications.xception import Xception\n",
        "from tensorflow.keras.utils import to_categorical\n",
        "from tensorflow.keras.preprocessing import image\n",
        "from tensorflow.keras import backend as K\n",
        "from tensorflow.keras.layers.experimental import preprocessing\n",
        "\n",
        "from IPython.display import Image\n",
        "import matplotlib.pyplot as plt\n",
        "import matplotlib.cm as cm\n",
        "\n",
        "import cv2"
      ],
      "execution_count": 1,
      "outputs": []
    },
    {
      "cell_type": "code",
      "metadata": {
        "id": "gP3eVoGlZfXn"
      },
      "source": [
        "! pip install -q kaggle\n",
        "from google.colab import files"
      ],
      "execution_count": 2,
      "outputs": []
    },
    {
      "cell_type": "code",
      "metadata": {
        "colab": {
          "resources": {
            "http://localhost:8080/nbextensions/google.colab/files.js": {
              "data": "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",
              "ok": true,
              "headers": [
                [
                  "content-type",
                  "application/javascript"
                ]
              ],
              "status": 200,
              "status_text": ""
            }
          },
          "base_uri": "https://localhost:8080/",
          "height": 90
        },
        "id": "fFJGH9QTZfZ2",
        "outputId": "e68cba2d-bbc7-44fd-8a2e-75a2768b0528"
      },
      "source": [
        "# 1.) check your kaggle account \n",
        "# 2.) go to edit profile\n",
        "# 3.) create a new api token\n",
        "# 4.) upload your kaggle.json file here\n",
        "# 5.) for any retesting, keep your json file, and do not regenerate your api token unless absolutely needed\n",
        "files.upload()"
      ],
      "execution_count": 3,
      "outputs": [
        {
          "output_type": "display_data",
          "data": {
            "text/html": [
              "\n",
              "     <input type=\"file\" id=\"files-5ada85c7-6a64-4eca-902d-c8192ca26bd3\" name=\"files[]\" multiple disabled\n",
              "        style=\"border:none\" />\n",
              "     <output id=\"result-5ada85c7-6a64-4eca-902d-c8192ca26bd3\">\n",
              "      Upload widget is only available when the cell has been executed in the\n",
              "      current browser session. Please rerun this cell to enable.\n",
              "      </output>\n",
              "      <script src=\"/nbextensions/google.colab/files.js\"></script> "
            ],
            "text/plain": [
              "<IPython.core.display.HTML object>"
            ]
          },
          "metadata": {
            "tags": []
          }
        },
        {
          "output_type": "stream",
          "text": [
            "Saving kaggle.json to kaggle.json\n"
          ],
          "name": "stdout"
        },
        {
          "output_type": "execute_result",
          "data": {
            "text/plain": [
              "{'kaggle.json': b'{\"username\":\"kumachii\",\"key\":\"f8cd305bf4afae205ea340858ca16b92\"}'}"
            ]
          },
          "metadata": {
            "tags": []
          },
          "execution_count": 3
        }
      ]
    },
    {
      "cell_type": "code",
      "metadata": {
        "id": "qJcKiqmcZfcL"
      },
      "source": [
        "!mkdir -p ~/.kaggle\n",
        "!cp kaggle.json ~/.kaggle/\n",
        "!chmod 600 ~/.kaggle/kaggle.json"
      ],
      "execution_count": 4,
      "outputs": []
    },
    {
      "cell_type": "code",
      "metadata": {
        "colab": {
          "base_uri": "https://localhost:8080/"
        },
        "id": "qATALTfzZfe5",
        "outputId": "c38f05f4-e4ee-43e5-bc45-665113eb1925"
      },
      "source": [
        "!kaggle datasets download -d paultimothymooney/chest-xray-pneumonia"
      ],
      "execution_count": 5,
      "outputs": [
        {
          "output_type": "stream",
          "text": [
            "Downloading chest-xray-pneumonia.zip to /content\n",
            " 99% 2.28G/2.29G [00:30<00:00, 21.0MB/s]\n",
            "100% 2.29G/2.29G [00:30<00:00, 81.1MB/s]\n"
          ],
          "name": "stdout"
        }
      ]
    },
    {
      "cell_type": "code",
      "metadata": {
        "colab": {
          "base_uri": "https://localhost:8080/"
        },
        "id": "P_9XYUWPZfg-",
        "outputId": "b1a08897-6103-4bb2-cc07-a67a0700b72e"
      },
      "source": [
        "!ls"
      ],
      "execution_count": 6,
      "outputs": [
        {
          "output_type": "stream",
          "text": [
            "chest-xray-pneumonia.zip  kaggle.json  sample_data\n"
          ],
          "name": "stdout"
        }
      ]
    },
    {
      "cell_type": "code",
      "metadata": {
        "id": "z2geZtk3ZfjX"
      },
      "source": [
        "import zipfile\n",
        "zip_ref = zipfile.ZipFile(\"chest-xray-pneumonia.zip\", \"r\")\n",
        "zip_ref.extractall(\"files\")\n",
        "zip_ref.close()"
      ],
      "execution_count": 7,
      "outputs": []
    },
    {
      "cell_type": "code",
      "metadata": {
        "colab": {
          "base_uri": "https://localhost:8080/"
        },
        "id": "kJjA8rNHZfmY",
        "outputId": "32a4be12-ecf1-406f-d0ae-9cd4477b5eb8"
      },
      "source": [
        "!ls"
      ],
      "execution_count": 8,
      "outputs": [
        {
          "output_type": "stream",
          "text": [
            "chest-xray-pneumonia.zip  files  kaggle.json  sample_data\n"
          ],
          "name": "stdout"
        }
      ]
    },
    {
      "cell_type": "markdown",
      "metadata": {
        "id": "Ysa0AWnZI4R3"
      },
      "source": [
        "# X-ray Image Classification "
      ]
    },
    {
      "cell_type": "markdown",
      "metadata": {
        "id": "9Af6MkovKLUB"
      },
      "source": [
        "This notebook will demonstrate the diagnosis of pneumonia, and different types of pneumonia using Convolutional Neural Networks. \n",
        "\n",
        "The dataset we are working with is of various X-ray images of Chinese pediatric patients' lungs, sourced from Kaggle.\n"
      ]
    },
    {
      "cell_type": "code",
      "metadata": {
        "colab": {
          "base_uri": "https://localhost:8080/",
          "height": 805
        },
        "id": "vING_1ZI1npp",
        "outputId": "71f33b28-a25e-4d20-d31c-04ac0cc6bc43"
      },
      "source": [
        "# The local path to the target image\n",
        "img_path = \"/content/files/chest_xray/train/PNEUMONIA/person1945_bacteria_4872.jpeg\"\n",
        "\n",
        "display(Image(img_path))"
      ],
      "execution_count": 9,
      "outputs": [
        {
          "output_type": "display_data",
          "data": {
            "image/jpeg": "[encoded data removed]",
            "text/plain": [
              "<IPython.core.display.Image object>"
            ]
          },
          "metadata": {
            "tags": []
          }
        }
      ]
    },
    {
      "cell_type": "markdown",
      "metadata": {
        "id": "_FBJKhIuKgWg"
      },
      "source": [
        "Stuff about preprocessing"
      ]
    },
    {
      "cell_type": "code",
      "metadata": {
        "id": "0-Ti8q8vLF85"
      },
      "source": [
        "# # unused, taken from https://keras.io/examples/vision/xray_classification_with_tpus/. go delete this\n",
        "\n",
        "def get_label(file_path):\n",
        "    # convert the path to a list of path components\n",
        "    parts = tf.strings.split(file_path, \"/\")\n",
        "    # The second to last is the class-directory\n",
        "    return parts[-2] == \"PNEUMONIA\"\n",
        "\n",
        "\n",
        "def decode_img(img):\n",
        "    # convert the compressed string to a 3D uint8 tensor\n",
        "     img = tf.image.decode_jpeg(img, channels=3)\n",
        "     # resize the image to the desired size.\n",
        "     return tf.image.resize(img, (4,4))\n",
        "\n",
        "\n",
        "def process_path(image, path):\n",
        "     label = get_label(path)\n",
        "     # # load the raw data from the file as a string\n",
        "     img = decode_img(image)\n",
        "     return img, label"
      ],
      "execution_count": 10,
      "outputs": []
    },
    {
      "cell_type": "markdown",
      "metadata": {
        "id": "OqQaCH8uDjHC"
      },
      "source": [
        "# Binary Classification\n",
        "\n",
        "For our first model, we will first take the images from our drive, and preprocess them into data that can be fed into a CNN.\n",
        "\n",
        "For this section, we will focus on predicting whether a patient has pneumonia or not."
      ]
    },
    {
      "cell_type": "code",
      "metadata": {
        "id": "nx_-IEhrLGGK"
      },
      "source": [
        "def load_data(path):\n",
        "  imgs = []\n",
        "  labels = np.array([])\n",
        "\n",
        "  for dir in [\"NORMAL\", \"PNEUMONIA\"]:\n",
        "    temp_path = path + \"/\" + dir\n",
        "    counter = 0\n",
        "    for f in os.listdir(temp_path):\n",
        "      # To reduce training costs, the images are resized to 200x200.\n",
        "      img = image.load_img(temp_path + \"/\" + f, target_size=(299,299))\n",
        "      x = image.img_to_array(img)\n",
        "      imgs.append(x)\n",
        "      labels = np.append(labels, [int(dir == 'PNEUMONIA')])\n",
        "\n",
        "      # to check progress:\n",
        "      \n",
        "      if (counter % 500 == 0):\n",
        "        print(\"Files loaded for \" + path + \": \" + str(counter))\n",
        "      counter += 1\n",
        "\n",
        "      \n",
        "\n",
        "  imgs = np.asarray(imgs)\n",
        "  # normalize our data from values 0-1\n",
        "  imgs /= 255\n",
        "  print(imgs.shape) # left there for debug\n",
        "  return imgs, labels\n"
      ],
      "execution_count": 11,
      "outputs": []
    },
    {
      "cell_type": "code",
      "metadata": {
        "colab": {
          "base_uri": "https://localhost:8080/"
        },
        "id": "t2C6yvNoLGLU",
        "outputId": "e7078f18-a37e-4c60-bf5c-9f316265989c"
      },
      "source": [
        "# validation data was used as training data to debug things\n",
        "X_train, y_train = load_data(\"/content/files/chest_xray/train\")\n",
        "X_test, y_test = load_data(\"/content/files/chest_xray/test\")\n",
        "# X_val, y_val = load_data(\"/content/files/chest_xray/val\")"
      ],
      "execution_count": 12,
      "outputs": [
        {
          "output_type": "stream",
          "text": [
            "Files loaded for /content/files/chest_xray/train: 0\n",
            "Files loaded for /content/files/chest_xray/train: 500\n",
            "Files loaded for /content/files/chest_xray/train: 1000\n",
            "Files loaded for /content/files/chest_xray/train: 0\n",
            "Files loaded for /content/files/chest_xray/train: 500\n",
            "Files loaded for /content/files/chest_xray/train: 1000\n",
            "Files loaded for /content/files/chest_xray/train: 1500\n",
            "Files loaded for /content/files/chest_xray/train: 2000\n",
            "Files loaded for /content/files/chest_xray/train: 2500\n",
            "Files loaded for /content/files/chest_xray/train: 3000\n",
            "Files loaded for /content/files/chest_xray/train: 3500\n",
            "(5216, 299, 299, 3)\n",
            "Files loaded for /content/files/chest_xray/test: 0\n",
            "Files loaded for /content/files/chest_xray/test: 0\n",
            "(624, 299, 299, 3)\n"
          ],
          "name": "stdout"
        }
      ]
    },
    {
      "cell_type": "markdown",
      "metadata": {
        "id": "eeioOJhBK0ja"
      },
      "source": [
        "## Rudimentary CNN\n",
        "\n",
        "We will be testing our data on a simple 5-layer CNN."
      ]
    },
    {
      "cell_type": "code",
      "metadata": {
        "id": "cDgRNGJALeGM"
      },
      "source": [
        "model = models.Sequential()\n",
        "model.add(layers.Conv2D(32, (3, 3), activation='relu', input_shape=(299, 299, 3)))\n",
        "model.add(layers.MaxPooling2D((2, 2)))\n",
        "model.add(layers.Conv2D(64, (3, 3), activation='relu'))\n",
        "model.add(layers.MaxPooling2D((2, 2)))\n",
        "model.add(layers.Conv2D(64, (3, 3), activation='relu'))\n",
        "model.add(layers.Flatten())\n",
        "model.add(layers.Dense(1,activation='sigmoid'))"
      ],
      "execution_count": 14,
      "outputs": []
    },
    {
      "cell_type": "code",
      "metadata": {
        "colab": {
          "base_uri": "https://localhost:8080/"
        },
        "id": "Y1Dim82MxZay",
        "outputId": "e16ca45c-9c56-4995-bf04-50f9f425007c"
      },
      "source": [
        "model.summary()"
      ],
      "execution_count": 15,
      "outputs": [
        {
          "output_type": "stream",
          "text": [
            "Model: \"sequential\"\n",
            "_________________________________________________________________\n",
            "Layer (type)                 Output Shape              Param #   \n",
            "=================================================================\n",
            "conv2d (Conv2D)              (None, 297, 297, 32)      896       \n",
            "_________________________________________________________________\n",
            "max_pooling2d (MaxPooling2D) (None, 148, 148, 32)      0         \n",
            "_________________________________________________________________\n",
            "conv2d_1 (Conv2D)            (None, 146, 146, 64)      18496     \n",
            "_________________________________________________________________\n",
            "max_pooling2d_1 (MaxPooling2 (None, 73, 73, 64)        0         \n",
            "_________________________________________________________________\n",
            "conv2d_2 (Conv2D)            (None, 71, 71, 64)        36928     \n",
            "_________________________________________________________________\n",
            "flatten (Flatten)            (None, 322624)            0         \n",
            "_________________________________________________________________\n",
            "dense (Dense)                (None, 1)                 322625    \n",
            "=================================================================\n",
            "Total params: 378,945\n",
            "Trainable params: 378,945\n",
            "Non-trainable params: 0\n",
            "_________________________________________________________________\n"
          ],
          "name": "stdout"
        }
      ]
    },
    {
      "cell_type": "code",
      "metadata": {
        "colab": {
          "base_uri": "https://localhost:8080/"
        },
        "id": "Wf7U8_44xeiZ",
        "outputId": "31a184ad-bb6c-4c03-ebae-ad4d85b422c4"
      },
      "source": [
        "model.compile(optimizer='rmsprop',\n",
        "              loss='binary_crossentropy',\n",
        "              metrics=['accuracy'])\n",
        "history = model.fit(X_train, y_train, epochs=40, batch_size=32, validation_data=(X_test, y_test))\n",
        "# model.fit(X_val, y_val, epochs=15, batch_size=32) #this line is for debug purposes\n",
        "\n",
        "# things to consider\n",
        "# cost function for false negatives and false positives\n",
        "# slightly unbalanced data set -- oversample? undersample? both?\n",
        "# three-way classification section\n"
      ],
      "execution_count": 16,
      "outputs": [
        {
          "output_type": "stream",
          "text": [
            "Epoch 1/40\n",
            "  2/163 [..............................] - ETA: 6s - loss: 9.3523 - accuracy: 0.6094WARNING:tensorflow:Callbacks method `on_train_batch_end` is slow compared to the batch time (batch time: 0.0245s vs `on_train_batch_end` time: 0.0511s). Check your callbacks.\n",
            "163/163 [==============================] - 13s 80ms/step - loss: 0.5493 - accuracy: 0.8455 - val_loss: 0.4657 - val_accuracy: 0.8093\n",
            "Epoch 2/40\n",
            "163/163 [==============================] - 13s 79ms/step - loss: 0.1845 - accuracy: 0.9381 - val_loss: 1.0455 - val_accuracy: 0.7131\n",
            "Epoch 3/40\n",
            "163/163 [==============================] - 13s 79ms/step - loss: 0.1211 - accuracy: 0.9620 - val_loss: 1.2313 - val_accuracy: 0.7500\n",
            "Epoch 4/40\n",
            "163/163 [==============================] - 13s 79ms/step - loss: 0.0680 - accuracy: 0.9735 - val_loss: 1.0050 - val_accuracy: 0.7772\n",
            "Epoch 5/40\n",
            "163/163 [==============================] - 13s 79ms/step - loss: 0.0463 - accuracy: 0.9843 - val_loss: 1.6659 - val_accuracy: 0.7372\n",
            "Epoch 6/40\n",
            "163/163 [==============================] - 13s 80ms/step - loss: 0.0390 - accuracy: 0.9875 - val_loss: 2.0169 - val_accuracy: 0.7292\n",
            "Epoch 7/40\n",
            "163/163 [==============================] - 13s 80ms/step - loss: 0.0302 - accuracy: 0.9900 - val_loss: 2.1079 - val_accuracy: 0.7756\n",
            "Epoch 8/40\n",
            "163/163 [==============================] - 13s 80ms/step - loss: 0.0224 - accuracy: 0.9941 - val_loss: 2.6668 - val_accuracy: 0.7612\n",
            "Epoch 9/40\n",
            "163/163 [==============================] - 13s 80ms/step - loss: 0.0252 - accuracy: 0.9962 - val_loss: 2.3413 - val_accuracy: 0.7756\n",
            "Epoch 10/40\n",
            "163/163 [==============================] - 13s 79ms/step - loss: 0.0180 - accuracy: 0.9962 - val_loss: 3.2396 - val_accuracy: 0.7532\n",
            "Epoch 11/40\n",
            "163/163 [==============================] - 13s 79ms/step - loss: 0.0087 - accuracy: 0.9967 - val_loss: 4.0902 - val_accuracy: 0.7580\n",
            "Epoch 12/40\n",
            "163/163 [==============================] - 13s 79ms/step - loss: 0.0812 - accuracy: 0.9941 - val_loss: 5.8726 - val_accuracy: 0.7292\n",
            "Epoch 13/40\n",
            "163/163 [==============================] - 13s 79ms/step - loss: 0.0294 - accuracy: 0.9962 - val_loss: 7.3003 - val_accuracy: 0.7324\n",
            "Epoch 14/40\n",
            "163/163 [==============================] - 13s 80ms/step - loss: 0.0266 - accuracy: 0.9975 - val_loss: 6.2882 - val_accuracy: 0.7532\n",
            "Epoch 15/40\n",
            "163/163 [==============================] - 13s 79ms/step - loss: 0.0148 - accuracy: 0.9973 - val_loss: 5.3641 - val_accuracy: 0.7516\n",
            "Epoch 16/40\n",
            "163/163 [==============================] - 13s 80ms/step - loss: 0.2147 - accuracy: 0.9965 - val_loss: 6.5040 - val_accuracy: 0.7436\n",
            "Epoch 17/40\n",
            "163/163 [==============================] - 13s 80ms/step - loss: 0.0400 - accuracy: 0.9979 - val_loss: 7.1062 - val_accuracy: 0.7356\n",
            "Epoch 18/40\n",
            "163/163 [==============================] - 13s 80ms/step - loss: 0.0104 - accuracy: 0.9975 - val_loss: 7.5986 - val_accuracy: 0.7356\n",
            "Epoch 19/40\n",
            "163/163 [==============================] - 13s 80ms/step - loss: 0.0241 - accuracy: 0.9981 - val_loss: 6.9368 - val_accuracy: 0.7548\n",
            "Epoch 20/40\n",
            "163/163 [==============================] - 13s 79ms/step - loss: 0.0293 - accuracy: 0.9977 - val_loss: 7.7874 - val_accuracy: 0.7420\n",
            "Epoch 21/40\n",
            "163/163 [==============================] - 13s 80ms/step - loss: 0.0055 - accuracy: 0.9994 - val_loss: 9.1491 - val_accuracy: 0.7580\n",
            "Epoch 22/40\n",
            "163/163 [==============================] - 13s 79ms/step - loss: 0.0057 - accuracy: 0.9988 - val_loss: 8.6651 - val_accuracy: 0.7548\n",
            "Epoch 23/40\n",
            "163/163 [==============================] - 13s 80ms/step - loss: 6.7191e-06 - accuracy: 1.0000 - val_loss: 12.3527 - val_accuracy: 0.7083\n",
            "Epoch 24/40\n",
            "163/163 [==============================] - 13s 80ms/step - loss: 0.0167 - accuracy: 0.9988 - val_loss: 11.0964 - val_accuracy: 0.7324\n",
            "Epoch 25/40\n",
            "163/163 [==============================] - 13s 80ms/step - loss: 0.0204 - accuracy: 0.9985 - val_loss: 10.8409 - val_accuracy: 0.7484\n",
            "Epoch 26/40\n",
            "163/163 [==============================] - 13s 80ms/step - loss: 0.0125 - accuracy: 0.9990 - val_loss: 10.6873 - val_accuracy: 0.7580\n",
            "Epoch 27/40\n",
            "163/163 [==============================] - 13s 80ms/step - loss: 0.0147 - accuracy: 0.9979 - val_loss: 10.8316 - val_accuracy: 0.7452\n",
            "Epoch 28/40\n",
            "163/163 [==============================] - 13s 80ms/step - loss: 0.0025 - accuracy: 0.9996 - val_loss: 11.3591 - val_accuracy: 0.7484\n",
            "Epoch 29/40\n",
            "163/163 [==============================] - 13s 80ms/step - loss: 0.0017 - accuracy: 0.9994 - val_loss: 12.6153 - val_accuracy: 0.7516\n",
            "Epoch 30/40\n",
            "163/163 [==============================] - 13s 80ms/step - loss: 0.0068 - accuracy: 0.9990 - val_loss: 10.5139 - val_accuracy: 0.7340\n",
            "Epoch 31/40\n",
            "163/163 [==============================] - 13s 80ms/step - loss: 0.0050 - accuracy: 0.9985 - val_loss: 9.5309 - val_accuracy: 0.7452\n",
            "Epoch 32/40\n",
            "163/163 [==============================] - 13s 80ms/step - loss: 0.0033 - accuracy: 0.9996 - val_loss: 13.2571 - val_accuracy: 0.7356\n",
            "Epoch 33/40\n",
            "163/163 [==============================] - 13s 80ms/step - loss: 0.0033 - accuracy: 0.9996 - val_loss: 11.9252 - val_accuracy: 0.7484\n",
            "Epoch 34/40\n",
            "163/163 [==============================] - 13s 80ms/step - loss: 4.9809e-10 - accuracy: 1.0000 - val_loss: 12.5545 - val_accuracy: 0.7420\n",
            "Epoch 35/40\n",
            "163/163 [==============================] - 13s 80ms/step - loss: 2.0614e-10 - accuracy: 1.0000 - val_loss: 11.8942 - val_accuracy: 0.7468\n",
            "Epoch 36/40\n",
            "163/163 [==============================] - 13s 80ms/step - loss: 5.7977e-11 - accuracy: 1.0000 - val_loss: 12.0277 - val_accuracy: 0.7436\n",
            "Epoch 37/40\n",
            "163/163 [==============================] - 13s 80ms/step - loss: 3.3462e-11 - accuracy: 1.0000 - val_loss: 12.1299 - val_accuracy: 0.7436\n",
            "Epoch 38/40\n",
            "163/163 [==============================] - 13s 80ms/step - loss: 3.6601e-11 - accuracy: 1.0000 - val_loss: 12.0679 - val_accuracy: 0.7436\n",
            "Epoch 39/40\n",
            "163/163 [==============================] - 13s 79ms/step - loss: 3.6699e-11 - accuracy: 1.0000 - val_loss: 12.0755 - val_accuracy: 0.7436\n",
            "Epoch 40/40\n",
            "163/163 [==============================] - 13s 80ms/step - loss: 2.9541e-11 - accuracy: 1.0000 - val_loss: 12.0287 - val_accuracy: 0.7436\n"
          ],
          "name": "stdout"
        },
        {
          "output_type": "execute_result",
          "data": {
            "text/plain": [
              "<tensorflow.python.keras.callbacks.History at 0x7fd0495e7e10>"
            ]
          },
          "metadata": {
            "tags": []
          },
          "execution_count": 16
        }
      ]
    },
    {
      "cell_type": "markdown",
      "metadata": {
        "id": "8_t2z_GVQJgi"
      },
      "source": [
        "We graph our stuff here"
      ]
    },
    {
      "cell_type": "code",
      "metadata": {
        "id": "vOYRZ3UoL6YY",
        "colab": {
          "base_uri": "https://localhost:8080/",
          "height": 229
        },
        "outputId": "3d309668-4563-4591-8e2f-76d5bca8479d"
      },
      "source": [
        "import matplotlib.pyplot as plt\n",
        "\n",
        "acc = history.history['accuracy']\n",
        "val_acc = history.history['val_accuracy']\n",
        "loss = history.history['loss']\n",
        "val_loss = history.history['val_loss']\n",
        "\n",
        "epochs = range(1, len(acc) + 1)\n",
        "\n",
        "plt.plot(epochs, acc, 'bo', label='Training accuracy')\n",
        "plt.plot(epochs, val_acc, 'b', label='Validation accuracy')\n",
        "plt.title('Training and validation accuracy')\n",
        "plt.legend()\n",
        "\n",
        "plt.figure()\n",
        "\n",
        "plt.plot(epochs, loss, 'bo', label='Training loss')\n",
        "plt.plot(epochs, val_loss, 'b', label='Validation loss')\n",
        "plt.title('Training and validation loss')\n",
        "plt.legend()\n",
        "\n",
        "plt.show()"
      ],
      "execution_count": 17,
      "outputs": [
        {
          "output_type": "error",
          "ename": "NameError",
          "evalue": "ignored",
          "traceback": [
            "\u001b[0;31m---------------------------------------------------------------------------\u001b[0m",
            "\u001b[0;31mNameError\u001b[0m                                 Traceback (most recent call last)",
            "\u001b[0;32m<ipython-input-17-b11cfc8371e7>\u001b[0m in \u001b[0;36m<module>\u001b[0;34m()\u001b[0m\n\u001b[1;32m      1\u001b[0m \u001b[0;32mimport\u001b[0m \u001b[0mmatplotlib\u001b[0m\u001b[0;34m.\u001b[0m\u001b[0mpyplot\u001b[0m \u001b[0;32mas\u001b[0m \u001b[0mplt\u001b[0m\u001b[0;34m\u001b[0m\u001b[0;34m\u001b[0m\u001b[0m\n\u001b[1;32m      2\u001b[0m \u001b[0;34m\u001b[0m\u001b[0m\n\u001b[0;32m----> 3\u001b[0;31m \u001b[0macc\u001b[0m \u001b[0;34m=\u001b[0m \u001b[0mhistory\u001b[0m\u001b[0;34m.\u001b[0m\u001b[0mhistory\u001b[0m\u001b[0;34m[\u001b[0m\u001b[0;34m'accuracy'\u001b[0m\u001b[0;34m]\u001b[0m\u001b[0;34m\u001b[0m\u001b[0;34m\u001b[0m\u001b[0m\n\u001b[0m\u001b[1;32m      4\u001b[0m \u001b[0mval_acc\u001b[0m \u001b[0;34m=\u001b[0m \u001b[0mhistory\u001b[0m\u001b[0;34m.\u001b[0m\u001b[0mhistory\u001b[0m\u001b[0;34m[\u001b[0m\u001b[0;34m'val_accuracy'\u001b[0m\u001b[0;34m]\u001b[0m\u001b[0;34m\u001b[0m\u001b[0;34m\u001b[0m\u001b[0m\n\u001b[1;32m      5\u001b[0m \u001b[0mloss\u001b[0m \u001b[0;34m=\u001b[0m \u001b[0mhistory\u001b[0m\u001b[0;34m.\u001b[0m\u001b[0mhistory\u001b[0m\u001b[0;34m[\u001b[0m\u001b[0;34m'loss'\u001b[0m\u001b[0;34m]\u001b[0m\u001b[0;34m\u001b[0m\u001b[0;34m\u001b[0m\u001b[0m\n",
            "\u001b[0;31mNameError\u001b[0m: name 'history' is not defined"
          ]
        }
      ]
    },
    {
      "cell_type": "code",
      "metadata": {
        "id": "1VLOvVEltO1Z"
      },
      "source": [
        "model= tf.keras.applications.Xception(\n",
        "    include_top=True,\n",
        "    weights=None,\n",
        "    input_tensor=None,\n",
        "    input_shape=None,\n",
        "    pooling=max,\n",
        "    classes = 2,\n",
        "    classifier_activation=\"softmax\",\n",
        ")"
      ],
      "execution_count": null,
      "outputs": []
    },
    {
      "cell_type": "code",
      "metadata": {
        "id": "ohNcz_tjM-1R"
      },
      "source": [
        "model.summary()"
      ],
      "execution_count": null,
      "outputs": []
    },
    {
      "cell_type": "code",
      "metadata": {
        "id": "xr-1YZDwP0aN"
      },
      "source": [
        "model.compile(optimizer='rmsprop',\n",
        "              loss='binary_crossentropy',\n",
        "              metrics=['accuracy'])\n",
        "model.fit(X_train, y_train, epochs=40, batch_size=32, validation_data=(X_test, y_test))\n",
        "# model.fit(X_val, y_val, epochs=15, batch_size=32) #this line is for debug purposes\n"
      ],
      "execution_count": null,
      "outputs": []
    },
    {
      "cell_type": "code",
      "metadata": {
        "id": "NcyvdODRG-k3"
      },
      "source": [
        "def get_img_array(img_path, size):\n",
        "    # `img` is a PIL image of size 299x299\n",
        "    img = tf.keras.preprocessing.image.load_img(img_path, target_size=size)\n",
        "    # `array` is a float32 Numpy array of shape (299, 299, 3)\n",
        "    array = tf.keras.preprocessing.image.img_to_array(img)\n",
        "    # We add a dimension to transform our array into a \"batch\"\n",
        "    # of size (1, 299, 299, 3)\n",
        "    array = np.expand_dims(array, axis=0)\n",
        "    return array"
      ],
      "execution_count": null,
      "outputs": []
    },
    {
      "cell_type": "code",
      "metadata": {
        "id": "t8p0Q9KlHABb"
      },
      "source": [
        "last_conv_layer_name = \"block14_sepconv2_act\"\n",
        "classifier_layer_names = [\n",
        "    \"avg_pool\",\n",
        "    \"predictions\",\n",
        "]\n",
        "img_array = preprocess_input(get_img_array(img_path, size = (299, 299)))\n",
        "\n",
        "\n",
        "last_conv_layer = model.get_layer(last_conv_layer_name)\n",
        "last_conv_layer_model = tf.keras.Model(model.inputs, last_conv_layer.output)\n",
        "\n",
        "# Second, we create a model that maps the activations of the last conv\n",
        "# layer to the final class predictions\n",
        "classifier_input = tf.keras.Input(shape=last_conv_layer.output.shape[1:])\n",
        "x = classifier_input\n",
        "for layer_name in classifier_layer_names:\n",
        "    x = model.get_layer(layer_name)(x)\n",
        "classifier_model = tf.keras.Model(classifier_input, x)\n",
        "\n",
        "# Then, we compute the gradient of the top predicted class for our input image\n",
        "# with respect to the activations of the last conv layer\n",
        "with tf.GradientTape() as tape:\n",
        "    # Compute activations of the last conv layer and make the tape watch it\n",
        "    last_conv_layer_output = last_conv_layer_model(img_array)\n",
        "    tape.watch(last_conv_layer_output)\n",
        "    # Compute class predictions\n",
        "    preds = classifier_model(last_conv_layer_output)\n",
        "    top_pred_index = tf.argmax(preds[0])\n",
        "    top_class_channel = preds[:, top_pred_index]\n",
        "\n",
        "# This is the gradient of the top predicted class with regard to\n",
        "# the output feature map of the last conv layer\n",
        "grads = tape.gradient(top_class_channel, last_conv_layer_output)\n",
        "\n",
        "# This is a vector where each entry is the mean intensity of the gradient\n",
        "# over a specific feature map channel\n",
        "pooled_grads = tf.reduce_mean(grads, axis=(0, 1, 2))\n",
        "\n",
        "# We multiply each channel in the feature map array\n",
        "# by \"how important this channel is\" with regard to the top predicted class\n",
        "last_conv_layer_output = last_conv_layer_output.numpy()[0]\n",
        "pooled_grads = pooled_grads.numpy()\n",
        "for i in range(pooled_grads.shape[-1]):\n",
        "    last_conv_layer_output[:, :, i] *= pooled_grads[i]\n",
        "\n",
        "# The channel-wise mean of the resulting feature map\n",
        "# is our heatmap of class activation\n",
        "heatmap = np.mean(last_conv_layer_output, axis=-1)\n",
        "\n",
        "# For visualization purpose, we will also normalize the heatmap between 0 & 1\n",
        "heatmap = np.maximum(heatmap, 0) / np.max(heatmap)\n",
        "\n",
        "plt.matshow(heatmap)"
      ],
      "execution_count": null,
      "outputs": []
    },
    {
      "cell_type": "code",
      "metadata": {
        "id": "dZ0qcUbAHJgy"
      },
      "source": [
        "# We load the original image\n",
        "img = tf.keras.preprocessing.image.load_img(img_path)\n",
        "img = tf.keras.preprocessing.image.img_to_array(img)\n",
        "\n",
        "# We rescale heatmap to a range 0-255\n",
        "heatmap = np.uint8(255 * heatmap)\n",
        "\n",
        "# We use jet colormap to colorize heatmap\n",
        "jet = cm.get_cmap(\"jet\")\n",
        "\n",
        "# We use RGB values of the colormap\n",
        "jet_colors = jet(np.arange(256))[:, :3]\n",
        "jet_heatmap = jet_colors[heatmap]\n",
        "\n",
        "# We create an image with RGB colorized heatmap\n",
        "jet_heatmap = tf.keras.preprocessing.image.array_to_img(jet_heatmap)\n",
        "jet_heatmap = jet_heatmap.resize((img.shape[1], img.shape[0]))\n",
        "jet_heatmap = tf.keras.preprocessing.image.img_to_array(jet_heatmap)\n",
        "\n",
        "# Superimpose the heatmap on original image\n",
        "superimposed_img = jet_heatmap * 0.4 + img\n",
        "superimposed_img = tf.keras.preprocessing.image.array_to_img(superimposed_img)\n",
        "\n",
        "# Save the superimposed image\n",
        "save_path = \"pneumonia_cam.jpg\"\n",
        "superimposed_img.save(save_path)\n",
        "\n",
        "# Display Grad CAM\n",
        "display(Image(save_path))"
      ],
      "execution_count": null,
      "outputs": []
    },
    {
      "cell_type": "markdown",
      "metadata": {
        "id": "dP3ctC8ERXHD"
      },
      "source": [
        "# Three-Way Classification\n",
        "\n",
        "We will now be processing our data such that we will also be taking into consideration, the type of pneumonia one can be diagnosed with -- bacterial and viral."
      ]
    },
    {
      "cell_type": "code",
      "metadata": {
        "id": "y9odK_pyRjDi"
      },
      "source": [
        "def load_data_2(path):\n",
        "  imgs = []\n",
        "  labels = []\n",
        "\n",
        "  for dir in [\"NORMAL\", \"PNEUMONIA\"]:\n",
        "    temp_path = path + \"/\" + dir\n",
        "    counter = 0\n",
        "    for f in os.listdir(temp_path):\n",
        "      # To reduce training costs, the images are resized to 200x200.\n",
        "      img = image.load_img(temp_path + \"/\" + f, target_size=(299,299))\n",
        "      x = image.img_to_array(img)\n",
        "      imgs.append(x)\n",
        "\n",
        "      # one-hot encoded labels\n",
        "      labels.append([int('bacteria' in f), int('viral' in f)])\n",
        "\n",
        "\n",
        "      # to check progress:\n",
        "      \n",
        "      if (counter % 500 == 0):\n",
        "        print(\"Files loaded for \" + path + \": \" + str(counter))\n",
        "      counter += 1\n",
        "\n",
        "      \n",
        "\n",
        "  imgs = np.asarray(imgs)\n",
        "  labels = np.asarray(labels)\n",
        "  # normalize our data from values 0-1\n",
        "  imgs /= 255\n",
        "  print(imgs.shape) # left there for debug\n",
        "  return imgs, labels"
      ],
      "execution_count": null,
      "outputs": []
    },
    {
      "cell_type": "code",
      "metadata": {
        "id": "9cg-t5Dh79gE"
      },
      "source": [
        "X_train, y_train = load_data_2(\"/content/files/chest_xray/train\")\n",
        "X_test, y_test = load_data_2(\"/content/files/chest_xray/test\")\n",
        "X_val, y_val = load_data_2(\"/content/files/chest_xray/val\")\n",
        "print(y_test)"
      ],
      "execution_count": null,
      "outputs": []
    },
    {
      "cell_type": "code",
      "metadata": {
        "id": "BWGd6_CoRo_l"
      },
      "source": [
        "# rudimentary CNN for the three-way classification\n",
        "model = models.Sequential()\n",
        "model.add(layers.Conv2D(32, (3, 3), activation='relu', input_shape=(299, 299, 3)))\n",
        "model.add(layers.MaxPooling2D((2, 2)))\n",
        "model.add(layers.Conv2D(64, (3, 3), activation='relu'))\n",
        "model.add(layers.MaxPooling2D((2, 2)))\n",
        "model.add(layers.Conv2D(64, (3, 3), activation='relu'))\n",
        "model.add(layers.Flatten())\n",
        "model.add(layers.Dense(2,activation='softmax'))"
      ],
      "execution_count": null,
      "outputs": []
    },
    {
      "cell_type": "code",
      "metadata": {
        "id": "DanYPZEL8B08"
      },
      "source": [
        "model.summary()"
      ],
      "execution_count": null,
      "outputs": []
    },
    {
      "cell_type": "code",
      "metadata": {
        "id": "XqTqEtRz8EEQ"
      },
      "source": [
        "model.compile(optimizer='rmsprop',\n",
        "              loss='categorical_crossentropy',\n",
        "              metrics=['accuracy'])\n",
        "history = model.fit(X_train, y_train, epochs=40, batch_size=32, validation_data=(X_test, y_test))"
      ],
      "execution_count": null,
      "outputs": []
    },
    {
      "cell_type": "code",
      "metadata": {
        "id": "a6Q4DWp88MDU"
      },
      "source": [
        "import matplotlib.pyplot as plt\n",
        "\n",
        "acc = history.history['accuracy']\n",
        "val_acc = history.history['val_accuracy']\n",
        "loss = history.history['loss']\n",
        "val_loss = history.history['val_loss']\n",
        "\n",
        "epochs = range(1, len(acc) + 1)\n",
        "\n",
        "plt.plot(epochs, acc, 'bo', label='Training accuracy')\n",
        "plt.plot(epochs, val_acc, 'b', label='Validation accuracy')\n",
        "plt.title('Training and validation accuracy')\n",
        "plt.legend()\n",
        "\n",
        "plt.figure()\n",
        "\n",
        "plt.plot(epochs, loss, 'bo', label='Training loss')\n",
        "plt.plot(epochs, val_loss, 'b', label='Validation loss')\n",
        "plt.title('Training and validation loss')\n",
        "plt.legend()\n",
        "\n",
        "plt.show()"
      ],
      "execution_count": null,
      "outputs": []
    },
    {
      "cell_type": "code",
      "metadata": {
        "id": "gA5zR6NMRwdV"
      },
      "source": [
        "# xception model for the three-way classification\n",
        "model= tf.keras.applications.Xception(\n",
        "    include_top=True,\n",
        "    weights=None,\n",
        "    input_tensor=None,\n",
        "    input_shape=None,\n",
        "    pooling=max,\n",
        "    classes = 2,\n",
        "    classifier_activation=\"softmax\",\n",
        ")"
      ],
      "execution_count": null,
      "outputs": []
    },
    {
      "cell_type": "code",
      "metadata": {
        "id": "dHnVUQbN8P0m"
      },
      "source": [
        "model.summary()"
      ],
      "execution_count": null,
      "outputs": []
    },
    {
      "cell_type": "code",
      "metadata": {
        "id": "1bzSfk50ST7Q"
      },
      "source": [
        "# todo: heatmaps! heatmaps! heatmaps! might turn the heatmaps into a whole function unto itself."
      ],
      "execution_count": null,
      "outputs": []
    }
  ]
}