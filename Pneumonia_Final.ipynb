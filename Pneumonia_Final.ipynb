{
  "nbformat": 4,
  "nbformat_minor": 0,
  "metadata": {
    "colab": {
      "name": "Pneumonia_Final.ipynb",
      "provenance": [],
      "toc_visible": true,
      "machine_shape": "hm",
      "authorship_tag": "ABX9TyO55+W7bbK8rZCeQibB936I",
      "include_colab_link": true
    },
    "kernelspec": {
      "name": "python3",
      "display_name": "Python 3"
    },
    "accelerator": "GPU"
  },
  "cells": [
    {
      "cell_type": "markdown",
      "metadata": {
        "id": "view-in-github",
        "colab_type": "text"
      },
      "source": [
        "<a href=\"https://colab.research.google.com/github/xkumachii/pneumonia/blob/main/Pneumonia_Final.ipynb\" target=\"_parent\"><img src=\"https://colab.research.google.com/assets/colab-badge.svg\" alt=\"Open In Colab\"/></a>"
      ]
    },
    {
      "cell_type": "code",
      "metadata": {
        "id": "CqNt6t4XHzWq"
      },
      "source": [
        "import numpy as np\r\n",
        "\r\n",
        "import os\r\n",
        "\r\n",
        "import tensorflow as tf\r\n",
        "from tensorflow.keras import Model, Input, models, layers\r\n",
        "from tensorflow.keras.utils import get_file\r\n",
        "from tensorflow.keras.applications.vgg16 import VGG16, preprocess_input, decode_predictions\r\n",
        "from tensorflow.keras.applications.xception import Xception\r\n",
        "from tensorflow.keras.utils import to_categorical\r\n",
        "from tensorflow.keras.preprocessing import image\r\n",
        "from tensorflow.keras import backend as K\r\n",
        "from tensorflow.keras.layers.experimental import preprocessing\r\n",
        "from keras.preprocessing.image import ImageDataGenerator, array_to_img,img_to_array, load_img\r\n",
        "\r\n",
        "from IPython.display import Image\r\n",
        "import matplotlib.pyplot as plt\r\n",
        "import matplotlib.cm as cm\r\n",
        "\r\n",
        "import cv2"
      ],
      "execution_count": 1,
      "outputs": []
    },
    {
      "cell_type": "code",
      "metadata": {
        "colab": {
          "base_uri": "https://localhost:8080/"
        },
        "id": "pl6tV_Ph5SPo",
        "outputId": "1190a5db-296c-4fd5-fd6c-20b0230e6569"
      },
      "source": [
        "try:\r\n",
        "    tpu = tf.distribute.cluster_resolver.TPUClusterResolver()\r\n",
        "    print(\"Device:\", tpu.master())\r\n",
        "    tf.config.experimental_connect_to_cluster(tpu)\r\n",
        "    tf.tpu.experimental.initialize_tpu_system(tpu)\r\n",
        "    strategy = tf.distribute.experimental.TPUStrategy(tpu)\r\n",
        "except:\r\n",
        "    strategy = tf.distribute.get_strategy()\r\n",
        "print(\"Number of replicas:\", strategy.num_replicas_in_sync)"
      ],
      "execution_count": 2,
      "outputs": [
        {
          "output_type": "stream",
          "text": [
            "Device: grpc://10.53.228.242:8470\n",
            "INFO:tensorflow:Initializing the TPU system: grpc://10.53.228.242:8470\n"
          ],
          "name": "stdout"
        },
        {
          "output_type": "stream",
          "text": [
            "INFO:tensorflow:Initializing the TPU system: grpc://10.53.228.242:8470\n"
          ],
          "name": "stderr"
        },
        {
          "output_type": "stream",
          "text": [
            "INFO:tensorflow:Clearing out eager caches\n"
          ],
          "name": "stdout"
        },
        {
          "output_type": "stream",
          "text": [
            "INFO:tensorflow:Clearing out eager caches\n"
          ],
          "name": "stderr"
        },
        {
          "output_type": "stream",
          "text": [
            "INFO:tensorflow:Finished initializing TPU system.\n"
          ],
          "name": "stdout"
        },
        {
          "output_type": "stream",
          "text": [
            "INFO:tensorflow:Finished initializing TPU system.\n",
            "WARNING:absl:`tf.distribute.experimental.TPUStrategy` is deprecated, please use  the non experimental symbol `tf.distribute.TPUStrategy` instead.\n"
          ],
          "name": "stderr"
        },
        {
          "output_type": "stream",
          "text": [
            "INFO:tensorflow:Found TPU system:\n"
          ],
          "name": "stdout"
        },
        {
          "output_type": "stream",
          "text": [
            "INFO:tensorflow:Found TPU system:\n"
          ],
          "name": "stderr"
        },
        {
          "output_type": "stream",
          "text": [
            "INFO:tensorflow:*** Num TPU Cores: 8\n"
          ],
          "name": "stdout"
        },
        {
          "output_type": "stream",
          "text": [
            "INFO:tensorflow:*** Num TPU Cores: 8\n"
          ],
          "name": "stderr"
        },
        {
          "output_type": "stream",
          "text": [
            "INFO:tensorflow:*** Num TPU Workers: 1\n"
          ],
          "name": "stdout"
        },
        {
          "output_type": "stream",
          "text": [
            "INFO:tensorflow:*** Num TPU Workers: 1\n"
          ],
          "name": "stderr"
        },
        {
          "output_type": "stream",
          "text": [
            "INFO:tensorflow:*** Num TPU Cores Per Worker: 8\n"
          ],
          "name": "stdout"
        },
        {
          "output_type": "stream",
          "text": [
            "INFO:tensorflow:*** Num TPU Cores Per Worker: 8\n"
          ],
          "name": "stderr"
        },
        {
          "output_type": "stream",
          "text": [
            "INFO:tensorflow:*** Available Device: _DeviceAttributes(/job:localhost/replica:0/task:0/device:CPU:0, CPU, 0, 0)\n"
          ],
          "name": "stdout"
        },
        {
          "output_type": "stream",
          "text": [
            "INFO:tensorflow:*** Available Device: _DeviceAttributes(/job:localhost/replica:0/task:0/device:CPU:0, CPU, 0, 0)\n"
          ],
          "name": "stderr"
        },
        {
          "output_type": "stream",
          "text": [
            "INFO:tensorflow:*** Available Device: _DeviceAttributes(/job:localhost/replica:0/task:0/device:XLA_CPU:0, XLA_CPU, 0, 0)\n"
          ],
          "name": "stdout"
        },
        {
          "output_type": "stream",
          "text": [
            "INFO:tensorflow:*** Available Device: _DeviceAttributes(/job:localhost/replica:0/task:0/device:XLA_CPU:0, XLA_CPU, 0, 0)\n"
          ],
          "name": "stderr"
        },
        {
          "output_type": "stream",
          "text": [
            "INFO:tensorflow:*** Available Device: _DeviceAttributes(/job:worker/replica:0/task:0/device:CPU:0, CPU, 0, 0)\n"
          ],
          "name": "stdout"
        },
        {
          "output_type": "stream",
          "text": [
            "INFO:tensorflow:*** Available Device: _DeviceAttributes(/job:worker/replica:0/task:0/device:CPU:0, CPU, 0, 0)\n"
          ],
          "name": "stderr"
        },
        {
          "output_type": "stream",
          "text": [
            "INFO:tensorflow:*** Available Device: _DeviceAttributes(/job:worker/replica:0/task:0/device:TPU:0, TPU, 0, 0)\n"
          ],
          "name": "stdout"
        },
        {
          "output_type": "stream",
          "text": [
            "INFO:tensorflow:*** Available Device: _DeviceAttributes(/job:worker/replica:0/task:0/device:TPU:0, TPU, 0, 0)\n"
          ],
          "name": "stderr"
        },
        {
          "output_type": "stream",
          "text": [
            "INFO:tensorflow:*** Available Device: _DeviceAttributes(/job:worker/replica:0/task:0/device:TPU:1, TPU, 0, 0)\n"
          ],
          "name": "stdout"
        },
        {
          "output_type": "stream",
          "text": [
            "INFO:tensorflow:*** Available Device: _DeviceAttributes(/job:worker/replica:0/task:0/device:TPU:1, TPU, 0, 0)\n"
          ],
          "name": "stderr"
        },
        {
          "output_type": "stream",
          "text": [
            "INFO:tensorflow:*** Available Device: _DeviceAttributes(/job:worker/replica:0/task:0/device:TPU:2, TPU, 0, 0)\n"
          ],
          "name": "stdout"
        },
        {
          "output_type": "stream",
          "text": [
            "INFO:tensorflow:*** Available Device: _DeviceAttributes(/job:worker/replica:0/task:0/device:TPU:2, TPU, 0, 0)\n"
          ],
          "name": "stderr"
        },
        {
          "output_type": "stream",
          "text": [
            "INFO:tensorflow:*** Available Device: _DeviceAttributes(/job:worker/replica:0/task:0/device:TPU:3, TPU, 0, 0)\n"
          ],
          "name": "stdout"
        },
        {
          "output_type": "stream",
          "text": [
            "INFO:tensorflow:*** Available Device: _DeviceAttributes(/job:worker/replica:0/task:0/device:TPU:3, TPU, 0, 0)\n"
          ],
          "name": "stderr"
        },
        {
          "output_type": "stream",
          "text": [
            "INFO:tensorflow:*** Available Device: _DeviceAttributes(/job:worker/replica:0/task:0/device:TPU:4, TPU, 0, 0)\n"
          ],
          "name": "stdout"
        },
        {
          "output_type": "stream",
          "text": [
            "INFO:tensorflow:*** Available Device: _DeviceAttributes(/job:worker/replica:0/task:0/device:TPU:4, TPU, 0, 0)\n"
          ],
          "name": "stderr"
        },
        {
          "output_type": "stream",
          "text": [
            "INFO:tensorflow:*** Available Device: _DeviceAttributes(/job:worker/replica:0/task:0/device:TPU:5, TPU, 0, 0)\n"
          ],
          "name": "stdout"
        },
        {
          "output_type": "stream",
          "text": [
            "INFO:tensorflow:*** Available Device: _DeviceAttributes(/job:worker/replica:0/task:0/device:TPU:5, TPU, 0, 0)\n"
          ],
          "name": "stderr"
        },
        {
          "output_type": "stream",
          "text": [
            "INFO:tensorflow:*** Available Device: _DeviceAttributes(/job:worker/replica:0/task:0/device:TPU:6, TPU, 0, 0)\n"
          ],
          "name": "stdout"
        },
        {
          "output_type": "stream",
          "text": [
            "INFO:tensorflow:*** Available Device: _DeviceAttributes(/job:worker/replica:0/task:0/device:TPU:6, TPU, 0, 0)\n"
          ],
          "name": "stderr"
        },
        {
          "output_type": "stream",
          "text": [
            "INFO:tensorflow:*** Available Device: _DeviceAttributes(/job:worker/replica:0/task:0/device:TPU:7, TPU, 0, 0)\n"
          ],
          "name": "stdout"
        },
        {
          "output_type": "stream",
          "text": [
            "INFO:tensorflow:*** Available Device: _DeviceAttributes(/job:worker/replica:0/task:0/device:TPU:7, TPU, 0, 0)\n"
          ],
          "name": "stderr"
        },
        {
          "output_type": "stream",
          "text": [
            "INFO:tensorflow:*** Available Device: _DeviceAttributes(/job:worker/replica:0/task:0/device:TPU_SYSTEM:0, TPU_SYSTEM, 0, 0)\n"
          ],
          "name": "stdout"
        },
        {
          "output_type": "stream",
          "text": [
            "INFO:tensorflow:*** Available Device: _DeviceAttributes(/job:worker/replica:0/task:0/device:TPU_SYSTEM:0, TPU_SYSTEM, 0, 0)\n"
          ],
          "name": "stderr"
        },
        {
          "output_type": "stream",
          "text": [
            "INFO:tensorflow:*** Available Device: _DeviceAttributes(/job:worker/replica:0/task:0/device:XLA_CPU:0, XLA_CPU, 0, 0)\n"
          ],
          "name": "stdout"
        },
        {
          "output_type": "stream",
          "text": [
            "INFO:tensorflow:*** Available Device: _DeviceAttributes(/job:worker/replica:0/task:0/device:XLA_CPU:0, XLA_CPU, 0, 0)\n"
          ],
          "name": "stderr"
        },
        {
          "output_type": "stream",
          "text": [
            "Number of replicas: 8\n"
          ],
          "name": "stdout"
        }
      ]
    },
    {
      "cell_type": "code",
      "metadata": {
        "id": "5Q7UiXVt14wh"
      },
      "source": [
        "! pip install -q kaggle\r\n",
        "from google.colab import files"
      ],
      "execution_count": 3,
      "outputs": []
    },
    {
      "cell_type": "code",
      "metadata": {
        "colab": {
          "resources": {
            "http://localhost:8080/nbextensions/google.colab/files.js": {
              "data": "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",
              "ok": true,
              "headers": [
                [
                  "content-type",
                  "application/javascript"
                ]
              ],
              "status": 200,
              "status_text": ""
            }
          },
          "base_uri": "https://localhost:8080/",
          "height": 91
        },
        "id": "7SVXq8WG14zG",
        "outputId": "54fc41fa-a926-4ef1-de45-39c0a1ded928"
      },
      "source": [
        "# 1.) check your kaggle account \r\n",
        "# 2.) go to edit profile\r\n",
        "# 3.) create a new api token\r\n",
        "# 4.) upload your kaggle.json file here\r\n",
        "# 5.) for any retesting, keep your json file, and do not regenerate your api token unless absolutely needed\r\n",
        "files.upload()"
      ],
      "execution_count": 4,
      "outputs": [
        {
          "output_type": "display_data",
          "data": {
            "text/html": [
              "\n",
              "     <input type=\"file\" id=\"files-854a5657-d806-4b1e-8616-d173b52cabdd\" name=\"files[]\" multiple disabled\n",
              "        style=\"border:none\" />\n",
              "     <output id=\"result-854a5657-d806-4b1e-8616-d173b52cabdd\">\n",
              "      Upload widget is only available when the cell has been executed in the\n",
              "      current browser session. Please rerun this cell to enable.\n",
              "      </output>\n",
              "      <script src=\"/nbextensions/google.colab/files.js\"></script> "
            ],
            "text/plain": [
              "<IPython.core.display.HTML object>"
            ]
          },
          "metadata": {
            "tags": []
          }
        },
        {
          "output_type": "stream",
          "text": [
            "Saving kaggle.json to kaggle.json\n"
          ],
          "name": "stdout"
        },
        {
          "output_type": "execute_result",
          "data": {
            "text/plain": [
              "{'kaggle.json': b'{\"username\":\"kumachii\",\"key\":\"f54f1492a39626e5e7bc3b112a34c56b\"}'}"
            ]
          },
          "metadata": {
            "tags": []
          },
          "execution_count": 4
        }
      ]
    },
    {
      "cell_type": "code",
      "metadata": {
        "colab": {
          "base_uri": "https://localhost:8080/"
        },
        "id": "lJgmj48e141O",
        "outputId": "005e768e-93c3-4f39-93c7-170bdbfb4e77"
      },
      "source": [
        "!mkdir -p ~/.kaggle\r\n",
        "!cp kaggle.json ~/.kaggle/\r\n",
        "!chmod 600 ~/.kaggle/kaggle.json\r\n",
        "!kaggle datasets download -d paultimothymooney/chest-xray-pneumonia"
      ],
      "execution_count": 5,
      "outputs": [
        {
          "output_type": "stream",
          "text": [
            "Downloading chest-xray-pneumonia.zip to /content\n",
            "100% 2.29G/2.29G [00:23<00:00, 149MB/s]\n",
            "100% 2.29G/2.29G [00:23<00:00, 105MB/s]\n"
          ],
          "name": "stdout"
        }
      ]
    },
    {
      "cell_type": "code",
      "metadata": {
        "id": "w_yk8kGX2ZRU"
      },
      "source": [
        "import zipfile\r\n",
        "zip_ref = zipfile.ZipFile(\"chest-xray-pneumonia.zip\", \"r\")\r\n",
        "zip_ref.extractall(\"files\")\r\n",
        "zip_ref.close()"
      ],
      "execution_count": 6,
      "outputs": []
    },
    {
      "cell_type": "markdown",
      "metadata": {
        "id": "m8BTiCskida8"
      },
      "source": [
        "# Summary of our data set"
      ]
    },
    {
      "cell_type": "markdown",
      "metadata": {
        "id": "QPL0rRie2jA_"
      },
      "source": [
        "This notebook will demonstrate the diagnosis of pneumonia, and different types of pneumonia using various kinds of Convolutional Neural Networks. We will be using our own simple CNN to start off each section. Afterwards, we will be using VGG16, and Xception, and freezing various layers in order to test their classifying efficacy. \r\n",
        "\r\n",
        "The dataset we are working with is of various X-ray images of Chinese pediatric patients' lungs, sourced from Kaggle. There is a significant imbalance in our training data set, so we will be using various balancing techniques."
      ]
    },
    {
      "cell_type": "markdown",
      "metadata": {
        "id": "_Rd4X2ZAhj5n"
      },
      "source": [
        "# Binary Classification"
      ]
    },
    {
      "cell_type": "markdown",
      "metadata": {
        "id": "ji2kDcjshj70"
      },
      "source": [
        "## Loading our data"
      ]
    },
    {
      "cell_type": "code",
      "metadata": {
        "id": "KVQcdoac3JOA"
      },
      "source": [
        "def load_data(path):\r\n",
        "\r\n",
        "  imgs = []\r\n",
        "  labels = np.array([])\r\n",
        "  filenames = np.array([])\r\n",
        "\r\n",
        "  for dir in [\"NORMAL\", \"PNEUMONIA\"]:\r\n",
        "    temp_path = path + \"/\" + dir\r\n",
        "    counter = 0\r\n",
        "    for f in os.listdir(temp_path):\r\n",
        "      # To reduce training costs, the images are resized to 200x200.\r\n",
        "      img = image.load_img(temp_path + \"/\" + f, target_size=(300,300))\r\n",
        "      x = image.img_to_array(img)\r\n",
        "      imgs.append(x)\r\n",
        "      labels = np.append(labels, [int(dir == 'PNEUMONIA')])\r\n",
        "\r\n",
        "      filenames = np.append(filenames, temp_path + \"/\" + f)\r\n",
        "\r\n",
        "      # to check progress:\r\n",
        "      \r\n",
        "      if (counter % 500 == 0):\r\n",
        "        print(\"Files loaded for \" + path + \": \" + str(counter))\r\n",
        "      counter += 1\r\n",
        "   \r\n",
        "\r\n",
        "  imgs = np.asarray(imgs)\r\n",
        "  # normalize our data from values 0-1\r\n",
        "  imgs /= 255\r\n",
        "  print(imgs.shape) # left there for debug\r\n",
        "  return imgs, labels, filenames"
      ],
      "execution_count": 7,
      "outputs": []
    },
    {
      "cell_type": "code",
      "metadata": {
        "colab": {
          "base_uri": "https://localhost:8080/"
        },
        "id": "SHUkLgO53Jpb",
        "outputId": "094b7f3d-4052-43e3-8325-35abec6bdd5f"
      },
      "source": [
        "X_train, y_train, train_files = load_data(\"/content/files/chest_xray/train\")\r\n",
        "X_test, y_test, test_files = load_data(\"/content/files/chest_xray/test\")"
      ],
      "execution_count": 8,
      "outputs": [
        {
          "output_type": "stream",
          "text": [
            "Files loaded for /content/files/chest_xray/train: 0\n",
            "Files loaded for /content/files/chest_xray/train: 500\n",
            "Files loaded for /content/files/chest_xray/train: 1000\n",
            "Files loaded for /content/files/chest_xray/train: 0\n",
            "Files loaded for /content/files/chest_xray/train: 500\n",
            "Files loaded for /content/files/chest_xray/train: 1000\n",
            "Files loaded for /content/files/chest_xray/train: 1500\n",
            "Files loaded for /content/files/chest_xray/train: 2000\n",
            "Files loaded for /content/files/chest_xray/train: 2500\n",
            "Files loaded for /content/files/chest_xray/train: 3000\n",
            "Files loaded for /content/files/chest_xray/train: 3500\n",
            "(5216, 300, 300, 3)\n",
            "Files loaded for /content/files/chest_xray/test: 0\n",
            "Files loaded for /content/files/chest_xray/test: 0\n",
            "(624, 300, 300, 3)\n"
          ],
          "name": "stdout"
        }
      ]
    },
    {
      "cell_type": "code",
      "metadata": {
        "colab": {
          "base_uri": "https://localhost:8080/"
        },
        "id": "wVlsaPMRZJHb",
        "outputId": "6e6e0a27-9ab4-4302-8149-12f926700636"
      },
      "source": [
        "print(train_files[[1, 2, 3, 4, 5]])"
      ],
      "execution_count": 9,
      "outputs": [
        {
          "output_type": "stream",
          "text": [
            "['/content/files/chest_xray/train/NORMAL/NORMAL2-IM-0995-0001-0001.jpeg'\n",
            " '/content/files/chest_xray/train/NORMAL/IM-0615-0001.jpeg'\n",
            " '/content/files/chest_xray/train/NORMAL/NORMAL2-IM-0414-0001.jpeg'\n",
            " '/content/files/chest_xray/train/NORMAL/IM-0542-0001.jpeg'\n",
            " '/content/files/chest_xray/train/NORMAL/IM-0661-0001.jpeg']\n"
          ],
          "name": "stdout"
        }
      ]
    },
    {
      "cell_type": "markdown",
      "metadata": {
        "id": "Ic7lD3MMhpLO"
      },
      "source": [
        "##Simple CNN"
      ]
    },
    {
      "cell_type": "code",
      "metadata": {
        "colab": {
          "base_uri": "https://localhost:8080/"
        },
        "id": "dwyFCMVpX1z3",
        "outputId": "5cde578d-08d6-4556-811b-0b64e42ca351"
      },
      "source": [
        "K.clear_session()\r\n",
        "\r\n",
        "model = models.Sequential()\r\n",
        "\r\n",
        "model.add(layers.Conv2D(32, (3, 3), activation='relu', input_shape=(300, 300, 3)))\r\n",
        "model.add(layers.Activation('relu'))\r\n",
        "model.add(layers.MaxPooling2D((2, 2)))\r\n",
        "\r\n",
        "model.add(layers.Conv2D(32, (3, 3), activation='relu'))\r\n",
        "model.add(layers.Activation('relu'))\r\n",
        "model.add(layers.MaxPooling2D((2, 2)))\r\n",
        "\r\n",
        "\r\n",
        "model.add(layers.Conv2D(64, (3, 3), activation='relu'))\r\n",
        "model.add(layers.Activation('relu'))\r\n",
        "model.add(layers.MaxPooling2D((2, 2)))\r\n",
        "\r\n",
        "model.add(layers.Conv2D(64, (3, 3), activation='relu'))\r\n",
        "model.add(layers.Activation('relu'))\r\n",
        "model.add(layers.MaxPooling2D((2, 2)))\r\n",
        "\r\n",
        "\r\n",
        "model.add(layers.Flatten())\r\n",
        "model.add(layers.Dense(64))\r\n",
        "model.add(layers.Activation('relu'))\r\n",
        "model.add(layers.Dropout(0.5))\r\n",
        "model.add(layers.Dense(1,activation='sigmoid'))\r\n",
        "\r\n",
        "model.compile(optimizer='rmsprop',\r\n",
        "              loss='binary_crossentropy',\r\n",
        "              metrics=['accuracy'])\r\n",
        "\r\n",
        "model.summary()"
      ],
      "execution_count": 75,
      "outputs": [
        {
          "output_type": "stream",
          "text": [
            "Model: \"sequential\"\n",
            "_________________________________________________________________\n",
            "Layer (type)                 Output Shape              Param #   \n",
            "=================================================================\n",
            "conv2d (Conv2D)              (None, 298, 298, 32)      896       \n",
            "_________________________________________________________________\n",
            "activation (Activation)      (None, 298, 298, 32)      0         \n",
            "_________________________________________________________________\n",
            "max_pooling2d (MaxPooling2D) (None, 149, 149, 32)      0         \n",
            "_________________________________________________________________\n",
            "conv2d_1 (Conv2D)            (None, 147, 147, 32)      9248      \n",
            "_________________________________________________________________\n",
            "activation_1 (Activation)    (None, 147, 147, 32)      0         \n",
            "_________________________________________________________________\n",
            "max_pooling2d_1 (MaxPooling2 (None, 73, 73, 32)        0         \n",
            "_________________________________________________________________\n",
            "conv2d_2 (Conv2D)            (None, 71, 71, 64)        18496     \n",
            "_________________________________________________________________\n",
            "activation_2 (Activation)    (None, 71, 71, 64)        0         \n",
            "_________________________________________________________________\n",
            "max_pooling2d_2 (MaxPooling2 (None, 35, 35, 64)        0         \n",
            "_________________________________________________________________\n",
            "conv2d_3 (Conv2D)            (None, 33, 33, 64)        36928     \n",
            "_________________________________________________________________\n",
            "activation_3 (Activation)    (None, 33, 33, 64)        0         \n",
            "_________________________________________________________________\n",
            "max_pooling2d_3 (MaxPooling2 (None, 16, 16, 64)        0         \n",
            "_________________________________________________________________\n",
            "flatten (Flatten)            (None, 16384)             0         \n",
            "_________________________________________________________________\n",
            "dense (Dense)                (None, 64)                1048640   \n",
            "_________________________________________________________________\n",
            "activation_4 (Activation)    (None, 64)                0         \n",
            "_________________________________________________________________\n",
            "dropout (Dropout)            (None, 64)                0         \n",
            "_________________________________________________________________\n",
            "dense_1 (Dense)              (None, 1)                 65        \n",
            "=================================================================\n",
            "Total params: 1,114,273\n",
            "Trainable params: 1,114,273\n",
            "Non-trainable params: 0\n",
            "_________________________________________________________________\n"
          ],
          "name": "stdout"
        }
      ]
    },
    {
      "cell_type": "markdown",
      "metadata": {
        "id": "V0VJwv1IiWBH"
      },
      "source": [
        "### training"
      ]
    },
    {
      "cell_type": "code",
      "metadata": {
        "colab": {
          "base_uri": "https://localhost:8080/"
        },
        "id": "V-_V6L7DYOfD",
        "outputId": "88980fdd-b6e8-42a1-8d5c-a0f42b0f0160"
      },
      "source": [
        "from sklearn.utils import class_weight\r\n",
        "class_weight = class_weight.compute_class_weight('balanced',np.unique(y_train),y_train)\r\n",
        "class_weights = {0:class_weight[0], 1:class_weight[1]}\r\n",
        "\r\n",
        "batch_size = 32\r\n",
        "\r\n",
        "traingen = ImageDataGenerator(\r\n",
        "    rotation_range =45,\r\n",
        "    shear_range=0.2,\r\n",
        "    zoom_range=0.5,\r\n",
        "    horizontal_flip = True\r\n",
        ")\r\n",
        "\r\n",
        "testgen = ImageDataGenerator()\r\n",
        "\r\n",
        "gen_data = traingen.flow(X_train, y_train, batch_size=32)\r\n",
        "gen_test = testgen.flow(X_test, y_test, batch_size=32)\r\n",
        "\r\n",
        "callback = tf.keras.callbacks.EarlyStopping(\r\n",
        "    monitor=\"val_accuracy\",\r\n",
        "    min_delta=0.05,\r\n",
        "    patience=3,\r\n",
        "    mode=\"max\",\r\n",
        "    restore_best_weights=True,\r\n",
        ")\r\n",
        "\r\n",
        "history = model.fit(gen_data,steps_per_epoch=len(gen_data),epochs=20,callbacks=callback,validation_data=gen_test,validation_steps=len(gen_test),class_weight=class_weights)"
      ],
      "execution_count": 76,
      "outputs": [
        {
          "output_type": "stream",
          "text": [
            "Epoch 1/20\n",
            "163/163 [==============================] - 95s 582ms/step - loss: 0.6543 - accuracy: 0.6254 - val_loss: 0.6155 - val_accuracy: 0.7484\n",
            "Epoch 2/20\n",
            "163/163 [==============================] - 93s 573ms/step - loss: 0.4682 - accuracy: 0.7766 - val_loss: 0.5450 - val_accuracy: 0.7676\n",
            "Epoch 3/20\n",
            "163/163 [==============================] - 93s 571ms/step - loss: 0.4279 - accuracy: 0.8140 - val_loss: 0.4091 - val_accuracy: 0.8221\n",
            "Epoch 4/20\n",
            "163/163 [==============================] - 93s 572ms/step - loss: 0.3826 - accuracy: 0.8441 - val_loss: 0.4020 - val_accuracy: 0.8446\n",
            "Epoch 5/20\n",
            "163/163 [==============================] - 91s 556ms/step - loss: 0.3640 - accuracy: 0.8602 - val_loss: 0.3208 - val_accuracy: 0.8638\n",
            "Epoch 6/20\n",
            "163/163 [==============================] - 90s 553ms/step - loss: 0.3602 - accuracy: 0.8637 - val_loss: 0.3650 - val_accuracy: 0.8317\n"
          ],
          "name": "stdout"
        }
      ]
    },
    {
      "cell_type": "markdown",
      "metadata": {
        "id": "U0Z6tIUXh7T5"
      },
      "source": [
        "### heatmaps"
      ]
    },
    {
      "cell_type": "code",
      "metadata": {
        "id": "IME9t5km0RKq"
      },
      "source": [
        "def get_img_array(img_path, size):\r\n",
        "    img = load_img(img_path, target_size=size)\r\n",
        "    array = image.img_to_array(img)\r\n",
        "    array /= 255\r\n",
        "    array = np.expand_dims(array, axis=0)\r\n",
        "    return array\r\n",
        "\r\n",
        "def make_gradcam_heatmap(\r\n",
        "    img_array, model, last_conv_layer_name, classifier_layer_names\r\n",
        "):\r\n",
        "    last_conv_layer = model.get_layer(last_conv_layer_name)\r\n",
        "    last_conv_layer_model = Model(model.inputs, last_conv_layer.output)\r\n",
        "\r\n",
        "    classifier_input = Input(shape=last_conv_layer.output.shape[1:])\r\n",
        "    x = classifier_input\r\n",
        "    for layer_name in classifier_layer_names:\r\n",
        "        x = model.get_layer(layer_name)(x)\r\n",
        "    classifier_model = Model(classifier_input, x)\r\n",
        "\r\n",
        "    with tf.GradientTape() as tape:\r\n",
        "        last_conv_layer_output = last_conv_layer_model(img_array)\r\n",
        "        tape.watch(last_conv_layer_output)\r\n",
        "        preds = classifier_model(last_conv_layer_output)\r\n",
        "        top_pred_index = tf.argmax(preds[0])\r\n",
        "        top_class_channel = preds[:, top_pred_index]\r\n",
        "\r\n",
        "    grads = tape.gradient(top_class_channel, last_conv_layer_output)\r\n",
        "\r\n",
        "    pooled_grads = tf.reduce_mean(grads, axis=(0, 1, 2))\r\n",
        "\r\n",
        "    last_conv_layer_output = last_conv_layer_output.numpy()[0]\r\n",
        "    pooled_grads = pooled_grads.numpy()\r\n",
        "    for i in range(pooled_grads.shape[-1]):\r\n",
        "        last_conv_layer_output[:, :, i] *= pooled_grads[i]\r\n",
        "\r\n",
        "    heatmap = np.mean(last_conv_layer_output, axis=-1)\r\n",
        "\r\n",
        "    heatmap = np.maximum(heatmap, 0) / np.max(heatmap)\r\n",
        "    return heatmap\r\n",
        "\r\n",
        "def superimposition(img_path, heatmap):\r\n",
        "  # We load the original image\r\n",
        "  img = image.load_img(img_path)\r\n",
        "  img = image.img_to_array(img)\r\n",
        "\r\n",
        "  # We rescale heatmap to a range 0-255\r\n",
        "  heatmap = np.uint8(255 * heatmap)\r\n",
        "\r\n",
        "  # We use jet colormap to colorize heatmap\r\n",
        "  jet = cm.get_cmap(\"jet\")\r\n",
        "\r\n",
        "  # We use RGB values of the colormap\r\n",
        "  jet_colors = jet(np.arange(256))[:, :3]\r\n",
        "  jet_heatmap = jet_colors[heatmap]\r\n",
        "\r\n",
        "  # We create an image with RGB colorized heatmap\r\n",
        "  jet_heatmap = image.array_to_img(jet_heatmap)\r\n",
        "  jet_heatmap = jet_heatmap.resize((img.shape[1], img.shape[0]))\r\n",
        "  jet_heatmap = image.img_to_array(jet_heatmap)\r\n",
        "\r\n",
        "  # Superimpose the heatmap on original image\r\n",
        "  superimposed_img = jet_heatmap * 0.4 + img\r\n",
        "  superimposed_img = image.array_to_img(superimposed_img)\r\n",
        "\r\n",
        "  # Save the superimposed image\r\n",
        "  save_path = \"elephant_cam.jpg\"\r\n",
        "  superimposed_img.save(save_path)\r\n",
        "\r\n",
        "  # Display Grad CAM\r\n",
        "  display(Image(save_path))"
      ],
      "execution_count": 77,
      "outputs": []
    },
    {
      "cell_type": "code",
      "metadata": {
        "id": "zf8OJsMo0RNH"
      },
      "source": [
        "np.random.seed(42)\r\n",
        "\r\n",
        "normal_indices = np.array([i == 0 for i in y_test])\r\n",
        "pneumonia_indices = np.array([i == 1 for i in y_test])\r\n",
        "\r\n",
        "test_normal_files = test_files[normal_indices]\r\n",
        "test_pneumonia_files = test_files[pneumonia_indices]\r\n",
        "\r\n",
        "test_normal_sample_indices = np.random.choice(test_normal_files.shape[0], 25)\r\n",
        "test_normal_sample_files = test_normal_files[test_normal_sample_indices]\r\n",
        "\r\n",
        "test_pneumonia_sample_indices = np.random.choice(test_pneumonia_files.shape[0], 25)\r\n",
        "test_pneumonia_sample_files = test_pneumonia_files[test_pneumonia_sample_indices]"
      ],
      "execution_count": 78,
      "outputs": []
    },
    {
      "cell_type": "code",
      "metadata": {
        "colab": {
          "base_uri": "https://localhost:8080/"
        },
        "id": "m_e8sb9s0RUI",
        "outputId": "67a13ee8-6676-4785-a3a2-4a18e3bb37bc"
      },
      "source": [
        "pneumonia_preds_array = np.array([])\r\n",
        "for i in test_pneumonia_sample_files:\r\n",
        "  img_path = i\r\n",
        "\r\n",
        "  # preds = model.predict(np.expand_dims(X_test[340], axis=0))\r\n",
        "\r\n",
        "  img = image.load_img(img_path, target_size=(300,300))\r\n",
        "  x = image.img_to_array(img)\r\n",
        "  x /= 255\r\n",
        "  x = np.expand_dims(x, axis=0)\r\n",
        "  img = x\r\n",
        "  # print(img)\r\n",
        "\r\n",
        "  preds = model.predict(img)[0][0]\r\n",
        "  pneumonia_preds_array = np.append(pneumonia_preds_array, preds)\r\n",
        "  print(\"Predicted:\", (preds))"
      ],
      "execution_count": 93,
      "outputs": [
        {
          "output_type": "stream",
          "text": [
            "Predicted: 0.9080636\n",
            "Predicted: 0.9125284\n",
            "Predicted: 0.8815423\n",
            "Predicted: 0.6631255\n",
            "Predicted: 0.83379716\n",
            "Predicted: 0.9554403\n",
            "Predicted: 0.7707134\n",
            "Predicted: 0.24069577\n",
            "Predicted: 0.77696204\n",
            "Predicted: 0.92832005\n",
            "Predicted: 0.7839157\n",
            "Predicted: 0.35320067\n",
            "Predicted: 0.8271661\n",
            "Predicted: 0.34924796\n",
            "Predicted: 0.41213334\n",
            "Predicted: 0.55970836\n",
            "Predicted: 0.5953404\n",
            "Predicted: 0.37242612\n",
            "Predicted: 0.8285107\n",
            "Predicted: 0.3835902\n",
            "Predicted: 0.6599366\n",
            "Predicted: 0.9197812\n",
            "Predicted: 0.8159382\n",
            "Predicted: 0.79594654\n",
            "Predicted: 0.73624116\n"
          ],
          "name": "stdout"
        }
      ]
    },
    {
      "cell_type": "code",
      "metadata": {
        "colab": {
          "base_uri": "https://localhost:8080/"
        },
        "id": "Htg3BBW30RWf",
        "outputId": "fa84e739-eb6d-42a4-ba1f-8f013c7289e5"
      },
      "source": [
        "normal_preds_array = np.array([])\r\n",
        "for i in test_normal_sample_files:\r\n",
        "  img_path = i\r\n",
        "\r\n",
        "  # preds = model.predict(np.expand_dims(X_test[340], axis=0))\r\n",
        "\r\n",
        "  img = image.load_img(img_path, target_size=(300,300))\r\n",
        "  x = image.img_to_array(img)\r\n",
        "  x /= 255\r\n",
        "  x = np.expand_dims(x, axis=0)\r\n",
        "  img = x\r\n",
        "  # print(img)\r\n",
        "\r\n",
        "  preds = model.predict(img)[0][0]\r\n",
        "  normal_preds_array = np.append(normal_preds_array, preds)\r\n",
        "  print(\"Predicted:\", (preds))"
      ],
      "execution_count": 94,
      "outputs": [
        {
          "output_type": "stream",
          "text": [
            "Predicted: 0.12609315\n",
            "Predicted: 0.15261404\n",
            "Predicted: 0.17268036\n",
            "Predicted: 0.11934501\n",
            "Predicted: 0.102283806\n",
            "Predicted: 0.2773893\n",
            "Predicted: 0.12757803\n",
            "Predicted: 0.14420891\n",
            "Predicted: 0.12609315\n",
            "Predicted: 0.23530747\n",
            "Predicted: 0.20680667\n",
            "Predicted: 0.14192972\n",
            "Predicted: 0.30138096\n",
            "Predicted: 0.085752465\n",
            "Predicted: 0.18148807\n",
            "Predicted: 0.121165805\n",
            "Predicted: 0.31775063\n",
            "Predicted: 0.114700824\n",
            "Predicted: 0.14055203\n",
            "Predicted: 0.16497196\n",
            "Predicted: 0.092358775\n",
            "Predicted: 0.07452093\n",
            "Predicted: 0.14370167\n",
            "Predicted: 0.18148807\n",
            "Predicted: 0.8623399\n"
          ],
          "name": "stdout"
        }
      ]
    },
    {
      "cell_type": "code",
      "metadata": {
        "id": "0kVIqZoe0RY-"
      },
      "source": [
        "def get_img_array(img_path, size):\r\n",
        "    img = load_img(img_path, target_size=size)\r\n",
        "    array = image.img_to_array(img)\r\n",
        "    array /= 255\r\n",
        "    array = np.expand_dims(array, axis=0)\r\n",
        "    return array\r\n",
        "\r\n",
        "def make_gradcam_heatmap(\r\n",
        "    img_array, model, last_conv_layer_name, classifier_layer_names\r\n",
        "):\r\n",
        "    last_conv_layer = model.get_layer(last_conv_layer_name)\r\n",
        "    last_conv_layer_model = Model(model.inputs, last_conv_layer.output)\r\n",
        "\r\n",
        "    classifier_input = Input(shape=last_conv_layer.output.shape[1:])\r\n",
        "    x = classifier_input\r\n",
        "    for layer_name in classifier_layer_names:\r\n",
        "        x = model.get_layer(layer_name)(x)\r\n",
        "    classifier_model = Model(classifier_input, x)\r\n",
        "\r\n",
        "    with tf.GradientTape() as tape:\r\n",
        "        last_conv_layer_output = last_conv_layer_model(img_array)\r\n",
        "        tape.watch(last_conv_layer_output)\r\n",
        "        preds = classifier_model(last_conv_layer_output)\r\n",
        "        top_pred_index = tf.argmax(preds[0])\r\n",
        "        top_class_channel = preds[:, top_pred_index]\r\n",
        "\r\n",
        "    grads = tape.gradient(top_class_channel, last_conv_layer_output)\r\n",
        "\r\n",
        "    pooled_grads = tf.reduce_mean(grads, axis=(0, 1, 2))\r\n",
        "\r\n",
        "    last_conv_layer_output = last_conv_layer_output.numpy()[0]\r\n",
        "    pooled_grads = pooled_grads.numpy()\r\n",
        "    for i in range(pooled_grads.shape[-1]):\r\n",
        "        last_conv_layer_output[:, :, i] *= pooled_grads[i]\r\n",
        "\r\n",
        "    heatmap = np.mean(last_conv_layer_output, axis=-1)\r\n",
        "\r\n",
        "    heatmap = np.maximum(heatmap, 0) / np.max(heatmap)\r\n",
        "    return heatmap\r\n",
        "\r\n",
        "def superimposition(img_path, heatmap):\r\n",
        "  # We load the original image\r\n",
        "  img = image.load_img(img_path)\r\n",
        "  img = image.img_to_array(img)\r\n",
        "\r\n",
        "  # We rescale heatmap to a range 0-255\r\n",
        "  heatmap = np.uint8(255 * heatmap)\r\n",
        "\r\n",
        "  # We use jet colormap to colorize heatmap\r\n",
        "  jet = cm.get_cmap(\"jet\")\r\n",
        "\r\n",
        "  # We use RGB values of the colormap\r\n",
        "  jet_colors = jet(np.arange(256))[:, :3]\r\n",
        "  jet_heatmap = jet_colors[heatmap]\r\n",
        "\r\n",
        "  # We create an image with RGB colorized heatmap\r\n",
        "  jet_heatmap = image.array_to_img(jet_heatmap)\r\n",
        "  jet_heatmap = jet_heatmap.resize((img.shape[1], img.shape[0]))\r\n",
        "  jet_heatmap = image.img_to_array(jet_heatmap)\r\n",
        "\r\n",
        "  # Superimpose the heatmap on original image\r\n",
        "  superimposed_img = jet_heatmap * 0.4 + img\r\n",
        "  superimposed_img = image.array_to_img(superimposed_img)\r\n",
        "\r\n",
        "  # Save the superimposed image\r\n",
        "  save_path = \"xray.jpg\"\r\n",
        "  superimposed_img.save(save_path)\r\n",
        "\r\n",
        "  # Display Grad CAM\r\n",
        "  display(Image(save_path))"
      ],
      "execution_count": 95,
      "outputs": []
    },
    {
      "cell_type": "code",
      "metadata": {
        "colab": {
          "base_uri": "https://localhost:8080/",
          "height": 1000
        },
        "id": "Hi219AAwRV2K",
        "outputId": "abb7467b-8254-48e1-8d97-730fd57af813"
      },
      "source": [
        "last_conv_layer_name = \"conv2d_3\"\r\n",
        "classifier_layer_names = [\r\n",
        "    \"activation_3\", \"max_pooling2d_3\", \"flatten\", \"dense\", \"activation_4\", \"dropout\", \"dense_1\"\r\n",
        "]\r\n",
        "\r\n",
        "heatmaps = []\r\n",
        "\r\n",
        "for i in test_pneumonia_sample_files:\r\n",
        "  img_path = i\r\n",
        "  img_array = get_img_array(img_path, size=(300,300))\r\n",
        "\r\n",
        "  heatmap = make_gradcam_heatmap(\r\n",
        "    img_array, model, last_conv_layer_name, classifier_layer_names)\r\n",
        "  heatmaps.append(heatmap)\r\n",
        "  \r\n",
        "f, axarr = plt.subplots(5,5,figsize=(17, 17))\r\n",
        "f.suptitle('Pneumonia, with chances of pneumonia predicted by model.')\r\n",
        "# row 1\r\n",
        "axarr[0,0].imshow(heatmaps[0])\r\n",
        "axarr[0,0].set_title(str(pneumonia_preds_array[0]) + \"%\")\r\n",
        "axarr[0,1].imshow(heatmaps[1])\r\n",
        "axarr[0,1].set_title(str(pneumonia_preds_array[1]) + \"%\")\r\n",
        "axarr[0,2].imshow(heatmaps[2])\r\n",
        "axarr[0,2].set_title(str(pneumonia_preds_array[2]) + \"%\")\r\n",
        "axarr[0,3].imshow(heatmaps[3])\r\n",
        "axarr[0,3].set_title(str(pneumonia_preds_array[3]) + \"%\")\r\n",
        "axarr[0,4].imshow(heatmaps[4])\r\n",
        "axarr[0,4].set_title(str(pneumonia_preds_array[4]) + \"%\")\r\n",
        "\r\n",
        "# row 2\r\n",
        "axarr[1,0].imshow(heatmaps[5])\r\n",
        "axarr[1,0].set_title(str(pneumonia_preds_array[5]) + \"%\")\r\n",
        "axarr[1,1].imshow(heatmaps[6])\r\n",
        "axarr[1,1].set_title(str(pneumonia_preds_array[6]) + \"%\")\r\n",
        "axarr[1,2].imshow(heatmaps[7])\r\n",
        "axarr[1,2].set_title(str(pneumonia_preds_array[7]) + \"%\")\r\n",
        "axarr[1,3].imshow(heatmaps[8])\r\n",
        "axarr[1,3].set_title(str(pneumonia_preds_array[8]) + \"%\")\r\n",
        "axarr[1,4].imshow(heatmaps[9])\r\n",
        "axarr[1,4].set_title(str(pneumonia_preds_array[9]) + \"%\")\r\n",
        "\r\n",
        "# row 3\r\n",
        "axarr[2,0].imshow(heatmaps[10])\r\n",
        "axarr[2,0].set_title(str(pneumonia_preds_array[10]) + \"%\")\r\n",
        "axarr[2,1].imshow(heatmaps[11])\r\n",
        "axarr[2,1].set_title(str(pneumonia_preds_array[11]) + \"%\")\r\n",
        "axarr[2,2].imshow(heatmaps[12])\r\n",
        "axarr[2,2].set_title(str(pneumonia_preds_array[12]) + \"%\")\r\n",
        "axarr[2,3].imshow(heatmaps[13])\r\n",
        "axarr[2,3].set_title(str(pneumonia_preds_array[13]) + \"%\")\r\n",
        "axarr[2,4].imshow(heatmaps[14])\r\n",
        "axarr[2,4].set_title(str(pneumonia_preds_array[14]) + \"%\")\r\n",
        "\r\n",
        "# row 4\r\n",
        "axarr[3,0].imshow(heatmaps[15])\r\n",
        "axarr[3,0].set_title(str(pneumonia_preds_array[15]) + \"%\")\r\n",
        "axarr[3,1].imshow(heatmaps[16])\r\n",
        "axarr[3,1].set_title(str(pneumonia_preds_array[16]) + \"%\")\r\n",
        "axarr[3,2].imshow(heatmaps[17])\r\n",
        "axarr[3,2].set_title(str(pneumonia_preds_array[17]) + \"%\")\r\n",
        "axarr[3,3].imshow(heatmaps[18])\r\n",
        "axarr[3,3].set_title(str(pneumonia_preds_array[18]) + \"%\")\r\n",
        "axarr[3,4].imshow(heatmaps[19])\r\n",
        "axarr[3,4].set_title(str(pneumonia_preds_array[19]) + \"%\")\r\n",
        "\r\n",
        "# row 5\r\n",
        "axarr[4,0].imshow(heatmaps[20])\r\n",
        "axarr[4,0].set_title(str(pneumonia_preds_array[20]) + \"%\")\r\n",
        "axarr[4,1].imshow(heatmaps[21])\r\n",
        "axarr[4,1].set_title(str(pneumonia_preds_array[21]) + \"%\")\r\n",
        "axarr[4,2].imshow(heatmaps[22])\r\n",
        "axarr[4,2].set_title(str(pneumonia_preds_array[22]) + \"%\")\r\n",
        "axarr[4,3].imshow(heatmaps[23])\r\n",
        "axarr[4,3].set_title(str(pneumonia_preds_array[23]) + \"%\")\r\n",
        "axarr[4,4].imshow(heatmaps[24])\r\n",
        "axarr[4,4].set_title(str(pneumonia_preds_array[24]) + \"%\");\r\n",
        "\r\n"
      ],
      "execution_count": 96,
      "outputs": [
        {
          "output_type": "display_data",
          "data": {
            "image/png": "[encoded data removed]",
            "text/plain": [
              "<Figure size 1224x1224 with 25 Axes>"
            ]
          },
          "metadata": {
            "tags": [],
            "needs_background": "light"
          }
        }
      ]
    },
    {
      "cell_type": "markdown",
      "metadata": {
        "id": "xp5MVXyd4uuz"
      },
      "source": [
        "We can see that the more certainly our model predicts a pneumonia case, the more it tends to focus on the lungs."
      ]
    },
    {
      "cell_type": "code",
      "metadata": {
        "colab": {
          "base_uri": "https://localhost:8080/",
          "height": 1000
        },
        "id": "DvmnXCugwdSt",
        "outputId": "d0ebefbb-0803-43d8-9d89-bd81cbf5740a"
      },
      "source": [
        "last_conv_layer_name = \"conv2d_3\"\r\n",
        "classifier_layer_names = [\r\n",
        "    \"activation_3\", \"max_pooling2d_3\", \"flatten\", \"dense\", \"activation_4\", \"dropout\", \"dense_1\"\r\n",
        "]\r\n",
        "\r\n",
        "heatmaps = []\r\n",
        "\r\n",
        "for i in test_normal_sample_files:\r\n",
        "  img_path = i\r\n",
        "  img_array = get_img_array(img_path, size=(300,300))\r\n",
        "\r\n",
        "  heatmap = make_gradcam_heatmap(\r\n",
        "    img_array, model, last_conv_layer_name, classifier_layer_names)\r\n",
        "  heatmaps.append(heatmap)\r\n",
        "  \r\n",
        "f, axarr = plt.subplots(5,5,figsize=(17, 17))\r\n",
        "f.suptitle('Normal, with chances of pneumonia predicted by model.')\r\n",
        "# row 1\r\n",
        "axarr[0,0].imshow(heatmaps[0])\r\n",
        "axarr[0,0].set_title(str(normal_preds_array[0]) + \"%\")\r\n",
        "axarr[0,1].imshow(heatmaps[1])\r\n",
        "axarr[0,1].set_title(str(normal_preds_array[1]) + \"%\")\r\n",
        "axarr[0,2].imshow(heatmaps[2])\r\n",
        "axarr[0,2].set_title(str(normal_preds_array[2]) + \"%\")\r\n",
        "axarr[0,3].imshow(heatmaps[3])\r\n",
        "axarr[0,3].set_title(str(normal_preds_array[3]) + \"%\")\r\n",
        "axarr[0,4].imshow(heatmaps[4])\r\n",
        "axarr[0,4].set_title(str(normal_preds_array[4]) + \"%\")\r\n",
        "\r\n",
        "# row 2\r\n",
        "axarr[1,0].imshow(heatmaps[5])\r\n",
        "axarr[1,0].set_title(str(normal_preds_array[5]) + \"%\")\r\n",
        "axarr[1,1].imshow(heatmaps[6])\r\n",
        "axarr[1,1].set_title(str(normal_preds_array[6]) + \"%\")\r\n",
        "axarr[1,2].imshow(heatmaps[7])\r\n",
        "axarr[1,2].set_title(str(normal_preds_array[7]) + \"%\")\r\n",
        "axarr[1,3].imshow(heatmaps[8])\r\n",
        "axarr[1,3].set_title(str(normal_preds_array[8]) + \"%\")\r\n",
        "axarr[1,4].imshow(heatmaps[9])\r\n",
        "axarr[1,4].set_title(str(normal_preds_array[9]) + \"%\")\r\n",
        "\r\n",
        "# row 3\r\n",
        "axarr[2,0].imshow(heatmaps[10])\r\n",
        "axarr[2,0].set_title(str(normal_preds_array[10]) + \"%\")\r\n",
        "axarr[2,1].imshow(heatmaps[11])\r\n",
        "axarr[2,1].set_title(str(normal_preds_array[11]) + \"%\")\r\n",
        "axarr[2,2].imshow(heatmaps[12])\r\n",
        "axarr[2,2].set_title(str(normal_preds_array[12]) + \"%\")\r\n",
        "axarr[2,3].imshow(heatmaps[13])\r\n",
        "axarr[2,3].set_title(str(normal_preds_array[13]) + \"%\")\r\n",
        "axarr[2,4].imshow(heatmaps[14])\r\n",
        "axarr[2,4].set_title(str(normal_preds_array[14]) + \"%\")\r\n",
        "\r\n",
        "# row 4\r\n",
        "axarr[3,0].imshow(heatmaps[15])\r\n",
        "axarr[3,0].set_title(str(normal_preds_array[15]) + \"%\")\r\n",
        "axarr[3,1].imshow(heatmaps[16])\r\n",
        "axarr[3,1].set_title(str(normal_preds_array[16]) + \"%\")\r\n",
        "axarr[3,2].imshow(heatmaps[17])\r\n",
        "axarr[3,2].set_title(str(normal_preds_array[17]) + \"%\")\r\n",
        "axarr[3,3].imshow(heatmaps[18])\r\n",
        "axarr[3,3].set_title(str(normal_preds_array[18]) + \"%\")\r\n",
        "axarr[3,4].imshow(heatmaps[19])\r\n",
        "axarr[3,4].set_title(str(normal_preds_array[19]) + \"%\")\r\n",
        "\r\n",
        "# row 5\r\n",
        "axarr[4,0].imshow(heatmaps[20])\r\n",
        "axarr[4,0].set_title(str(normal_preds_array[20]) + \"%\")\r\n",
        "axarr[4,1].imshow(heatmaps[21])\r\n",
        "axarr[4,1].set_title(str(normal_preds_array[21]) + \"%\")\r\n",
        "axarr[4,2].imshow(heatmaps[22])\r\n",
        "axarr[4,2].set_title(str(normal_preds_array[22]) + \"%\")\r\n",
        "axarr[4,3].imshow(heatmaps[23])\r\n",
        "axarr[4,3].set_title(str(normal_preds_array[23]) + \"%\")\r\n",
        "axarr[4,4].imshow(heatmaps[24])\r\n",
        "axarr[4,4].set_title(str(normal_preds_array[24]) + \"%\");\r\n"
      ],
      "execution_count": 88,
      "outputs": [
        {
          "output_type": "display_data",
          "data": {
            "image/png": "[encoded data removed]",
            "text/plain": [
              "<Figure size 1224x1224 with 25 Axes>"
            ]
          },
          "metadata": {
            "tags": [],
            "needs_background": "light"
          }
        }
      ]
    },
    {
      "cell_type": "markdown",
      "metadata": {
        "id": "E7BdoWWF45Pr"
      },
      "source": [
        "On the other hand, the model, when unsure if some case has pneumonia, does not focus much in one area of the lungs."
      ]
    },
    {
      "cell_type": "markdown",
      "metadata": {
        "id": "1ETTCd0khpM9"
      },
      "source": [
        "## VGG16 Transfer Learning"
      ]
    },
    {
      "cell_type": "markdown",
      "metadata": {
        "id": "vwRDdWCdjdfl"
      },
      "source": [
        "### training"
      ]
    },
    {
      "cell_type": "markdown",
      "metadata": {
        "id": "rti-xydBh9Hb"
      },
      "source": [
        "### heatmaps"
      ]
    },
    {
      "cell_type": "markdown",
      "metadata": {
        "id": "dMl2_7vBhpOa"
      },
      "source": [
        "## XCeption"
      ]
    },
    {
      "cell_type": "markdown",
      "metadata": {
        "id": "y00KB0bKjgH5"
      },
      "source": [
        "### training"
      ]
    },
    {
      "cell_type": "markdown",
      "metadata": {
        "id": "vftfbK_ohpP4"
      },
      "source": [
        "## heatmaps"
      ]
    },
    {
      "cell_type": "markdown",
      "metadata": {
        "id": "nAv4iqZQj4N7"
      },
      "source": [
        ""
      ]
    },
    {
      "cell_type": "markdown",
      "metadata": {
        "id": "SQ65WLMZhpRa"
      },
      "source": [
        ""
      ]
    },
    {
      "cell_type": "markdown",
      "metadata": {
        "id": "OfIGAyzqhj-b"
      },
      "source": [
        "# Three-way Classification"
      ]
    },
    {
      "cell_type": "markdown",
      "metadata": {
        "id": "Vef8iTadhkB-"
      },
      "source": [
        "## Loading our data"
      ]
    },
    {
      "cell_type": "code",
      "metadata": {
        "id": "mTUNjOoa104F"
      },
      "source": [
        "# prepare three-way categorical data for training\r\n",
        "%cd files/chest_xray/train\r\n",
        "!mkdir VIRUS\r\n",
        "!mkdir BACTERIA\r\n",
        "%cd PNEUMONIA\r\n",
        "!bash -c 'mv *bacteria*.jpeg ../BACTERIA'\r\n",
        "!bash -c 'mv *virus*.jpeg ../VIRUS'\r\n",
        "%cd ..\r\n",
        "!rmdir PNEUMONIA\r\n",
        "!ls\r\n",
        "\r\n",
        "# prepare three-way categorical data for training\r\n",
        "%cd ../test\r\n",
        "!mkdir VIRUS\r\n",
        "!mkdir BACTERIA\r\n",
        "%cd PNEUMONIA\r\n",
        "!bash -c 'mv *bacteria*.jpeg ../BACTERIA'\r\n",
        "!bash -c 'mv *virus*.jpeg ../VIRUS'\r\n",
        "%cd ..\r\n",
        "!rmdir PNEUMONIA\r\n",
        "%cd ../../.."
      ],
      "execution_count": null,
      "outputs": []
    },
    {
      "cell_type": "markdown",
      "metadata": {
        "id": "yZ3LzPP8hkEb"
      },
      "source": [
        "## Simple CNN"
      ]
    },
    {
      "cell_type": "markdown",
      "metadata": {
        "id": "qVfJC1S0ls1N"
      },
      "source": [
        "### training"
      ]
    },
    {
      "cell_type": "markdown",
      "metadata": {
        "id": "9CIK9ilgls3L"
      },
      "source": [
        "### heatmaps"
      ]
    },
    {
      "cell_type": "markdown",
      "metadata": {
        "id": "qCCLX5xGls5B"
      },
      "source": [
        "## VGG-16"
      ]
    },
    {
      "cell_type": "markdown",
      "metadata": {
        "id": "7rSf536-ls6n"
      },
      "source": [
        "### training"
      ]
    },
    {
      "cell_type": "markdown",
      "metadata": {
        "id": "eK9TYCDOhkGx"
      },
      "source": [
        "### heatmaps"
      ]
    },
    {
      "cell_type": "markdown",
      "metadata": {
        "id": "d1cjkJjbhn9K"
      },
      "source": [
        "## XCeption"
      ]
    },
    {
      "cell_type": "markdown",
      "metadata": {
        "id": "ojdFTJYVu7TV"
      },
      "source": [
        "### training"
      ]
    },
    {
      "cell_type": "markdown",
      "metadata": {
        "id": "FF0-Rh_Wu7Zf"
      },
      "source": [
        "### heatmaps\r\n"
      ]
    },
    {
      "cell_type": "markdown",
      "metadata": {
        "id": "YpCkWtOi9snd"
      },
      "source": [
        "# Conclusions"
      ]
    }
  ]
}